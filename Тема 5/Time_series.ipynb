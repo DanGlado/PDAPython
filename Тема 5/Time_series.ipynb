{
 "cells": [
  {
   "cell_type": "markdown",
   "metadata": {
    "id": "lzzjKBePmJ8a"
   },
   "source": [
    "<img src=\"../Img/banner-fa-49-2.png\">\n",
    "<p>5 октября 2021 года, ВМ/451 (ул. Верхняя Масловка, д. 15)</p>\n",
    "\n",
    "# Тема 5. Анализ временных рядов\n",
    "\n",
    "Студенты: Поток:УЦИ20-1<br>\n",
    "Преподаватель: Смирнов Михаил Викторович, доцент Департамента Анализа данных и машинного обучения Финансового университета при Правительстве Российской Федерации"
   ]
  },
  {
   "cell_type": "markdown",
   "metadata": {
    "id": "8tZigpCezdKV"
   },
   "source": [
    "Задание. Имеется файл с информацией об изменении цены акции Apple за период времени. Построить график динамики и линию тренда по значению цены закрытия. Построить гистограмму. В процессе выполнения задания необходимо преобразовать данные к типу даты и числа, где это необходимо."
   ]
  },
  {
   "cell_type": "markdown",
   "metadata": {
    "id": "8ZcmXKePo66-"
   },
   "source": [
    "Файл с данными: *HistoricPricesappleBAE.csv* находится в папке *Data*. Источник: https://www.finanz.ru"
   ]
  },
  {
   "cell_type": "code",
   "execution_count": 69,
   "metadata": {
    "id": "xGPTjc8bvDPa"
   },
   "outputs": [],
   "source": [
    "import pandas as pd\n",
    "import numpy as np\n",
    "import matplotlib.pyplot as plt\n",
    "from datetime import datetime as dt\n",
    "%matplotlib inline"
   ]
  },
  {
   "cell_type": "markdown",
   "metadata": {
    "id": "Ea122K_0xYdL"
   },
   "source": [
    "Создадим таблицу - объект *DataFrame*"
   ]
  },
  {
   "cell_type": "code",
   "execution_count": 4,
   "metadata": {
    "id": "QHy-qCRexWRZ"
   },
   "outputs": [
    {
     "data": {
      "text/html": [
       "<div>\n",
       "<style scoped>\n",
       "    .dataframe tbody tr th:only-of-type {\n",
       "        vertical-align: middle;\n",
       "    }\n",
       "\n",
       "    .dataframe tbody tr th {\n",
       "        vertical-align: top;\n",
       "    }\n",
       "\n",
       "    .dataframe thead th {\n",
       "        text-align: right;\n",
       "    }\n",
       "</style>\n",
       "<table border=\"1\" class=\"dataframe\">\n",
       "  <thead>\n",
       "    <tr style=\"text-align: right;\">\n",
       "      <th></th>\n",
       "      <th>&lt;TICKER&gt;</th>\n",
       "      <th>&lt;PER&gt;</th>\n",
       "      <th>&lt;DATE&gt;</th>\n",
       "      <th>&lt;TIME&gt;</th>\n",
       "      <th>&lt;OPEN&gt;</th>\n",
       "      <th>&lt;HIGH&gt;</th>\n",
       "      <th>&lt;LOW&gt;</th>\n",
       "      <th>&lt;CLOSE&gt;</th>\n",
       "      <th>&lt;VOL&gt;</th>\n",
       "    </tr>\n",
       "  </thead>\n",
       "  <tbody>\n",
       "    <tr>\n",
       "      <th>0</th>\n",
       "      <td>US1.AAPL</td>\n",
       "      <td>D</td>\n",
       "      <td>01/06/21</td>\n",
       "      <td>0</td>\n",
       "      <td>125.08</td>\n",
       "      <td>125.35</td>\n",
       "      <td>123.94</td>\n",
       "      <td>124.30</td>\n",
       "      <td>2708254</td>\n",
       "    </tr>\n",
       "    <tr>\n",
       "      <th>1</th>\n",
       "      <td>US1.AAPL</td>\n",
       "      <td>D</td>\n",
       "      <td>02/06/21</td>\n",
       "      <td>0</td>\n",
       "      <td>124.29</td>\n",
       "      <td>125.23</td>\n",
       "      <td>124.05</td>\n",
       "      <td>125.09</td>\n",
       "      <td>2569184</td>\n",
       "    </tr>\n",
       "    <tr>\n",
       "      <th>2</th>\n",
       "      <td>US1.AAPL</td>\n",
       "      <td>D</td>\n",
       "      <td>03/06/21</td>\n",
       "      <td>0</td>\n",
       "      <td>124.63</td>\n",
       "      <td>124.85</td>\n",
       "      <td>123.14</td>\n",
       "      <td>123.55</td>\n",
       "      <td>3187672</td>\n",
       "    </tr>\n",
       "    <tr>\n",
       "      <th>3</th>\n",
       "      <td>US1.AAPL</td>\n",
       "      <td>D</td>\n",
       "      <td>04/06/21</td>\n",
       "      <td>0</td>\n",
       "      <td>124.07</td>\n",
       "      <td>126.15</td>\n",
       "      <td>123.86</td>\n",
       "      <td>125.86</td>\n",
       "      <td>3235599</td>\n",
       "    </tr>\n",
       "    <tr>\n",
       "      <th>4</th>\n",
       "      <td>US1.AAPL</td>\n",
       "      <td>D</td>\n",
       "      <td>07/06/21</td>\n",
       "      <td>0</td>\n",
       "      <td>126.18</td>\n",
       "      <td>126.31</td>\n",
       "      <td>124.84</td>\n",
       "      <td>125.94</td>\n",
       "      <td>3106377</td>\n",
       "    </tr>\n",
       "    <tr>\n",
       "      <th>...</th>\n",
       "      <td>...</td>\n",
       "      <td>...</td>\n",
       "      <td>...</td>\n",
       "      <td>...</td>\n",
       "      <td>...</td>\n",
       "      <td>...</td>\n",
       "      <td>...</td>\n",
       "      <td>...</td>\n",
       "      <td>...</td>\n",
       "    </tr>\n",
       "    <tr>\n",
       "      <th>82</th>\n",
       "      <td>US1.AAPL</td>\n",
       "      <td>D</td>\n",
       "      <td>27/09/21</td>\n",
       "      <td>0</td>\n",
       "      <td>145.40</td>\n",
       "      <td>145.96</td>\n",
       "      <td>143.83</td>\n",
       "      <td>145.39</td>\n",
       "      <td>3504880</td>\n",
       "    </tr>\n",
       "    <tr>\n",
       "      <th>83</th>\n",
       "      <td>US1.AAPL</td>\n",
       "      <td>D</td>\n",
       "      <td>28/09/21</td>\n",
       "      <td>0</td>\n",
       "      <td>143.19</td>\n",
       "      <td>144.75</td>\n",
       "      <td>141.70</td>\n",
       "      <td>141.95</td>\n",
       "      <td>5602142</td>\n",
       "    </tr>\n",
       "    <tr>\n",
       "      <th>84</th>\n",
       "      <td>US1.AAPL</td>\n",
       "      <td>D</td>\n",
       "      <td>29/09/21</td>\n",
       "      <td>0</td>\n",
       "      <td>142.47</td>\n",
       "      <td>144.45</td>\n",
       "      <td>142.03</td>\n",
       "      <td>142.86</td>\n",
       "      <td>3205269</td>\n",
       "    </tr>\n",
       "    <tr>\n",
       "      <th>85</th>\n",
       "      <td>US1.AAPL</td>\n",
       "      <td>D</td>\n",
       "      <td>30/09/21</td>\n",
       "      <td>0</td>\n",
       "      <td>143.67</td>\n",
       "      <td>144.37</td>\n",
       "      <td>141.29</td>\n",
       "      <td>141.36</td>\n",
       "      <td>4102531</td>\n",
       "    </tr>\n",
       "    <tr>\n",
       "      <th>86</th>\n",
       "      <td>US1.AAPL</td>\n",
       "      <td>D</td>\n",
       "      <td>01/10/21</td>\n",
       "      <td>0</td>\n",
       "      <td>141.89</td>\n",
       "      <td>142.91</td>\n",
       "      <td>139.13</td>\n",
       "      <td>142.42</td>\n",
       "      <td>4233615</td>\n",
       "    </tr>\n",
       "  </tbody>\n",
       "</table>\n",
       "<p>87 rows × 9 columns</p>\n",
       "</div>"
      ],
      "text/plain": [
       "    <TICKER> <PER>    <DATE>  <TIME>  <OPEN>  <HIGH>   <LOW>  <CLOSE>    <VOL>\n",
       "0   US1.AAPL     D  01/06/21       0  125.08  125.35  123.94   124.30  2708254\n",
       "1   US1.AAPL     D  02/06/21       0  124.29  125.23  124.05   125.09  2569184\n",
       "2   US1.AAPL     D  03/06/21       0  124.63  124.85  123.14   123.55  3187672\n",
       "3   US1.AAPL     D  04/06/21       0  124.07  126.15  123.86   125.86  3235599\n",
       "4   US1.AAPL     D  07/06/21       0  126.18  126.31  124.84   125.94  3106377\n",
       "..       ...   ...       ...     ...     ...     ...     ...      ...      ...\n",
       "82  US1.AAPL     D  27/09/21       0  145.40  145.96  143.83   145.39  3504880\n",
       "83  US1.AAPL     D  28/09/21       0  143.19  144.75  141.70   141.95  5602142\n",
       "84  US1.AAPL     D  29/09/21       0  142.47  144.45  142.03   142.86  3205269\n",
       "85  US1.AAPL     D  30/09/21       0  143.67  144.37  141.29   141.36  4102531\n",
       "86  US1.AAPL     D  01/10/21       0  141.89  142.91  139.13   142.42  4233615\n",
       "\n",
       "[87 rows x 9 columns]"
      ]
     },
     "execution_count": 4,
     "metadata": {},
     "output_type": "execute_result"
    }
   ],
   "source": [
    "df = pd.read_csv('Data/US1.AAPL_210601_210930.csv', sep=';')\n",
    "df"
   ]
  },
  {
   "cell_type": "markdown",
   "metadata": {
    "id": "7jbL24qDyg_V"
   },
   "source": [
    "Для получения краткой информации о *df* используем метод **_info()_**"
   ]
  },
  {
   "cell_type": "code",
   "execution_count": 5,
   "metadata": {
    "colab": {
     "base_uri": "https://localhost:8080/"
    },
    "id": "hYZEiigGyYY9",
    "outputId": "cd2ce1ee-713a-45b9-c131-4fe8d8ce1e01"
   },
   "outputs": [
    {
     "name": "stdout",
     "output_type": "stream",
     "text": [
      "<class 'pandas.core.frame.DataFrame'>\n",
      "RangeIndex: 87 entries, 0 to 86\n",
      "Data columns (total 9 columns):\n",
      " #   Column    Non-Null Count  Dtype  \n",
      "---  ------    --------------  -----  \n",
      " 0   <TICKER>  87 non-null     object \n",
      " 1   <PER>     87 non-null     object \n",
      " 2   <DATE>    87 non-null     object \n",
      " 3   <TIME>    87 non-null     int64  \n",
      " 4   <OPEN>    87 non-null     float64\n",
      " 5   <HIGH>    87 non-null     float64\n",
      " 6   <LOW>     87 non-null     float64\n",
      " 7   <CLOSE>   87 non-null     float64\n",
      " 8   <VOL>     87 non-null     int64  \n",
      "dtypes: float64(4), int64(2), object(3)\n",
      "memory usage: 6.2+ KB\n"
     ]
    }
   ],
   "source": [
    "df.info()"
   ]
  },
  {
   "cell_type": "markdown",
   "metadata": {
    "id": "IJt5ZBp57-35"
   },
   "source": [
    "Столбец *<Date>* имеет тип 'object'. Проведем преобразование типов."
   ]
  },
  {
   "cell_type": "code",
   "execution_count": 8,
   "metadata": {
    "colab": {
     "base_uri": "https://localhost:8080/",
     "height": 423
    },
    "id": "Y8TWk0SQ3lUo",
    "outputId": "295248ae-bf1b-4b76-a089-63ee79d35417"
   },
   "outputs": [],
   "source": [
    "#df['<CLOSE>'] = df['<CLOSE>'].str.replace(',', '.')\n",
    "#df['<CLOSE>'] = pd.to_numeric(df['<CLOSE>'])\n",
    "df['<DATE>'] = pd.to_datetime(df['<DATE>'], dayfirst=True)"
   ]
  },
  {
   "cell_type": "code",
   "execution_count": 10,
   "metadata": {},
   "outputs": [
    {
     "data": {
      "text/html": [
       "<div>\n",
       "<style scoped>\n",
       "    .dataframe tbody tr th:only-of-type {\n",
       "        vertical-align: middle;\n",
       "    }\n",
       "\n",
       "    .dataframe tbody tr th {\n",
       "        vertical-align: top;\n",
       "    }\n",
       "\n",
       "    .dataframe thead th {\n",
       "        text-align: right;\n",
       "    }\n",
       "</style>\n",
       "<table border=\"1\" class=\"dataframe\">\n",
       "  <thead>\n",
       "    <tr style=\"text-align: right;\">\n",
       "      <th></th>\n",
       "      <th>&lt;TICKER&gt;</th>\n",
       "      <th>&lt;PER&gt;</th>\n",
       "      <th>&lt;DATE&gt;</th>\n",
       "      <th>&lt;TIME&gt;</th>\n",
       "      <th>&lt;OPEN&gt;</th>\n",
       "      <th>&lt;HIGH&gt;</th>\n",
       "      <th>&lt;LOW&gt;</th>\n",
       "      <th>&lt;CLOSE&gt;</th>\n",
       "      <th>&lt;VOL&gt;</th>\n",
       "    </tr>\n",
       "  </thead>\n",
       "  <tbody>\n",
       "    <tr>\n",
       "      <th>0</th>\n",
       "      <td>US1.AAPL</td>\n",
       "      <td>D</td>\n",
       "      <td>2021-06-01</td>\n",
       "      <td>0</td>\n",
       "      <td>125.08</td>\n",
       "      <td>125.35</td>\n",
       "      <td>123.94</td>\n",
       "      <td>124.30</td>\n",
       "      <td>2708254</td>\n",
       "    </tr>\n",
       "    <tr>\n",
       "      <th>1</th>\n",
       "      <td>US1.AAPL</td>\n",
       "      <td>D</td>\n",
       "      <td>2021-06-02</td>\n",
       "      <td>0</td>\n",
       "      <td>124.29</td>\n",
       "      <td>125.23</td>\n",
       "      <td>124.05</td>\n",
       "      <td>125.09</td>\n",
       "      <td>2569184</td>\n",
       "    </tr>\n",
       "    <tr>\n",
       "      <th>2</th>\n",
       "      <td>US1.AAPL</td>\n",
       "      <td>D</td>\n",
       "      <td>2021-06-03</td>\n",
       "      <td>0</td>\n",
       "      <td>124.63</td>\n",
       "      <td>124.85</td>\n",
       "      <td>123.14</td>\n",
       "      <td>123.55</td>\n",
       "      <td>3187672</td>\n",
       "    </tr>\n",
       "    <tr>\n",
       "      <th>3</th>\n",
       "      <td>US1.AAPL</td>\n",
       "      <td>D</td>\n",
       "      <td>2021-06-04</td>\n",
       "      <td>0</td>\n",
       "      <td>124.07</td>\n",
       "      <td>126.15</td>\n",
       "      <td>123.86</td>\n",
       "      <td>125.86</td>\n",
       "      <td>3235599</td>\n",
       "    </tr>\n",
       "    <tr>\n",
       "      <th>4</th>\n",
       "      <td>US1.AAPL</td>\n",
       "      <td>D</td>\n",
       "      <td>2021-06-07</td>\n",
       "      <td>0</td>\n",
       "      <td>126.18</td>\n",
       "      <td>126.31</td>\n",
       "      <td>124.84</td>\n",
       "      <td>125.94</td>\n",
       "      <td>3106377</td>\n",
       "    </tr>\n",
       "  </tbody>\n",
       "</table>\n",
       "</div>"
      ],
      "text/plain": [
       "   <TICKER> <PER>     <DATE>  <TIME>  <OPEN>  <HIGH>   <LOW>  <CLOSE>    <VOL>\n",
       "0  US1.AAPL     D 2021-06-01       0  125.08  125.35  123.94   124.30  2708254\n",
       "1  US1.AAPL     D 2021-06-02       0  124.29  125.23  124.05   125.09  2569184\n",
       "2  US1.AAPL     D 2021-06-03       0  124.63  124.85  123.14   123.55  3187672\n",
       "3  US1.AAPL     D 2021-06-04       0  124.07  126.15  123.86   125.86  3235599\n",
       "4  US1.AAPL     D 2021-06-07       0  126.18  126.31  124.84   125.94  3106377"
      ]
     },
     "execution_count": 10,
     "metadata": {},
     "output_type": "execute_result"
    }
   ],
   "source": [
    "df.head()"
   ]
  },
  {
   "cell_type": "code",
   "execution_count": 11,
   "metadata": {
    "colab": {
     "base_uri": "https://localhost:8080/"
    },
    "id": "p41ueTQN7LAv",
    "outputId": "80738537-3f07-4acd-cee2-34fa0b0d99a1",
    "scrolled": true
   },
   "outputs": [
    {
     "name": "stdout",
     "output_type": "stream",
     "text": [
      "<class 'pandas.core.frame.DataFrame'>\n",
      "RangeIndex: 87 entries, 0 to 86\n",
      "Data columns (total 9 columns):\n",
      " #   Column    Non-Null Count  Dtype         \n",
      "---  ------    --------------  -----         \n",
      " 0   <TICKER>  87 non-null     object        \n",
      " 1   <PER>     87 non-null     object        \n",
      " 2   <DATE>    87 non-null     datetime64[ns]\n",
      " 3   <TIME>    87 non-null     int64         \n",
      " 4   <OPEN>    87 non-null     float64       \n",
      " 5   <HIGH>    87 non-null     float64       \n",
      " 6   <LOW>     87 non-null     float64       \n",
      " 7   <CLOSE>   87 non-null     float64       \n",
      " 8   <VOL>     87 non-null     int64         \n",
      "dtypes: datetime64[ns](1), float64(4), int64(2), object(2)\n",
      "memory usage: 6.2+ KB\n"
     ]
    }
   ],
   "source": [
    "df.info()"
   ]
  },
  {
   "cell_type": "markdown",
   "metadata": {
    "id": "qDmnyw-O8n_R"
   },
   "source": [
    "Теперь *`<DATE>`* - это дата"
   ]
  },
  {
   "cell_type": "markdown",
   "metadata": {
    "id": "Pdi3EkcwCvfy"
   },
   "source": [
    "Отсортируем по дате"
   ]
  },
  {
   "cell_type": "code",
   "execution_count": 13,
   "metadata": {
    "colab": {
     "base_uri": "https://localhost:8080/",
     "height": 423
    },
    "id": "9lHfwbZkC3Ub",
    "outputId": "534158b2-1d95-4b41-c453-17d6e1c715e4"
   },
   "outputs": [
    {
     "data": {
      "text/html": [
       "<div>\n",
       "<style scoped>\n",
       "    .dataframe tbody tr th:only-of-type {\n",
       "        vertical-align: middle;\n",
       "    }\n",
       "\n",
       "    .dataframe tbody tr th {\n",
       "        vertical-align: top;\n",
       "    }\n",
       "\n",
       "    .dataframe thead th {\n",
       "        text-align: right;\n",
       "    }\n",
       "</style>\n",
       "<table border=\"1\" class=\"dataframe\">\n",
       "  <thead>\n",
       "    <tr style=\"text-align: right;\">\n",
       "      <th></th>\n",
       "      <th>&lt;TICKER&gt;</th>\n",
       "      <th>&lt;PER&gt;</th>\n",
       "      <th>&lt;DATE&gt;</th>\n",
       "      <th>&lt;TIME&gt;</th>\n",
       "      <th>&lt;OPEN&gt;</th>\n",
       "      <th>&lt;HIGH&gt;</th>\n",
       "      <th>&lt;LOW&gt;</th>\n",
       "      <th>&lt;CLOSE&gt;</th>\n",
       "      <th>&lt;VOL&gt;</th>\n",
       "    </tr>\n",
       "  </thead>\n",
       "  <tbody>\n",
       "    <tr>\n",
       "      <th>0</th>\n",
       "      <td>US1.AAPL</td>\n",
       "      <td>D</td>\n",
       "      <td>2021-06-01</td>\n",
       "      <td>0</td>\n",
       "      <td>125.08</td>\n",
       "      <td>125.35</td>\n",
       "      <td>123.94</td>\n",
       "      <td>124.30</td>\n",
       "      <td>2708254</td>\n",
       "    </tr>\n",
       "    <tr>\n",
       "      <th>1</th>\n",
       "      <td>US1.AAPL</td>\n",
       "      <td>D</td>\n",
       "      <td>2021-06-02</td>\n",
       "      <td>0</td>\n",
       "      <td>124.29</td>\n",
       "      <td>125.23</td>\n",
       "      <td>124.05</td>\n",
       "      <td>125.09</td>\n",
       "      <td>2569184</td>\n",
       "    </tr>\n",
       "    <tr>\n",
       "      <th>2</th>\n",
       "      <td>US1.AAPL</td>\n",
       "      <td>D</td>\n",
       "      <td>2021-06-03</td>\n",
       "      <td>0</td>\n",
       "      <td>124.63</td>\n",
       "      <td>124.85</td>\n",
       "      <td>123.14</td>\n",
       "      <td>123.55</td>\n",
       "      <td>3187672</td>\n",
       "    </tr>\n",
       "    <tr>\n",
       "      <th>3</th>\n",
       "      <td>US1.AAPL</td>\n",
       "      <td>D</td>\n",
       "      <td>2021-06-04</td>\n",
       "      <td>0</td>\n",
       "      <td>124.07</td>\n",
       "      <td>126.15</td>\n",
       "      <td>123.86</td>\n",
       "      <td>125.86</td>\n",
       "      <td>3235599</td>\n",
       "    </tr>\n",
       "    <tr>\n",
       "      <th>4</th>\n",
       "      <td>US1.AAPL</td>\n",
       "      <td>D</td>\n",
       "      <td>2021-06-07</td>\n",
       "      <td>0</td>\n",
       "      <td>126.18</td>\n",
       "      <td>126.31</td>\n",
       "      <td>124.84</td>\n",
       "      <td>125.94</td>\n",
       "      <td>3106377</td>\n",
       "    </tr>\n",
       "  </tbody>\n",
       "</table>\n",
       "</div>"
      ],
      "text/plain": [
       "   <TICKER> <PER>     <DATE>  <TIME>  <OPEN>  <HIGH>   <LOW>  <CLOSE>    <VOL>\n",
       "0  US1.AAPL     D 2021-06-01       0  125.08  125.35  123.94   124.30  2708254\n",
       "1  US1.AAPL     D 2021-06-02       0  124.29  125.23  124.05   125.09  2569184\n",
       "2  US1.AAPL     D 2021-06-03       0  124.63  124.85  123.14   123.55  3187672\n",
       "3  US1.AAPL     D 2021-06-04       0  124.07  126.15  123.86   125.86  3235599\n",
       "4  US1.AAPL     D 2021-06-07       0  126.18  126.31  124.84   125.94  3106377"
      ]
     },
     "execution_count": 13,
     "metadata": {},
     "output_type": "execute_result"
    }
   ],
   "source": [
    "df.sort_values(by='<DATE>', inplace=True)\n",
    "df.head()"
   ]
  },
  {
   "cell_type": "code",
   "execution_count": 14,
   "metadata": {
    "colab": {
     "base_uri": "https://localhost:8080/",
     "height": 339
    },
    "id": "vdTqJlqOEwI-",
    "outputId": "7f62b89e-7540-4878-e551-0347c6096603"
   },
   "outputs": [
    {
     "data": {
      "image/png": "[encoded data removed]",
      "text/plain": [
       "<Figure size 864x360 with 1 Axes>"
      ]
     },
     "metadata": {
      "needs_background": "light"
     },
     "output_type": "display_data"
    }
   ],
   "source": [
    "plt.figure(figsize=(12, 5))\n",
    "x = df['<DATE>']\n",
    "y = df['<CLOSE>']\n",
    "plt.plot(x, y)\n",
    "plt.grid();"
   ]
  },
  {
   "cell_type": "markdown",
   "metadata": {
    "id": "By4mHwYB-CQR"
   },
   "source": [
    "Построим линию тренда\n",
    "\n",
    "$$ y = a + b \\cdot x $$\n",
    "\n",
    "Найдем параметры линии тренда\n",
    "\n",
    "$$\n",
    "b=\\frac{cov(x,y)}{Disp_x}\n",
    "$$\n",
    "\n",
    "$$\n",
    "a=E(y)- b \\cdot E(x)\n",
    "$$\n",
    "\n",
    "Создадим столбец с номером измерения, значения которого начинаются от 1"
   ]
  },
  {
   "cell_type": "code",
   "execution_count": 17,
   "metadata": {
    "colab": {
     "base_uri": "https://localhost:8080/",
     "height": 423
    },
    "id": "mi67KszZ9zJC",
    "outputId": "7785a377-451a-43b3-d5f4-c61f9e374d78",
    "scrolled": false
   },
   "outputs": [
    {
     "data": {
      "text/html": [
       "<div>\n",
       "<style scoped>\n",
       "    .dataframe tbody tr th:only-of-type {\n",
       "        vertical-align: middle;\n",
       "    }\n",
       "\n",
       "    .dataframe tbody tr th {\n",
       "        vertical-align: top;\n",
       "    }\n",
       "\n",
       "    .dataframe thead th {\n",
       "        text-align: right;\n",
       "    }\n",
       "</style>\n",
       "<table border=\"1\" class=\"dataframe\">\n",
       "  <thead>\n",
       "    <tr style=\"text-align: right;\">\n",
       "      <th></th>\n",
       "      <th>&lt;TICKER&gt;</th>\n",
       "      <th>&lt;PER&gt;</th>\n",
       "      <th>&lt;DATE&gt;</th>\n",
       "      <th>&lt;TIME&gt;</th>\n",
       "      <th>&lt;OPEN&gt;</th>\n",
       "      <th>&lt;HIGH&gt;</th>\n",
       "      <th>&lt;LOW&gt;</th>\n",
       "      <th>&lt;CLOSE&gt;</th>\n",
       "      <th>&lt;VOL&gt;</th>\n",
       "      <th>No</th>\n",
       "    </tr>\n",
       "  </thead>\n",
       "  <tbody>\n",
       "    <tr>\n",
       "      <th>0</th>\n",
       "      <td>US1.AAPL</td>\n",
       "      <td>D</td>\n",
       "      <td>2021-06-01</td>\n",
       "      <td>0</td>\n",
       "      <td>125.08</td>\n",
       "      <td>125.35</td>\n",
       "      <td>123.94</td>\n",
       "      <td>124.30</td>\n",
       "      <td>2708254</td>\n",
       "      <td>1</td>\n",
       "    </tr>\n",
       "    <tr>\n",
       "      <th>1</th>\n",
       "      <td>US1.AAPL</td>\n",
       "      <td>D</td>\n",
       "      <td>2021-06-02</td>\n",
       "      <td>0</td>\n",
       "      <td>124.29</td>\n",
       "      <td>125.23</td>\n",
       "      <td>124.05</td>\n",
       "      <td>125.09</td>\n",
       "      <td>2569184</td>\n",
       "      <td>2</td>\n",
       "    </tr>\n",
       "    <tr>\n",
       "      <th>2</th>\n",
       "      <td>US1.AAPL</td>\n",
       "      <td>D</td>\n",
       "      <td>2021-06-03</td>\n",
       "      <td>0</td>\n",
       "      <td>124.63</td>\n",
       "      <td>124.85</td>\n",
       "      <td>123.14</td>\n",
       "      <td>123.55</td>\n",
       "      <td>3187672</td>\n",
       "      <td>3</td>\n",
       "    </tr>\n",
       "    <tr>\n",
       "      <th>3</th>\n",
       "      <td>US1.AAPL</td>\n",
       "      <td>D</td>\n",
       "      <td>2021-06-04</td>\n",
       "      <td>0</td>\n",
       "      <td>124.07</td>\n",
       "      <td>126.15</td>\n",
       "      <td>123.86</td>\n",
       "      <td>125.86</td>\n",
       "      <td>3235599</td>\n",
       "      <td>4</td>\n",
       "    </tr>\n",
       "    <tr>\n",
       "      <th>4</th>\n",
       "      <td>US1.AAPL</td>\n",
       "      <td>D</td>\n",
       "      <td>2021-06-07</td>\n",
       "      <td>0</td>\n",
       "      <td>126.18</td>\n",
       "      <td>126.31</td>\n",
       "      <td>124.84</td>\n",
       "      <td>125.94</td>\n",
       "      <td>3106377</td>\n",
       "      <td>5</td>\n",
       "    </tr>\n",
       "  </tbody>\n",
       "</table>\n",
       "</div>"
      ],
      "text/plain": [
       "   <TICKER> <PER>     <DATE>  <TIME>  <OPEN>  <HIGH>   <LOW>  <CLOSE>  \\\n",
       "0  US1.AAPL     D 2021-06-01       0  125.08  125.35  123.94   124.30   \n",
       "1  US1.AAPL     D 2021-06-02       0  124.29  125.23  124.05   125.09   \n",
       "2  US1.AAPL     D 2021-06-03       0  124.63  124.85  123.14   123.55   \n",
       "3  US1.AAPL     D 2021-06-04       0  124.07  126.15  123.86   125.86   \n",
       "4  US1.AAPL     D 2021-06-07       0  126.18  126.31  124.84   125.94   \n",
       "\n",
       "     <VOL>  No  \n",
       "0  2708254   1  \n",
       "1  2569184   2  \n",
       "2  3187672   3  \n",
       "3  3235599   4  \n",
       "4  3106377   5  "
      ]
     },
     "execution_count": 17,
     "metadata": {},
     "output_type": "execute_result"
    }
   ],
   "source": [
    "df['No'] = pd.Series(np.arange(1, len(df)+1))\n",
    "df.head()"
   ]
  },
  {
   "cell_type": "markdown",
   "metadata": {},
   "source": [
    "Найдем ковариационную матрицу показателей `<CLOSE>` и `No`"
   ]
  },
  {
   "cell_type": "code",
   "execution_count": 18,
   "metadata": {
    "colab": {
     "base_uri": "https://localhost:8080/"
    },
    "id": "Hy-XRqeEA1ls",
    "outputId": "663b6c8c-f0de-45fd-f89a-0a949a740be9"
   },
   "outputs": [
    {
     "data": {
      "text/plain": [
       "array([[ 70.48023128, 162.85069767],\n",
       "       [162.85069767, 638.        ]])"
      ]
     },
     "execution_count": 18,
     "metadata": {},
     "output_type": "execute_result"
    }
   ],
   "source": [
    "cov_matrix = np.cov(df['<CLOSE>'], df['No'])\n",
    "cov_matrix"
   ]
  },
  {
   "cell_type": "code",
   "execution_count": 20,
   "metadata": {
    "scrolled": true
   },
   "outputs": [
    {
     "name": "stdout",
     "output_type": "stream",
     "text": [
      "162.85069767441865\n"
     ]
    }
   ],
   "source": [
    "cov_xy=cov_matrix[0,1]\n",
    "print(cov_xy)"
   ]
  },
  {
   "cell_type": "code",
   "execution_count": 21,
   "metadata": {
    "colab": {
     "base_uri": "https://localhost:8080/"
    },
    "id": "WsNvg3nWIinw",
    "outputId": "bb318bdd-cf76-4e43-8914-40ba69f9483a"
   },
   "outputs": [
    {
     "data": {
      "text/plain": [
       "638.0000000000001"
      ]
     },
     "execution_count": 21,
     "metadata": {},
     "output_type": "execute_result"
    }
   ],
   "source": [
    "disp_x = df['No'].std()**2\n",
    "disp_x"
   ]
  },
  {
   "cell_type": "code",
   "execution_count": 22,
   "metadata": {
    "colab": {
     "base_uri": "https://localhost:8080/"
    },
    "id": "qV4_MSiSIyWQ",
    "outputId": "8f10eb98-da1d-4b73-bf77-ff5e2d0900a5"
   },
   "outputs": [
    {
     "name": "stdout",
     "output_type": "stream",
     "text": [
      "131.57926222935052 0.2552518772326311\n"
     ]
    }
   ],
   "source": [
    "b = cov_xy / disp_x\n",
    "a = df['<CLOSE>'].mean() - b*df['No'].mean()\n",
    "print(a, b)"
   ]
  },
  {
   "cell_type": "code",
   "execution_count": 23,
   "metadata": {
    "colab": {
     "base_uri": "https://localhost:8080/",
     "height": 423
    },
    "id": "gtKtU2t6Bt9H",
    "outputId": "d1310331-04e9-4676-c34f-dce389ed9824"
   },
   "outputs": [
    {
     "data": {
      "text/html": [
       "<div>\n",
       "<style scoped>\n",
       "    .dataframe tbody tr th:only-of-type {\n",
       "        vertical-align: middle;\n",
       "    }\n",
       "\n",
       "    .dataframe tbody tr th {\n",
       "        vertical-align: top;\n",
       "    }\n",
       "\n",
       "    .dataframe thead th {\n",
       "        text-align: right;\n",
       "    }\n",
       "</style>\n",
       "<table border=\"1\" class=\"dataframe\">\n",
       "  <thead>\n",
       "    <tr style=\"text-align: right;\">\n",
       "      <th></th>\n",
       "      <th>&lt;TICKER&gt;</th>\n",
       "      <th>&lt;PER&gt;</th>\n",
       "      <th>&lt;DATE&gt;</th>\n",
       "      <th>&lt;TIME&gt;</th>\n",
       "      <th>&lt;OPEN&gt;</th>\n",
       "      <th>&lt;HIGH&gt;</th>\n",
       "      <th>&lt;LOW&gt;</th>\n",
       "      <th>&lt;CLOSE&gt;</th>\n",
       "      <th>&lt;VOL&gt;</th>\n",
       "      <th>No</th>\n",
       "      <th>Trend</th>\n",
       "    </tr>\n",
       "  </thead>\n",
       "  <tbody>\n",
       "    <tr>\n",
       "      <th>0</th>\n",
       "      <td>US1.AAPL</td>\n",
       "      <td>D</td>\n",
       "      <td>2021-06-01</td>\n",
       "      <td>0</td>\n",
       "      <td>125.08</td>\n",
       "      <td>125.35</td>\n",
       "      <td>123.94</td>\n",
       "      <td>124.30</td>\n",
       "      <td>2708254</td>\n",
       "      <td>1</td>\n",
       "      <td>131.834514</td>\n",
       "    </tr>\n",
       "    <tr>\n",
       "      <th>1</th>\n",
       "      <td>US1.AAPL</td>\n",
       "      <td>D</td>\n",
       "      <td>2021-06-02</td>\n",
       "      <td>0</td>\n",
       "      <td>124.29</td>\n",
       "      <td>125.23</td>\n",
       "      <td>124.05</td>\n",
       "      <td>125.09</td>\n",
       "      <td>2569184</td>\n",
       "      <td>2</td>\n",
       "      <td>132.089766</td>\n",
       "    </tr>\n",
       "    <tr>\n",
       "      <th>2</th>\n",
       "      <td>US1.AAPL</td>\n",
       "      <td>D</td>\n",
       "      <td>2021-06-03</td>\n",
       "      <td>0</td>\n",
       "      <td>124.63</td>\n",
       "      <td>124.85</td>\n",
       "      <td>123.14</td>\n",
       "      <td>123.55</td>\n",
       "      <td>3187672</td>\n",
       "      <td>3</td>\n",
       "      <td>132.345018</td>\n",
       "    </tr>\n",
       "    <tr>\n",
       "      <th>3</th>\n",
       "      <td>US1.AAPL</td>\n",
       "      <td>D</td>\n",
       "      <td>2021-06-04</td>\n",
       "      <td>0</td>\n",
       "      <td>124.07</td>\n",
       "      <td>126.15</td>\n",
       "      <td>123.86</td>\n",
       "      <td>125.86</td>\n",
       "      <td>3235599</td>\n",
       "      <td>4</td>\n",
       "      <td>132.600270</td>\n",
       "    </tr>\n",
       "    <tr>\n",
       "      <th>4</th>\n",
       "      <td>US1.AAPL</td>\n",
       "      <td>D</td>\n",
       "      <td>2021-06-07</td>\n",
       "      <td>0</td>\n",
       "      <td>126.18</td>\n",
       "      <td>126.31</td>\n",
       "      <td>124.84</td>\n",
       "      <td>125.94</td>\n",
       "      <td>3106377</td>\n",
       "      <td>5</td>\n",
       "      <td>132.855522</td>\n",
       "    </tr>\n",
       "  </tbody>\n",
       "</table>\n",
       "</div>"
      ],
      "text/plain": [
       "   <TICKER> <PER>     <DATE>  <TIME>  <OPEN>  <HIGH>   <LOW>  <CLOSE>  \\\n",
       "0  US1.AAPL     D 2021-06-01       0  125.08  125.35  123.94   124.30   \n",
       "1  US1.AAPL     D 2021-06-02       0  124.29  125.23  124.05   125.09   \n",
       "2  US1.AAPL     D 2021-06-03       0  124.63  124.85  123.14   123.55   \n",
       "3  US1.AAPL     D 2021-06-04       0  124.07  126.15  123.86   125.86   \n",
       "4  US1.AAPL     D 2021-06-07       0  126.18  126.31  124.84   125.94   \n",
       "\n",
       "     <VOL>  No       Trend  \n",
       "0  2708254   1  131.834514  \n",
       "1  2569184   2  132.089766  \n",
       "2  3187672   3  132.345018  \n",
       "3  3235599   4  132.600270  \n",
       "4  3106377   5  132.855522  "
      ]
     },
     "execution_count": 23,
     "metadata": {},
     "output_type": "execute_result"
    }
   ],
   "source": [
    "df['Trend'] = a + b*df['No']\n",
    "df.head()"
   ]
  },
  {
   "cell_type": "code",
   "execution_count": 30,
   "metadata": {
    "colab": {
     "base_uri": "https://localhost:8080/",
     "height": 355
    },
    "id": "Z-Kv_QyqVpiw",
    "outputId": "7e5d3ae2-b514-48d0-e6c0-f33f7b66b0f4"
   },
   "outputs": [
    {
     "data": {
      "image/png": "[encoded data removed]",
      "text/plain": [
       "<Figure size 864x360 with 1 Axes>"
      ]
     },
     "metadata": {
      "needs_background": "light"
     },
     "output_type": "display_data"
    }
   ],
   "source": [
    "plt.figure(figsize=(12, 5))\n",
    "plt.title('Динамика цены акции Apple', loc='center')\n",
    "x = df['<DATE>']\n",
    "y = df['<CLOSE>']\n",
    "plt.plot(x, y, label = 'Цена')\n",
    "plt.plot(x, df['Trend'], label='Линия тренда')\n",
    "plt.legend(loc='lower right');"
   ]
  },
  {
   "cell_type": "code",
   "execution_count": 31,
   "metadata": {
    "colab": {
     "base_uri": "https://localhost:8080/",
     "height": 284
    },
    "id": "t9fPMF48X527",
    "outputId": "28117f07-0ae0-4f74-d58e-f367f78ce7e6"
   },
   "outputs": [
    {
     "data": {
      "text/plain": [
       "<matplotlib.axes._subplots.AxesSubplot at 0x1f1e3ba0688>"
      ]
     },
     "execution_count": 31,
     "metadata": {},
     "output_type": "execute_result"
    },
    {
     "data": {
      "image/png": "[encoded data removed]",
      "text/plain": [
       "<Figure size 432x288 with 1 Axes>"
      ]
     },
     "metadata": {
      "needs_background": "light"
     },
     "output_type": "display_data"
    }
   ],
   "source": [
    "df['<CLOSE>'].hist(bins=20)"
   ]
  },
  {
   "cell_type": "markdown",
   "metadata": {},
   "source": [
    "### Экспоненциальное сглаживание"
   ]
  },
  {
   "cell_type": "code",
   "execution_count": 33,
   "metadata": {},
   "outputs": [],
   "source": [
    "alfa = 0.1 # Начальное значение коэффициента сглаживания\n",
    "while alfa < 1: # выполняется цикл до тех пор, пока alfa меньше единицы\n",
    "  ExpColumnName = 'Exp0' + str(alfa)[2] # Формируем имя столбца сглаженных значений: Exp01, Exp02 и т. д. до Exp09\n",
    "  L = [] # Список, в который будем помещать сглаженные значения, сейчас он пуст\n",
    "  for i in range(len(df)): # создаем цикл от нуля до числа, равного числу строк в таблице минус один\n",
    "    if i == 0: # первый день\n",
    "      L.append(np.NaN) # добавляем в список пустое значение, так как сглаженного значения в первый день нет\n",
    "    elif i == 1: # второй день\n",
    "      L.append(df['<CLOSE>'][0]) # добавляем в список значение цены в первый день (строка с индексом [0])\n",
    "    else: # все последующие дни\n",
    "      L.append(alfa * df['<CLOSE>'][i-1] + (1-alfa) * L[i-1]) # добавляем в список сглаженное значение, сформированное из предыдущего значения цены и предыдущего значения списка\n",
    "  df[ExpColumnName] = pd.Series(L) # добавляем в датафрейм столбец, содержащий элементы сформированного списка сглаженных значений\n",
    "  alfa += 0.1 # приращение коэффициента сглаживания"
   ]
  },
  {
   "cell_type": "code",
   "execution_count": 34,
   "metadata": {
    "scrolled": true
   },
   "outputs": [
    {
     "data": {
      "text/html": [
       "<div>\n",
       "<style scoped>\n",
       "    .dataframe tbody tr th:only-of-type {\n",
       "        vertical-align: middle;\n",
       "    }\n",
       "\n",
       "    .dataframe tbody tr th {\n",
       "        vertical-align: top;\n",
       "    }\n",
       "\n",
       "    .dataframe thead th {\n",
       "        text-align: right;\n",
       "    }\n",
       "</style>\n",
       "<table border=\"1\" class=\"dataframe\">\n",
       "  <thead>\n",
       "    <tr style=\"text-align: right;\">\n",
       "      <th></th>\n",
       "      <th>&lt;TICKER&gt;</th>\n",
       "      <th>&lt;PER&gt;</th>\n",
       "      <th>&lt;DATE&gt;</th>\n",
       "      <th>&lt;TIME&gt;</th>\n",
       "      <th>&lt;OPEN&gt;</th>\n",
       "      <th>&lt;HIGH&gt;</th>\n",
       "      <th>&lt;LOW&gt;</th>\n",
       "      <th>&lt;CLOSE&gt;</th>\n",
       "      <th>&lt;VOL&gt;</th>\n",
       "      <th>No</th>\n",
       "      <th>Trend</th>\n",
       "      <th>Exp01</th>\n",
       "      <th>Exp02</th>\n",
       "      <th>Exp03</th>\n",
       "      <th>Exp04</th>\n",
       "      <th>Exp05</th>\n",
       "      <th>Exp06</th>\n",
       "      <th>Exp07</th>\n",
       "      <th>Exp08</th>\n",
       "      <th>Exp09</th>\n",
       "    </tr>\n",
       "  </thead>\n",
       "  <tbody>\n",
       "    <tr>\n",
       "      <th>0</th>\n",
       "      <td>US1.AAPL</td>\n",
       "      <td>D</td>\n",
       "      <td>2021-06-01</td>\n",
       "      <td>0</td>\n",
       "      <td>125.08</td>\n",
       "      <td>125.35</td>\n",
       "      <td>123.94</td>\n",
       "      <td>124.30</td>\n",
       "      <td>2708254</td>\n",
       "      <td>1</td>\n",
       "      <td>131.834514</td>\n",
       "      <td>NaN</td>\n",
       "      <td>NaN</td>\n",
       "      <td>NaN</td>\n",
       "      <td>NaN</td>\n",
       "      <td>NaN</td>\n",
       "      <td>NaN</td>\n",
       "      <td>NaN</td>\n",
       "      <td>NaN</td>\n",
       "      <td>NaN</td>\n",
       "    </tr>\n",
       "    <tr>\n",
       "      <th>1</th>\n",
       "      <td>US1.AAPL</td>\n",
       "      <td>D</td>\n",
       "      <td>2021-06-02</td>\n",
       "      <td>0</td>\n",
       "      <td>124.29</td>\n",
       "      <td>125.23</td>\n",
       "      <td>124.05</td>\n",
       "      <td>125.09</td>\n",
       "      <td>2569184</td>\n",
       "      <td>2</td>\n",
       "      <td>132.089766</td>\n",
       "      <td>124.300000</td>\n",
       "      <td>124.300000</td>\n",
       "      <td>124.300000</td>\n",
       "      <td>124.300000</td>\n",
       "      <td>124.300000</td>\n",
       "      <td>124.300000</td>\n",
       "      <td>124.300000</td>\n",
       "      <td>124.300000</td>\n",
       "      <td>124.30</td>\n",
       "    </tr>\n",
       "    <tr>\n",
       "      <th>2</th>\n",
       "      <td>US1.AAPL</td>\n",
       "      <td>D</td>\n",
       "      <td>2021-06-03</td>\n",
       "      <td>0</td>\n",
       "      <td>124.63</td>\n",
       "      <td>124.85</td>\n",
       "      <td>123.14</td>\n",
       "      <td>123.55</td>\n",
       "      <td>3187672</td>\n",
       "      <td>3</td>\n",
       "      <td>132.345018</td>\n",
       "      <td>124.379000</td>\n",
       "      <td>124.458000</td>\n",
       "      <td>124.537000</td>\n",
       "      <td>124.616000</td>\n",
       "      <td>124.695000</td>\n",
       "      <td>124.774000</td>\n",
       "      <td>124.932000</td>\n",
       "      <td>125.011000</td>\n",
       "      <td>125.09</td>\n",
       "    </tr>\n",
       "    <tr>\n",
       "      <th>3</th>\n",
       "      <td>US1.AAPL</td>\n",
       "      <td>D</td>\n",
       "      <td>2021-06-04</td>\n",
       "      <td>0</td>\n",
       "      <td>124.07</td>\n",
       "      <td>126.15</td>\n",
       "      <td>123.86</td>\n",
       "      <td>125.86</td>\n",
       "      <td>3235599</td>\n",
       "      <td>4</td>\n",
       "      <td>132.600270</td>\n",
       "      <td>124.296100</td>\n",
       "      <td>124.276400</td>\n",
       "      <td>124.240900</td>\n",
       "      <td>124.189600</td>\n",
       "      <td>124.122500</td>\n",
       "      <td>124.039600</td>\n",
       "      <td>123.826400</td>\n",
       "      <td>123.696100</td>\n",
       "      <td>123.55</td>\n",
       "    </tr>\n",
       "    <tr>\n",
       "      <th>4</th>\n",
       "      <td>US1.AAPL</td>\n",
       "      <td>D</td>\n",
       "      <td>2021-06-07</td>\n",
       "      <td>0</td>\n",
       "      <td>126.18</td>\n",
       "      <td>126.31</td>\n",
       "      <td>124.84</td>\n",
       "      <td>125.94</td>\n",
       "      <td>3106377</td>\n",
       "      <td>5</td>\n",
       "      <td>132.855522</td>\n",
       "      <td>124.452490</td>\n",
       "      <td>124.593120</td>\n",
       "      <td>124.726630</td>\n",
       "      <td>124.857760</td>\n",
       "      <td>124.991250</td>\n",
       "      <td>125.131840</td>\n",
       "      <td>125.453280</td>\n",
       "      <td>125.643610</td>\n",
       "      <td>125.86</td>\n",
       "    </tr>\n",
       "    <tr>\n",
       "      <th>...</th>\n",
       "      <td>...</td>\n",
       "      <td>...</td>\n",
       "      <td>...</td>\n",
       "      <td>...</td>\n",
       "      <td>...</td>\n",
       "      <td>...</td>\n",
       "      <td>...</td>\n",
       "      <td>...</td>\n",
       "      <td>...</td>\n",
       "      <td>...</td>\n",
       "      <td>...</td>\n",
       "      <td>...</td>\n",
       "      <td>...</td>\n",
       "      <td>...</td>\n",
       "      <td>...</td>\n",
       "      <td>...</td>\n",
       "      <td>...</td>\n",
       "      <td>...</td>\n",
       "      <td>...</td>\n",
       "      <td>...</td>\n",
       "    </tr>\n",
       "    <tr>\n",
       "      <th>82</th>\n",
       "      <td>US1.AAPL</td>\n",
       "      <td>D</td>\n",
       "      <td>2021-09-27</td>\n",
       "      <td>0</td>\n",
       "      <td>145.40</td>\n",
       "      <td>145.96</td>\n",
       "      <td>143.83</td>\n",
       "      <td>145.39</td>\n",
       "      <td>3504880</td>\n",
       "      <td>83</td>\n",
       "      <td>152.765168</td>\n",
       "      <td>148.086731</td>\n",
       "      <td>146.916169</td>\n",
       "      <td>146.370332</td>\n",
       "      <td>146.298973</td>\n",
       "      <td>146.419445</td>\n",
       "      <td>146.585075</td>\n",
       "      <td>146.837317</td>\n",
       "      <td>146.900094</td>\n",
       "      <td>146.93</td>\n",
       "    </tr>\n",
       "    <tr>\n",
       "      <th>83</th>\n",
       "      <td>US1.AAPL</td>\n",
       "      <td>D</td>\n",
       "      <td>2021-09-28</td>\n",
       "      <td>0</td>\n",
       "      <td>143.19</td>\n",
       "      <td>144.75</td>\n",
       "      <td>141.70</td>\n",
       "      <td>141.95</td>\n",
       "      <td>5602142</td>\n",
       "      <td>84</td>\n",
       "      <td>153.020420</td>\n",
       "      <td>147.817058</td>\n",
       "      <td>146.610935</td>\n",
       "      <td>146.076233</td>\n",
       "      <td>145.935384</td>\n",
       "      <td>145.904723</td>\n",
       "      <td>145.868030</td>\n",
       "      <td>145.679463</td>\n",
       "      <td>145.541009</td>\n",
       "      <td>145.39</td>\n",
       "    </tr>\n",
       "    <tr>\n",
       "      <th>84</th>\n",
       "      <td>US1.AAPL</td>\n",
       "      <td>D</td>\n",
       "      <td>2021-09-29</td>\n",
       "      <td>0</td>\n",
       "      <td>142.47</td>\n",
       "      <td>144.45</td>\n",
       "      <td>142.03</td>\n",
       "      <td>142.86</td>\n",
       "      <td>3205269</td>\n",
       "      <td>85</td>\n",
       "      <td>153.275672</td>\n",
       "      <td>147.230352</td>\n",
       "      <td>145.678748</td>\n",
       "      <td>144.838363</td>\n",
       "      <td>144.341230</td>\n",
       "      <td>143.927361</td>\n",
       "      <td>143.517212</td>\n",
       "      <td>142.695893</td>\n",
       "      <td>142.309101</td>\n",
       "      <td>141.95</td>\n",
       "    </tr>\n",
       "    <tr>\n",
       "      <th>85</th>\n",
       "      <td>US1.AAPL</td>\n",
       "      <td>D</td>\n",
       "      <td>2021-09-30</td>\n",
       "      <td>0</td>\n",
       "      <td>143.67</td>\n",
       "      <td>144.37</td>\n",
       "      <td>141.29</td>\n",
       "      <td>141.36</td>\n",
       "      <td>4102531</td>\n",
       "      <td>86</td>\n",
       "      <td>153.530924</td>\n",
       "      <td>146.793317</td>\n",
       "      <td>145.114998</td>\n",
       "      <td>144.244854</td>\n",
       "      <td>143.748738</td>\n",
       "      <td>143.393681</td>\n",
       "      <td>143.122885</td>\n",
       "      <td>142.827179</td>\n",
       "      <td>142.804910</td>\n",
       "      <td>142.86</td>\n",
       "    </tr>\n",
       "    <tr>\n",
       "      <th>86</th>\n",
       "      <td>US1.AAPL</td>\n",
       "      <td>D</td>\n",
       "      <td>2021-10-01</td>\n",
       "      <td>0</td>\n",
       "      <td>141.89</td>\n",
       "      <td>142.91</td>\n",
       "      <td>139.13</td>\n",
       "      <td>142.42</td>\n",
       "      <td>4233615</td>\n",
       "      <td>87</td>\n",
       "      <td>153.786176</td>\n",
       "      <td>146.249985</td>\n",
       "      <td>144.363999</td>\n",
       "      <td>143.379398</td>\n",
       "      <td>142.793243</td>\n",
       "      <td>142.376840</td>\n",
       "      <td>142.065154</td>\n",
       "      <td>141.653436</td>\n",
       "      <td>141.504491</td>\n",
       "      <td>141.36</td>\n",
       "    </tr>\n",
       "  </tbody>\n",
       "</table>\n",
       "<p>87 rows × 20 columns</p>\n",
       "</div>"
      ],
      "text/plain": [
       "    <TICKER> <PER>     <DATE>  <TIME>  <OPEN>  <HIGH>   <LOW>  <CLOSE>  \\\n",
       "0   US1.AAPL     D 2021-06-01       0  125.08  125.35  123.94   124.30   \n",
       "1   US1.AAPL     D 2021-06-02       0  124.29  125.23  124.05   125.09   \n",
       "2   US1.AAPL     D 2021-06-03       0  124.63  124.85  123.14   123.55   \n",
       "3   US1.AAPL     D 2021-06-04       0  124.07  126.15  123.86   125.86   \n",
       "4   US1.AAPL     D 2021-06-07       0  126.18  126.31  124.84   125.94   \n",
       "..       ...   ...        ...     ...     ...     ...     ...      ...   \n",
       "82  US1.AAPL     D 2021-09-27       0  145.40  145.96  143.83   145.39   \n",
       "83  US1.AAPL     D 2021-09-28       0  143.19  144.75  141.70   141.95   \n",
       "84  US1.AAPL     D 2021-09-29       0  142.47  144.45  142.03   142.86   \n",
       "85  US1.AAPL     D 2021-09-30       0  143.67  144.37  141.29   141.36   \n",
       "86  US1.AAPL     D 2021-10-01       0  141.89  142.91  139.13   142.42   \n",
       "\n",
       "      <VOL>  No       Trend       Exp01       Exp02       Exp03       Exp04  \\\n",
       "0   2708254   1  131.834514         NaN         NaN         NaN         NaN   \n",
       "1   2569184   2  132.089766  124.300000  124.300000  124.300000  124.300000   \n",
       "2   3187672   3  132.345018  124.379000  124.458000  124.537000  124.616000   \n",
       "3   3235599   4  132.600270  124.296100  124.276400  124.240900  124.189600   \n",
       "4   3106377   5  132.855522  124.452490  124.593120  124.726630  124.857760   \n",
       "..      ...  ..         ...         ...         ...         ...         ...   \n",
       "82  3504880  83  152.765168  148.086731  146.916169  146.370332  146.298973   \n",
       "83  5602142  84  153.020420  147.817058  146.610935  146.076233  145.935384   \n",
       "84  3205269  85  153.275672  147.230352  145.678748  144.838363  144.341230   \n",
       "85  4102531  86  153.530924  146.793317  145.114998  144.244854  143.748738   \n",
       "86  4233615  87  153.786176  146.249985  144.363999  143.379398  142.793243   \n",
       "\n",
       "         Exp05       Exp06       Exp07       Exp08   Exp09  \n",
       "0          NaN         NaN         NaN         NaN     NaN  \n",
       "1   124.300000  124.300000  124.300000  124.300000  124.30  \n",
       "2   124.695000  124.774000  124.932000  125.011000  125.09  \n",
       "3   124.122500  124.039600  123.826400  123.696100  123.55  \n",
       "4   124.991250  125.131840  125.453280  125.643610  125.86  \n",
       "..         ...         ...         ...         ...     ...  \n",
       "82  146.419445  146.585075  146.837317  146.900094  146.93  \n",
       "83  145.904723  145.868030  145.679463  145.541009  145.39  \n",
       "84  143.927361  143.517212  142.695893  142.309101  141.95  \n",
       "85  143.393681  143.122885  142.827179  142.804910  142.86  \n",
       "86  142.376840  142.065154  141.653436  141.504491  141.36  \n",
       "\n",
       "[87 rows x 20 columns]"
      ]
     },
     "execution_count": 34,
     "metadata": {},
     "output_type": "execute_result"
    }
   ],
   "source": [
    "df"
   ]
  },
  {
   "cell_type": "markdown",
   "metadata": {},
   "source": [
    "Построим график"
   ]
  },
  {
   "cell_type": "code",
   "execution_count": 37,
   "metadata": {
    "scrolled": false
   },
   "outputs": [
    {
     "data": {
      "image/png": "[encoded data removed]",
      "text/plain": [
       "<Figure size 1008x360 with 1 Axes>"
      ]
     },
     "metadata": {
      "needs_background": "light"
     },
     "output_type": "display_data"
    }
   ],
   "source": [
    "plt.figure(figsize=(14, 5))\n",
    "plt.title('Динамика цены акции Apple', loc='center')\n",
    "x = df['<DATE>']\n",
    "y = df['<CLOSE>']\n",
    "yt = df['Trend']\n",
    "ye = df['Exp03']\n",
    "plt.plot(x, y, label = 'Цена акции Apple')\n",
    "plt.plot(x, yt, label = 'Линия тренда')\n",
    "plt.plot(x, ye, label = 'Экспоненциальное сглаживание')\n",
    "plt.legend(loc='lower right');"
   ]
  },
  {
   "cell_type": "markdown",
   "metadata": {},
   "source": [
    "Второй способ, с помощью функции"
   ]
  },
  {
   "cell_type": "code",
   "execution_count": 38,
   "metadata": {},
   "outputs": [],
   "source": [
    "def exponential_smoothing(series, alpha):\n",
    "    result = [series[0]] # first value is same as series\n",
    "    for n in range(1, len(series)):\n",
    "        result.append(alpha * series[n] + (1 - alpha) * result[n-1])\n",
    "    return result"
   ]
  },
  {
   "cell_type": "code",
   "execution_count": 42,
   "metadata": {},
   "outputs": [
    {
     "data": {
      "image/png": "[encoded data removed]",
      "text/plain": [
       "<Figure size 1008x360 with 1 Axes>"
      ]
     },
     "metadata": {
      "needs_background": "light"
     },
     "output_type": "display_data"
    }
   ],
   "source": [
    "plt.figure(figsize=(14, 5))\n",
    "plt.title('Динамика цены акции Apple', loc='center')\n",
    "x = df['<DATE>']\n",
    "y = df['<CLOSE>']\n",
    "yt = df['Trend']\n",
    "ye = exponential_smoothing(df['<CLOSE>'], 0.3)\n",
    "plt.plot(x, y, label = 'Цена акции Apple')\n",
    "plt.plot(x, yt, label = 'Линия тренда')\n",
    "plt.plot(x, ye, label = 'Экспоненциальное сглаживание')\n",
    "plt.legend(loc='lower right');"
   ]
  },
  {
   "cell_type": "markdown",
   "metadata": {},
   "source": [
    "### Скользящее среднее"
   ]
  },
  {
   "cell_type": "code",
   "execution_count": 44,
   "metadata": {
    "scrolled": true
   },
   "outputs": [
    {
     "data": {
      "image/png": "[encoded data removed]",
      "text/plain": [
       "<Figure size 1008x360 with 1 Axes>"
      ]
     },
     "metadata": {
      "needs_background": "light"
     },
     "output_type": "display_data"
    }
   ],
   "source": [
    "plt.figure(figsize=(14, 5))\n",
    "plt.title('Динамика цены акции Apple', loc='center')\n",
    "x = df['<DATE>']\n",
    "y = df['<CLOSE>']\n",
    "yt = df['Trend']\n",
    "ye = df['<CLOSE>'].rolling(4).mean()\n",
    "plt.plot(x, y, label = 'Цена акции Apple')\n",
    "plt.plot(x, yt, label = 'Линия тренда')\n",
    "plt.plot(x, ye, label = 'Скользящее среднее')\n",
    "plt.legend(loc='lower right');"
   ]
  },
  {
   "cell_type": "markdown",
   "metadata": {},
   "source": [
    "Рассчитаем $R^2$"
   ]
  },
  {
   "cell_type": "code",
   "execution_count": 77,
   "metadata": {},
   "outputs": [
    {
     "name": "stdout",
     "output_type": "stream",
     "text": [
      "Дисперсия цены 70.48\n",
      "Дисперсия остатков модели 28.58\n",
      "R^2 = 0.594\n"
     ]
    }
   ],
   "source": [
    "n=len(df)\n",
    "disp_y=df[\"<CLOSE>\"].std()**2\n",
    "\n",
    "disp_epsilon = np.sum((y - yt)**2/n)\n",
    "print(\"Дисперсия цены\", round(disp_y,3))\n",
    "print(\"Дисперсия остатков модели\", round(disp_epsilon,3))\n",
    "\n",
    "R2 = (disp_y - disp_epsilon) / disp_y\n",
    "print(\"R^2 =\", round(R2,3))"
   ]
  },
  {
   "cell_type": "markdown",
   "metadata": {},
   "source": [
    "## Нелинейная модель\n",
    "\n",
    "Построим модель вида\n",
    "$$\n",
    "\\widehat{y}=a+b\\cdot{x}+c\\cdot{x^2}\n",
    "$$\n",
    "\n",
    "Найдем вектор параметров $w = (a, b, c)$, применив метод наименьших квадратов. \n",
    "\n",
    "$$\n",
    "\\widehat{y} = \\sum_{i=0}^I w_i x_{i} = X{w}^T\n",
    "$$\n",
    "\n",
    "Решив уравнение в матричном виде, получим соотношение\n",
    "\n",
    "$$ w=({X}^{T} {X})^{-1} {X}^{T}{y} $$\n",
    "\n",
    "где $X$ - матрица признаков, $y$ - вектор значений цены акции.\n",
    "\n",
    "Вектор $y$ известен и содержится в исходных данных. Сформируем матрицу $X$."
   ]
  },
  {
   "cell_type": "code",
   "execution_count": 59,
   "metadata": {},
   "outputs": [
    {
     "name": "stdout",
     "output_type": "stream",
     "text": [
      "[[ 1.  1.  1.]\n",
      " [ 1.  2.  4.]\n",
      " [ 1.  3.  9.]\n",
      " [ 1.  4. 16.]\n",
      " [ 1.  5. 25.]]\n"
     ]
    }
   ],
   "source": [
    "x0=np.ones(len(df))\n",
    "x1=np.arange(1,len(df)+1)\n",
    "x2 = x1**2\n",
    "X=np.stack((x0,x1,x2),axis=1)\n",
    "print(X[:5])"
   ]
  },
  {
   "cell_type": "code",
   "execution_count": 60,
   "metadata": {},
   "outputs": [
    {
     "data": {
      "text/plain": [
       "array([   1,    4,    9,   16,   25,   36,   49,   64,   81,  100,  121,\n",
       "        144,  169,  196,  225,  256,  289,  324,  361,  400,  441,  484,\n",
       "        529,  576,  625,  676,  729,  784,  841,  900,  961, 1024, 1089,\n",
       "       1156, 1225, 1296, 1369, 1444, 1521, 1600, 1681, 1764, 1849, 1936,\n",
       "       2025, 2116, 2209, 2304, 2401, 2500, 2601, 2704, 2809, 2916, 3025,\n",
       "       3136, 3249, 3364, 3481, 3600, 3721, 3844, 3969, 4096, 4225, 4356,\n",
       "       4489, 4624, 4761, 4900, 5041, 5184, 5329, 5476, 5625, 5776, 5929,\n",
       "       6084, 6241, 6400, 6561, 6724, 6889, 7056, 7225, 7396, 7569],\n",
       "      dtype=int32)"
      ]
     },
     "execution_count": 60,
     "metadata": {},
     "output_type": "execute_result"
    }
   ],
   "source": [
    "x2"
   ]
  },
  {
   "cell_type": "code",
   "execution_count": 61,
   "metadata": {},
   "outputs": [
    {
     "name": "stdout",
     "output_type": "stream",
     "text": [
      "[ 1.20630276e+02  9.93385783e-01 -8.38788530e-03]\n"
     ]
    }
   ],
   "source": [
    "w = np.dot(np.dot(np.linalg.inv(np.dot(X.T,X)),X.T),y)\n",
    "print(w)"
   ]
  },
  {
   "cell_type": "code",
   "execution_count": 62,
   "metadata": {},
   "outputs": [],
   "source": [
    "y_model = w[0]*X[:,0] + w[1]*X[:,1] + w[2]*X[:,2]"
   ]
  },
  {
   "cell_type": "code",
   "execution_count": 71,
   "metadata": {
    "scrolled": true
   },
   "outputs": [
    {
     "data": {
      "image/png": "[encoded data removed]",
      "text/plain": [
       "<Figure size 864x288 with 1 Axes>"
      ]
     },
     "metadata": {
      "needs_background": "light"
     },
     "output_type": "display_data"
    }
   ],
   "source": [
    "plt.figure(figsize=(12,4))\n",
    "plt.plot(x, y, label=\"Цена акции\")\n",
    "plt.plot(x, y_model, label=\"Модель цены акции\")\n",
    "plt.grid()\n",
    "#plt.xticks(ticks=np.arange(0,len(df),10), \n",
    "#           labels=df[\"<DATE>\"].apply(lambda x: dt.strftime(x,\"%Y-%m-%d\"))[::10])\n",
    "plt.legend();"
   ]
  },
  {
   "cell_type": "markdown",
   "metadata": {},
   "source": [
    "Рассчитаем $R^2$ нелинейной модели"
   ]
  },
  {
   "cell_type": "code",
   "execution_count": 78,
   "metadata": {},
   "outputs": [
    {
     "name": "stdout",
     "output_type": "stream",
     "text": [
      "Дисперсия цены 70.48\n",
      "Дисперсия остатков модели 6.202\n",
      "R^2 = 0.912\n"
     ]
    }
   ],
   "source": [
    "n=len(df)\n",
    "disp_y=df[\"<CLOSE>\"].std()**2\n",
    "\n",
    "disp_epsilon = np.sum((y - y_model)**2/n)\n",
    "print(\"Дисперсия цены\", round(disp_y,3))\n",
    "print(\"Дисперсия остатков модели\", round(disp_epsilon,3))\n",
    "\n",
    "R2 = (disp_y - disp_epsilon) / disp_y\n",
    "print(\"R^2 =\", round(R2,3))"
   ]
  }
 ],
 "metadata": {
  "colab": {
   "collapsed_sections": [],
   "name": "Лек Пайтон",
   "provenance": []
  },
  "kernelspec": {
   "display_name": "Python 3",
   "language": "python",
   "name": "python3"
  },
  "language_info": {
   "codemirror_mode": {
    "name": "ipython",
    "version": 3
   },
   "file_extension": ".py",
   "mimetype": "text/x-python",
   "name": "python",
   "nbconvert_exporter": "python",
   "pygments_lexer": "ipython3",
   "version": "3.7.6"
  }
 },
 "nbformat": 4,
 "nbformat_minor": 1
}
