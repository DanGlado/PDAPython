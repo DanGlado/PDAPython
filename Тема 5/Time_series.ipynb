{
 "cells": [
  {
   "cell_type": "markdown",
   "metadata": {
    "id": "lzzjKBePmJ8a"
   },
   "source": [
    "<img src=\"../Img/banner-fa-49-2.png\">\n",
    "<p>5 октября 2021 года, ВМ/451 (ул. Верхняя Масловка, д. 15)</p>\n",
    "\n",
    "# Тема 5. Анализ временных рядов с помощью Python\n",
    "\n",
    "Студенты: Поток:УЦИ20-1<br>\n",
    "Преподаватель: Смирнов Михаил Викторович, доцент Департамента Анализа данных и машинного обучения Финансового университета при Правительстве Российской Федерации"
   ]
  },
  {
   "cell_type": "markdown",
   "metadata": {
    "id": "8tZigpCezdKV"
   },
   "source": [
    "Задание. Имеется файл с информацией об изменении цены акции Apple за период времени. Построить график динамики и линию тренда по значению цены закрытия. Построить гистограмму. В процессе выполнения задания необходимо преобразовать данные к типу даты и числа, где это необходимо.\n",
    "\n",
    "Файл с данными: *US1.AAPL_210601_210930.csv* находится в папке *Data*. Источник: https://www.finam.ru"
   ]
  },
  {
   "cell_type": "code",
   "execution_count": 1,
   "metadata": {
    "id": "xGPTjc8bvDPa"
   },
   "outputs": [],
   "source": [
    "import pandas as pd\n",
    "import numpy as np\n",
    "import matplotlib.pyplot as plt\n",
    "from datetime import datetime as dt\n",
    "%matplotlib inline"
   ]
  },
  {
   "cell_type": "markdown",
   "metadata": {
    "id": "Ea122K_0xYdL"
   },
   "source": [
    "Создадим таблицу - объект *DataFrame*"
   ]
  },
  {
   "cell_type": "code",
   "execution_count": 2,
   "metadata": {
    "id": "QHy-qCRexWRZ"
   },
   "outputs": [
    {
     "data": {
      "text/html": [
       "<div>\n",
       "<style scoped>\n",
       "    .dataframe tbody tr th:only-of-type {\n",
       "        vertical-align: middle;\n",
       "    }\n",
       "\n",
       "    .dataframe tbody tr th {\n",
       "        vertical-align: top;\n",
       "    }\n",
       "\n",
       "    .dataframe thead th {\n",
       "        text-align: right;\n",
       "    }\n",
       "</style>\n",
       "<table border=\"1\" class=\"dataframe\">\n",
       "  <thead>\n",
       "    <tr style=\"text-align: right;\">\n",
       "      <th></th>\n",
       "      <th>&lt;TICKER&gt;</th>\n",
       "      <th>&lt;PER&gt;</th>\n",
       "      <th>&lt;DATE&gt;</th>\n",
       "      <th>&lt;TIME&gt;</th>\n",
       "      <th>&lt;OPEN&gt;</th>\n",
       "      <th>&lt;HIGH&gt;</th>\n",
       "      <th>&lt;LOW&gt;</th>\n",
       "      <th>&lt;CLOSE&gt;</th>\n",
       "      <th>&lt;VOL&gt;</th>\n",
       "    </tr>\n",
       "  </thead>\n",
       "  <tbody>\n",
       "    <tr>\n",
       "      <th>0</th>\n",
       "      <td>US1.AAPL</td>\n",
       "      <td>D</td>\n",
       "      <td>01/06/21</td>\n",
       "      <td>0</td>\n",
       "      <td>125.08</td>\n",
       "      <td>125.35</td>\n",
       "      <td>123.94</td>\n",
       "      <td>124.30</td>\n",
       "      <td>2708254</td>\n",
       "    </tr>\n",
       "    <tr>\n",
       "      <th>1</th>\n",
       "      <td>US1.AAPL</td>\n",
       "      <td>D</td>\n",
       "      <td>02/06/21</td>\n",
       "      <td>0</td>\n",
       "      <td>124.29</td>\n",
       "      <td>125.23</td>\n",
       "      <td>124.05</td>\n",
       "      <td>125.09</td>\n",
       "      <td>2569184</td>\n",
       "    </tr>\n",
       "    <tr>\n",
       "      <th>2</th>\n",
       "      <td>US1.AAPL</td>\n",
       "      <td>D</td>\n",
       "      <td>03/06/21</td>\n",
       "      <td>0</td>\n",
       "      <td>124.63</td>\n",
       "      <td>124.85</td>\n",
       "      <td>123.14</td>\n",
       "      <td>123.55</td>\n",
       "      <td>3187672</td>\n",
       "    </tr>\n",
       "    <tr>\n",
       "      <th>3</th>\n",
       "      <td>US1.AAPL</td>\n",
       "      <td>D</td>\n",
       "      <td>04/06/21</td>\n",
       "      <td>0</td>\n",
       "      <td>124.07</td>\n",
       "      <td>126.15</td>\n",
       "      <td>123.86</td>\n",
       "      <td>125.86</td>\n",
       "      <td>3235599</td>\n",
       "    </tr>\n",
       "    <tr>\n",
       "      <th>4</th>\n",
       "      <td>US1.AAPL</td>\n",
       "      <td>D</td>\n",
       "      <td>07/06/21</td>\n",
       "      <td>0</td>\n",
       "      <td>126.18</td>\n",
       "      <td>126.31</td>\n",
       "      <td>124.84</td>\n",
       "      <td>125.94</td>\n",
       "      <td>3106377</td>\n",
       "    </tr>\n",
       "    <tr>\n",
       "      <th>...</th>\n",
       "      <td>...</td>\n",
       "      <td>...</td>\n",
       "      <td>...</td>\n",
       "      <td>...</td>\n",
       "      <td>...</td>\n",
       "      <td>...</td>\n",
       "      <td>...</td>\n",
       "      <td>...</td>\n",
       "      <td>...</td>\n",
       "    </tr>\n",
       "    <tr>\n",
       "      <th>82</th>\n",
       "      <td>US1.AAPL</td>\n",
       "      <td>D</td>\n",
       "      <td>27/09/21</td>\n",
       "      <td>0</td>\n",
       "      <td>145.40</td>\n",
       "      <td>145.96</td>\n",
       "      <td>143.83</td>\n",
       "      <td>145.39</td>\n",
       "      <td>3504880</td>\n",
       "    </tr>\n",
       "    <tr>\n",
       "      <th>83</th>\n",
       "      <td>US1.AAPL</td>\n",
       "      <td>D</td>\n",
       "      <td>28/09/21</td>\n",
       "      <td>0</td>\n",
       "      <td>143.19</td>\n",
       "      <td>144.75</td>\n",
       "      <td>141.70</td>\n",
       "      <td>141.95</td>\n",
       "      <td>5602142</td>\n",
       "    </tr>\n",
       "    <tr>\n",
       "      <th>84</th>\n",
       "      <td>US1.AAPL</td>\n",
       "      <td>D</td>\n",
       "      <td>29/09/21</td>\n",
       "      <td>0</td>\n",
       "      <td>142.47</td>\n",
       "      <td>144.45</td>\n",
       "      <td>142.03</td>\n",
       "      <td>142.86</td>\n",
       "      <td>3205269</td>\n",
       "    </tr>\n",
       "    <tr>\n",
       "      <th>85</th>\n",
       "      <td>US1.AAPL</td>\n",
       "      <td>D</td>\n",
       "      <td>30/09/21</td>\n",
       "      <td>0</td>\n",
       "      <td>143.67</td>\n",
       "      <td>144.37</td>\n",
       "      <td>141.29</td>\n",
       "      <td>141.36</td>\n",
       "      <td>4102531</td>\n",
       "    </tr>\n",
       "    <tr>\n",
       "      <th>86</th>\n",
       "      <td>US1.AAPL</td>\n",
       "      <td>D</td>\n",
       "      <td>01/10/21</td>\n",
       "      <td>0</td>\n",
       "      <td>141.89</td>\n",
       "      <td>142.91</td>\n",
       "      <td>139.13</td>\n",
       "      <td>142.42</td>\n",
       "      <td>4233615</td>\n",
       "    </tr>\n",
       "  </tbody>\n",
       "</table>\n",
       "<p>87 rows × 9 columns</p>\n",
       "</div>"
      ],
      "text/plain": [
       "    <TICKER> <PER>    <DATE>  <TIME>  <OPEN>  <HIGH>   <LOW>  <CLOSE>    <VOL>\n",
       "0   US1.AAPL     D  01/06/21       0  125.08  125.35  123.94   124.30  2708254\n",
       "1   US1.AAPL     D  02/06/21       0  124.29  125.23  124.05   125.09  2569184\n",
       "2   US1.AAPL     D  03/06/21       0  124.63  124.85  123.14   123.55  3187672\n",
       "3   US1.AAPL     D  04/06/21       0  124.07  126.15  123.86   125.86  3235599\n",
       "4   US1.AAPL     D  07/06/21       0  126.18  126.31  124.84   125.94  3106377\n",
       "..       ...   ...       ...     ...     ...     ...     ...      ...      ...\n",
       "82  US1.AAPL     D  27/09/21       0  145.40  145.96  143.83   145.39  3504880\n",
       "83  US1.AAPL     D  28/09/21       0  143.19  144.75  141.70   141.95  5602142\n",
       "84  US1.AAPL     D  29/09/21       0  142.47  144.45  142.03   142.86  3205269\n",
       "85  US1.AAPL     D  30/09/21       0  143.67  144.37  141.29   141.36  4102531\n",
       "86  US1.AAPL     D  01/10/21       0  141.89  142.91  139.13   142.42  4233615\n",
       "\n",
       "[87 rows x 9 columns]"
      ]
     },
     "execution_count": 2,
     "metadata": {},
     "output_type": "execute_result"
    }
   ],
   "source": [
    "df = pd.read_csv('Data/US1.AAPL_210601_210930.csv', sep=';')\n",
    "df"
   ]
  },
  {
   "cell_type": "markdown",
   "metadata": {},
   "source": [
    "Столбцы *PER* и *TIME* не несут для нас полезной информации, удалим их."
   ]
  },
  {
   "cell_type": "code",
   "execution_count": 3,
   "metadata": {},
   "outputs": [],
   "source": [
    "df.drop([\"<PER>\",\"<TIME>\"],axis=1,inplace=True)"
   ]
  },
  {
   "cell_type": "markdown",
   "metadata": {
    "id": "7jbL24qDyg_V"
   },
   "source": [
    "Для получения краткой информации о *df* используем метод **_info()_**"
   ]
  },
  {
   "cell_type": "code",
   "execution_count": 4,
   "metadata": {
    "colab": {
     "base_uri": "https://localhost:8080/"
    },
    "id": "hYZEiigGyYY9",
    "outputId": "cd2ce1ee-713a-45b9-c131-4fe8d8ce1e01"
   },
   "outputs": [
    {
     "name": "stdout",
     "output_type": "stream",
     "text": [
      "<class 'pandas.core.frame.DataFrame'>\n",
      "RangeIndex: 87 entries, 0 to 86\n",
      "Data columns (total 7 columns):\n",
      " #   Column    Non-Null Count  Dtype  \n",
      "---  ------    --------------  -----  \n",
      " 0   <TICKER>  87 non-null     object \n",
      " 1   <DATE>    87 non-null     object \n",
      " 2   <OPEN>    87 non-null     float64\n",
      " 3   <HIGH>    87 non-null     float64\n",
      " 4   <LOW>     87 non-null     float64\n",
      " 5   <CLOSE>   87 non-null     float64\n",
      " 6   <VOL>     87 non-null     int64  \n",
      "dtypes: float64(4), int64(1), object(2)\n",
      "memory usage: 4.9+ KB\n"
     ]
    }
   ],
   "source": [
    "df.info()"
   ]
  },
  {
   "cell_type": "markdown",
   "metadata": {
    "id": "IJt5ZBp57-35"
   },
   "source": [
    "В столбце *Dtype* указаны типы данных в столбцах анализируемого набора данных. *object* - текстовый тип. Иногда тип данных определяется неверно, тогда может понадобиться преобразование. В некоторых случаях требуется преобразование числел, хранящихся в текстовом виде к числовому типу. Для этого сначала заменяют точку на запятую - для десятичных чисел - а затем используют функцию *to_numeric()*, например:\n",
    "```\n",
    "df['<CLOSE>'] = df['<CLOSE>'].str.replace(',', '.')\n",
    "df['<CLOSE>'] = pd.to_numeric(df['<CLOSE>'])\n",
    "```\n",
    "Сейчас требуется преобразовать только столбец *`<Date>`*, имеющий тип *object*, к типу даты. Такое преобразование выполним с помощью функции *to_datetime().*"
   ]
  },
  {
   "cell_type": "code",
   "execution_count": 5,
   "metadata": {
    "colab": {
     "base_uri": "https://localhost:8080/",
     "height": 423
    },
    "id": "Y8TWk0SQ3lUo",
    "outputId": "295248ae-bf1b-4b76-a089-63ee79d35417"
   },
   "outputs": [],
   "source": [
    "\n",
    "df['<DATE>'] = pd.to_datetime(df['<DATE>'], dayfirst=True)"
   ]
  },
  {
   "cell_type": "markdown",
   "metadata": {},
   "source": [
    "Убедимся, что преобразование прошло успешно, для этого выполним еще раз команду *info()*"
   ]
  },
  {
   "cell_type": "code",
   "execution_count": 6,
   "metadata": {
    "colab": {
     "base_uri": "https://localhost:8080/"
    },
    "id": "p41ueTQN7LAv",
    "outputId": "80738537-3f07-4acd-cee2-34fa0b0d99a1",
    "scrolled": true
   },
   "outputs": [
    {
     "name": "stdout",
     "output_type": "stream",
     "text": [
      "<class 'pandas.core.frame.DataFrame'>\n",
      "RangeIndex: 87 entries, 0 to 86\n",
      "Data columns (total 7 columns):\n",
      " #   Column    Non-Null Count  Dtype         \n",
      "---  ------    --------------  -----         \n",
      " 0   <TICKER>  87 non-null     object        \n",
      " 1   <DATE>    87 non-null     datetime64[ns]\n",
      " 2   <OPEN>    87 non-null     float64       \n",
      " 3   <HIGH>    87 non-null     float64       \n",
      " 4   <LOW>     87 non-null     float64       \n",
      " 5   <CLOSE>   87 non-null     float64       \n",
      " 6   <VOL>     87 non-null     int64         \n",
      "dtypes: datetime64[ns](1), float64(4), int64(1), object(1)\n",
      "memory usage: 4.9+ KB\n"
     ]
    }
   ],
   "source": [
    "df.info()"
   ]
  },
  {
   "cell_type": "markdown",
   "metadata": {
    "id": "qDmnyw-O8n_R"
   },
   "source": [
    "Теперь *`<DATE>`* - это дата. Отметим, что по дате можно отсортировть данные, например:\n",
    "```\n",
    "df.sort_values(by='<DATE>', inplace=True)\n",
    "```\n",
    "В нашем случае этого не требуется, так как данные уже отсортированы. Построим график."
   ]
  },
  {
   "cell_type": "code",
   "execution_count": 7,
   "metadata": {
    "colab": {
     "base_uri": "https://localhost:8080/",
     "height": 339
    },
    "id": "vdTqJlqOEwI-",
    "outputId": "7f62b89e-7540-4878-e551-0347c6096603"
   },
   "outputs": [
    {
     "data": {
      "image/png": "[encoded data removed]",
      "text/plain": [
       "<Figure size 864x360 with 1 Axes>"
      ]
     },
     "metadata": {
      "needs_background": "light"
     },
     "output_type": "display_data"
    }
   ],
   "source": [
    "plt.figure(figsize=(12, 5))\n",
    "x = df['<DATE>']\n",
    "y = df['<CLOSE>']\n",
    "plt.plot(x, y)\n",
    "plt.grid();"
   ]
  },
  {
   "cell_type": "markdown",
   "metadata": {
    "id": "By4mHwYB-CQR"
   },
   "source": [
    "Временной ряд представляет собой упорядоченный набор значений, называемых уровнями ряда $y=(y_1, y_2, ... y_N)$. Построим линию тенденции (тренда), описываемую уравнением\n",
    "\n",
    "$$ \\hat{y} = a + b \\cdot x $$\n",
    "\n",
    "где $\\hat{y}$ - значение тенденции временного ряда, $x$ - номер уровня, принимающий значения $1,2,...N$, где $N$ - число уровней, $a$ и $b$ -параметры, определяющие расположение линии тренда на плоскости графика. Необходимо так расположить линию тренда, чтобы расстояние от каждого уровня $y_i$ до соответствующего значения трненда $\\hat{y_i}$ было минимальным.\n",
    "\n",
    "Найдем $a$ и $b$ по формулам\n",
    "\n",
    "$$\n",
    "b=\\frac{cov(x,y)}{Disp(x)}\n",
    "$$\n",
    "\n",
    "$$\n",
    "a= \\bar{y}- b \\cdot \\bar{x}\n",
    "$$\n",
    "\n",
    "Создадим столбец с номерами уровней, значения начинаются от $1$"
   ]
  },
  {
   "cell_type": "code",
   "execution_count": 8,
   "metadata": {
    "colab": {
     "base_uri": "https://localhost:8080/",
     "height": 423
    },
    "id": "mi67KszZ9zJC",
    "outputId": "7785a377-451a-43b3-d5f4-c61f9e374d78",
    "scrolled": false
   },
   "outputs": [
    {
     "data": {
      "text/html": [
       "<div>\n",
       "<style scoped>\n",
       "    .dataframe tbody tr th:only-of-type {\n",
       "        vertical-align: middle;\n",
       "    }\n",
       "\n",
       "    .dataframe tbody tr th {\n",
       "        vertical-align: top;\n",
       "    }\n",
       "\n",
       "    .dataframe thead th {\n",
       "        text-align: right;\n",
       "    }\n",
       "</style>\n",
       "<table border=\"1\" class=\"dataframe\">\n",
       "  <thead>\n",
       "    <tr style=\"text-align: right;\">\n",
       "      <th></th>\n",
       "      <th>&lt;TICKER&gt;</th>\n",
       "      <th>&lt;DATE&gt;</th>\n",
       "      <th>&lt;OPEN&gt;</th>\n",
       "      <th>&lt;HIGH&gt;</th>\n",
       "      <th>&lt;LOW&gt;</th>\n",
       "      <th>&lt;CLOSE&gt;</th>\n",
       "      <th>&lt;VOL&gt;</th>\n",
       "      <th>No</th>\n",
       "    </tr>\n",
       "  </thead>\n",
       "  <tbody>\n",
       "    <tr>\n",
       "      <th>0</th>\n",
       "      <td>US1.AAPL</td>\n",
       "      <td>2021-06-01</td>\n",
       "      <td>125.08</td>\n",
       "      <td>125.35</td>\n",
       "      <td>123.94</td>\n",
       "      <td>124.30</td>\n",
       "      <td>2708254</td>\n",
       "      <td>1</td>\n",
       "    </tr>\n",
       "    <tr>\n",
       "      <th>1</th>\n",
       "      <td>US1.AAPL</td>\n",
       "      <td>2021-06-02</td>\n",
       "      <td>124.29</td>\n",
       "      <td>125.23</td>\n",
       "      <td>124.05</td>\n",
       "      <td>125.09</td>\n",
       "      <td>2569184</td>\n",
       "      <td>2</td>\n",
       "    </tr>\n",
       "    <tr>\n",
       "      <th>2</th>\n",
       "      <td>US1.AAPL</td>\n",
       "      <td>2021-06-03</td>\n",
       "      <td>124.63</td>\n",
       "      <td>124.85</td>\n",
       "      <td>123.14</td>\n",
       "      <td>123.55</td>\n",
       "      <td>3187672</td>\n",
       "      <td>3</td>\n",
       "    </tr>\n",
       "    <tr>\n",
       "      <th>3</th>\n",
       "      <td>US1.AAPL</td>\n",
       "      <td>2021-06-04</td>\n",
       "      <td>124.07</td>\n",
       "      <td>126.15</td>\n",
       "      <td>123.86</td>\n",
       "      <td>125.86</td>\n",
       "      <td>3235599</td>\n",
       "      <td>4</td>\n",
       "    </tr>\n",
       "    <tr>\n",
       "      <th>4</th>\n",
       "      <td>US1.AAPL</td>\n",
       "      <td>2021-06-07</td>\n",
       "      <td>126.18</td>\n",
       "      <td>126.31</td>\n",
       "      <td>124.84</td>\n",
       "      <td>125.94</td>\n",
       "      <td>3106377</td>\n",
       "      <td>5</td>\n",
       "    </tr>\n",
       "  </tbody>\n",
       "</table>\n",
       "</div>"
      ],
      "text/plain": [
       "   <TICKER>     <DATE>  <OPEN>  <HIGH>   <LOW>  <CLOSE>    <VOL>  No\n",
       "0  US1.AAPL 2021-06-01  125.08  125.35  123.94   124.30  2708254   1\n",
       "1  US1.AAPL 2021-06-02  124.29  125.23  124.05   125.09  2569184   2\n",
       "2  US1.AAPL 2021-06-03  124.63  124.85  123.14   123.55  3187672   3\n",
       "3  US1.AAPL 2021-06-04  124.07  126.15  123.86   125.86  3235599   4\n",
       "4  US1.AAPL 2021-06-07  126.18  126.31  124.84   125.94  3106377   5"
      ]
     },
     "execution_count": 8,
     "metadata": {},
     "output_type": "execute_result"
    }
   ],
   "source": [
    "df['No'] = pd.Series(np.arange(1, len(df)+1))\n",
    "df.head()"
   ]
  },
  {
   "cell_type": "markdown",
   "metadata": {},
   "source": [
    "В качестве $y$ выступает цена закрытия *CLOSE*, в качестве $x$ - столбец *No*. Найдем их ковариационную матрицу."
   ]
  },
  {
   "cell_type": "code",
   "execution_count": 9,
   "metadata": {
    "colab": {
     "base_uri": "https://localhost:8080/"
    },
    "id": "Hy-XRqeEA1ls",
    "outputId": "663b6c8c-f0de-45fd-f89a-0a949a740be9"
   },
   "outputs": [
    {
     "data": {
      "text/plain": [
       "array([[ 70.48023128, 162.85069767],\n",
       "       [162.85069767, 638.        ]])"
      ]
     },
     "execution_count": 9,
     "metadata": {},
     "output_type": "execute_result"
    }
   ],
   "source": [
    "cov_matrix = np.cov(df['<CLOSE>'], df['No'])\n",
    "cov_matrix"
   ]
  },
  {
   "cell_type": "markdown",
   "metadata": {},
   "source": [
    "Элементы матрицы с индексами `[0,1]` и `[1,0]` - это ковариация *CLOSE* и *No*. Элемент с индексом `[1,1]` - это дисперсия *No*. Тогда найдём параметры $b$ и $a$."
   ]
  },
  {
   "cell_type": "code",
   "execution_count": 10,
   "metadata": {
    "colab": {
     "base_uri": "https://localhost:8080/"
    },
    "id": "qV4_MSiSIyWQ",
    "outputId": "8f10eb98-da1d-4b73-bf77-ff5e2d0900a5"
   },
   "outputs": [
    {
     "name": "stdout",
     "output_type": "stream",
     "text": [
      "131.57926222935052 0.2552518772326311\n"
     ]
    }
   ],
   "source": [
    "b = cov_matrix[0,1] / cov_matrix[1,1]\n",
    "a = df['<CLOSE>'].mean() - b*df['No'].mean()\n",
    "print(a, b)"
   ]
  },
  {
   "cell_type": "markdown",
   "metadata": {},
   "source": [
    "Добавим к набору данных столбец, содержащий значения тренда."
   ]
  },
  {
   "cell_type": "code",
   "execution_count": 11,
   "metadata": {
    "colab": {
     "base_uri": "https://localhost:8080/",
     "height": 423
    },
    "id": "gtKtU2t6Bt9H",
    "outputId": "d1310331-04e9-4676-c34f-dce389ed9824",
    "scrolled": false
   },
   "outputs": [
    {
     "data": {
      "text/html": [
       "<div>\n",
       "<style scoped>\n",
       "    .dataframe tbody tr th:only-of-type {\n",
       "        vertical-align: middle;\n",
       "    }\n",
       "\n",
       "    .dataframe tbody tr th {\n",
       "        vertical-align: top;\n",
       "    }\n",
       "\n",
       "    .dataframe thead th {\n",
       "        text-align: right;\n",
       "    }\n",
       "</style>\n",
       "<table border=\"1\" class=\"dataframe\">\n",
       "  <thead>\n",
       "    <tr style=\"text-align: right;\">\n",
       "      <th></th>\n",
       "      <th>&lt;TICKER&gt;</th>\n",
       "      <th>&lt;DATE&gt;</th>\n",
       "      <th>&lt;OPEN&gt;</th>\n",
       "      <th>&lt;HIGH&gt;</th>\n",
       "      <th>&lt;LOW&gt;</th>\n",
       "      <th>&lt;CLOSE&gt;</th>\n",
       "      <th>&lt;VOL&gt;</th>\n",
       "      <th>No</th>\n",
       "      <th>Trend</th>\n",
       "    </tr>\n",
       "  </thead>\n",
       "  <tbody>\n",
       "    <tr>\n",
       "      <th>0</th>\n",
       "      <td>US1.AAPL</td>\n",
       "      <td>2021-06-01</td>\n",
       "      <td>125.08</td>\n",
       "      <td>125.35</td>\n",
       "      <td>123.94</td>\n",
       "      <td>124.30</td>\n",
       "      <td>2708254</td>\n",
       "      <td>1</td>\n",
       "      <td>131.834514</td>\n",
       "    </tr>\n",
       "    <tr>\n",
       "      <th>1</th>\n",
       "      <td>US1.AAPL</td>\n",
       "      <td>2021-06-02</td>\n",
       "      <td>124.29</td>\n",
       "      <td>125.23</td>\n",
       "      <td>124.05</td>\n",
       "      <td>125.09</td>\n",
       "      <td>2569184</td>\n",
       "      <td>2</td>\n",
       "      <td>132.089766</td>\n",
       "    </tr>\n",
       "    <tr>\n",
       "      <th>2</th>\n",
       "      <td>US1.AAPL</td>\n",
       "      <td>2021-06-03</td>\n",
       "      <td>124.63</td>\n",
       "      <td>124.85</td>\n",
       "      <td>123.14</td>\n",
       "      <td>123.55</td>\n",
       "      <td>3187672</td>\n",
       "      <td>3</td>\n",
       "      <td>132.345018</td>\n",
       "    </tr>\n",
       "    <tr>\n",
       "      <th>3</th>\n",
       "      <td>US1.AAPL</td>\n",
       "      <td>2021-06-04</td>\n",
       "      <td>124.07</td>\n",
       "      <td>126.15</td>\n",
       "      <td>123.86</td>\n",
       "      <td>125.86</td>\n",
       "      <td>3235599</td>\n",
       "      <td>4</td>\n",
       "      <td>132.600270</td>\n",
       "    </tr>\n",
       "    <tr>\n",
       "      <th>4</th>\n",
       "      <td>US1.AAPL</td>\n",
       "      <td>2021-06-07</td>\n",
       "      <td>126.18</td>\n",
       "      <td>126.31</td>\n",
       "      <td>124.84</td>\n",
       "      <td>125.94</td>\n",
       "      <td>3106377</td>\n",
       "      <td>5</td>\n",
       "      <td>132.855522</td>\n",
       "    </tr>\n",
       "  </tbody>\n",
       "</table>\n",
       "</div>"
      ],
      "text/plain": [
       "   <TICKER>     <DATE>  <OPEN>  <HIGH>   <LOW>  <CLOSE>    <VOL>  No  \\\n",
       "0  US1.AAPL 2021-06-01  125.08  125.35  123.94   124.30  2708254   1   \n",
       "1  US1.AAPL 2021-06-02  124.29  125.23  124.05   125.09  2569184   2   \n",
       "2  US1.AAPL 2021-06-03  124.63  124.85  123.14   123.55  3187672   3   \n",
       "3  US1.AAPL 2021-06-04  124.07  126.15  123.86   125.86  3235599   4   \n",
       "4  US1.AAPL 2021-06-07  126.18  126.31  124.84   125.94  3106377   5   \n",
       "\n",
       "        Trend  \n",
       "0  131.834514  \n",
       "1  132.089766  \n",
       "2  132.345018  \n",
       "3  132.600270  \n",
       "4  132.855522  "
      ]
     },
     "execution_count": 11,
     "metadata": {},
     "output_type": "execute_result"
    }
   ],
   "source": [
    "df['Trend'] = a + b*df['No']\n",
    "df.head()"
   ]
  },
  {
   "cell_type": "markdown",
   "metadata": {},
   "source": [
    "Отобразим линию тренда на графике временного ряда."
   ]
  },
  {
   "cell_type": "code",
   "execution_count": 16,
   "metadata": {
    "colab": {
     "base_uri": "https://localhost:8080/",
     "height": 355
    },
    "id": "Z-Kv_QyqVpiw",
    "outputId": "7e5d3ae2-b514-48d0-e6c0-f33f7b66b0f4",
    "scrolled": false
   },
   "outputs": [
    {
     "data": {
      "image/png": "[encoded data removed]",
      "text/plain": [
       "<Figure size 864x360 with 1 Axes>"
      ]
     },
     "metadata": {
      "needs_background": "light"
     },
     "output_type": "display_data"
    }
   ],
   "source": [
    "plt.figure(figsize=(12, 5))\n",
    "plt.title('Динамика цены акции Apple', loc='center')\n",
    "\n",
    "x=df[\"No\"]\n",
    "y=df[\"<CLOSE>\"]\n",
    "t=df[\"Trend\"]\n",
    "\n",
    "plt.plot(x, y, label='Цена')\n",
    "plt.plot(x, t, label='Линия тренда')\n",
    "plt.xticks(ticks=np.arange(0,len(df))[::10], labels=df['<DATE>'].apply(lambda d: dt.strftime(d,\"%Y-%m-%d\"))[::10])\n",
    "plt.legend(loc='lower right');"
   ]
  },
  {
   "cell_type": "markdown",
   "metadata": {},
   "source": [
    "Построим гистограмму по значениям цены закрытия."
   ]
  },
  {
   "cell_type": "code",
   "execution_count": 17,
   "metadata": {
    "colab": {
     "base_uri": "https://localhost:8080/",
     "height": 284
    },
    "id": "t9fPMF48X527",
    "outputId": "28117f07-0ae0-4f74-d58e-f367f78ce7e6"
   },
   "outputs": [
    {
     "data": {
      "text/plain": [
       "<AxesSubplot:>"
      ]
     },
     "execution_count": 17,
     "metadata": {},
     "output_type": "execute_result"
    },
    {
     "data": {
      "image/png": "[encoded data removed]",
      "text/plain": [
       "<Figure size 432x288 with 1 Axes>"
      ]
     },
     "metadata": {
      "needs_background": "light"
     },
     "output_type": "display_data"
    }
   ],
   "source": [
    "df['<CLOSE>'].hist(bins=9)"
   ]
  },
  {
   "cell_type": "markdown",
   "metadata": {},
   "source": [
    "### Экспоненциальное сглаживание"
   ]
  },
  {
   "cell_type": "code",
   "execution_count": null,
   "metadata": {},
   "outputs": [],
   "source": [
    "alfa = 0.1 # Начальное значение коэффициента сглаживания\n",
    "while alfa < 1: # выполняется цикл до тех пор, пока alfa меньше единицы\n",
    "  ExpColumnName = 'Exp0' + str(alfa)[2] # Формируем имя столбца сглаженных значений: Exp01, Exp02 и т. д. до Exp09\n",
    "  L = [] # Список, в который будем помещать сглаженные значения, сейчас он пуст\n",
    "  for i in range(len(df)): # создаем цикл от нуля до числа, равного числу строк в таблице минус один\n",
    "    if i == 0: # первый день\n",
    "      L.append(np.NaN) # добавляем в список пустое значение, так как сглаженного значения в первый день нет\n",
    "    elif i == 1: # второй день\n",
    "      L.append(df['<CLOSE>'][0]) # добавляем в список значение цены в первый день (строка с индексом [0])\n",
    "    else: # все последующие дни\n",
    "      L.append(alfa * df['<CLOSE>'][i-1] + (1-alfa) * L[i-1]) # добавляем в список сглаженное значение, сформированное из предыдущего значения цены и предыдущего значения списка\n",
    "  df[ExpColumnName] = pd.Series(L) # добавляем в датафрейм столбец, содержащий элементы сформированного списка сглаженных значений\n",
    "  alfa += 0.1 # приращение коэффициента сглаживания"
   ]
  },
  {
   "cell_type": "code",
   "execution_count": null,
   "metadata": {
    "scrolled": true
   },
   "outputs": [],
   "source": [
    "df"
   ]
  },
  {
   "cell_type": "markdown",
   "metadata": {},
   "source": [
    "Построим график"
   ]
  },
  {
   "cell_type": "code",
   "execution_count": null,
   "metadata": {
    "scrolled": false
   },
   "outputs": [],
   "source": [
    "plt.figure(figsize=(14, 5))\n",
    "plt.title('Динамика цены акции Apple', loc='center')\n",
    "x = df['<DATE>']\n",
    "y = df['<CLOSE>']\n",
    "yt = df['Trend']\n",
    "ye = df['Exp03']\n",
    "plt.plot(x, y, label = 'Цена акции Apple')\n",
    "plt.plot(x, yt, label = 'Линия тренда')\n",
    "plt.plot(x, ye, label = 'Экспоненциальное сглаживание')\n",
    "plt.legend(loc='lower right');"
   ]
  },
  {
   "cell_type": "markdown",
   "metadata": {},
   "source": [
    "Второй способ, с помощью функции"
   ]
  },
  {
   "cell_type": "code",
   "execution_count": null,
   "metadata": {},
   "outputs": [],
   "source": [
    "def exponential_smoothing(series, alpha):\n",
    "    result = [series[0]] # first value is same as series\n",
    "    for n in range(1, len(series)):\n",
    "        result.append(alpha * series[n] + (1 - alpha) * result[n-1])\n",
    "    return result"
   ]
  },
  {
   "cell_type": "code",
   "execution_count": null,
   "metadata": {},
   "outputs": [],
   "source": [
    "plt.figure(figsize=(14, 5))\n",
    "plt.title('Динамика цены акции Apple', loc='center')\n",
    "x = df['<DATE>']\n",
    "y = df['<CLOSE>']\n",
    "yt = df['Trend']\n",
    "ye = exponential_smoothing(df['<CLOSE>'], 0.3)\n",
    "plt.plot(x, y, label = 'Цена акции Apple')\n",
    "plt.plot(x, yt, label = 'Линия тренда')\n",
    "plt.plot(x, ye, label = 'Экспоненциальное сглаживание')\n",
    "plt.legend(loc='lower right');"
   ]
  },
  {
   "cell_type": "markdown",
   "metadata": {},
   "source": [
    "### Скользящее среднее"
   ]
  },
  {
   "cell_type": "code",
   "execution_count": null,
   "metadata": {
    "scrolled": true
   },
   "outputs": [],
   "source": [
    "plt.figure(figsize=(14, 5))\n",
    "plt.title('Динамика цены акции Apple', loc='center')\n",
    "x = df['<DATE>']\n",
    "y = df['<CLOSE>']\n",
    "yt = df['Trend']\n",
    "ye = df['<CLOSE>'].rolling(4).mean()\n",
    "plt.plot(x, y, label = 'Цена акции Apple')\n",
    "plt.plot(x, yt, label = 'Линия тренда')\n",
    "plt.plot(x, ye, label = 'Скользящее среднее')\n",
    "plt.legend(loc='lower right');"
   ]
  },
  {
   "cell_type": "markdown",
   "metadata": {},
   "source": [
    "Рассчитаем $R^2$"
   ]
  },
  {
   "cell_type": "code",
   "execution_count": null,
   "metadata": {},
   "outputs": [],
   "source": [
    "n=len(df)\n",
    "disp_y=df[\"<CLOSE>\"].std()**2\n",
    "\n",
    "disp_epsilon = np.sum((y - yt)**2/n)\n",
    "print(\"Дисперсия цены\", round(disp_y,3))\n",
    "print(\"Дисперсия остатков модели\", round(disp_epsilon,3))\n",
    "\n",
    "R2 = (disp_y - disp_epsilon) / disp_y\n",
    "print(\"R^2 =\", round(R2,3))"
   ]
  },
  {
   "cell_type": "markdown",
   "metadata": {},
   "source": [
    "## Нелинейная модель\n",
    "\n",
    "Построим модель вида\n",
    "$$\n",
    "\\widehat{y}=a+b\\cdot{x}+c\\cdot{x^2}\n",
    "$$\n",
    "\n",
    "Найдем вектор параметров $w = (a, b, c)$, применив метод наименьших квадратов. \n",
    "\n",
    "$$\n",
    "\\widehat{y} = \\sum_{i=0}^N w_i x_{i} = X{w}^T\n",
    "$$\n",
    "\n",
    "Решив уравнение в матричном виде, получим соотношение\n",
    "\n",
    "$$ w=({X}^{T} {X})^{-1} {X}^{T}{y} $$\n",
    "\n",
    "где $X$ - матрица признаков, $y$ - вектор значений цены акции.\n",
    "\n",
    "Вектор $y$ известен и содержится в исходных данных. Сформируем матрицу $X$."
   ]
  },
  {
   "cell_type": "code",
   "execution_count": 18,
   "metadata": {},
   "outputs": [
    {
     "name": "stdout",
     "output_type": "stream",
     "text": [
      "[[ 1.  1.  1.]\n",
      " [ 1.  2.  4.]\n",
      " [ 1.  3.  9.]\n",
      " [ 1.  4. 16.]\n",
      " [ 1.  5. 25.]]\n"
     ]
    }
   ],
   "source": [
    "x0=np.ones(len(df))\n",
    "x1=np.arange(1,len(df)+1)\n",
    "x2 = x1**2\n",
    "X=np.stack((x0,x1,x2),axis=1)\n",
    "print(X[:5])"
   ]
  },
  {
   "cell_type": "code",
   "execution_count": 19,
   "metadata": {},
   "outputs": [
    {
     "data": {
      "text/plain": [
       "array([   1,    4,    9,   16,   25,   36,   49,   64,   81,  100,  121,\n",
       "        144,  169,  196,  225,  256,  289,  324,  361,  400,  441,  484,\n",
       "        529,  576,  625,  676,  729,  784,  841,  900,  961, 1024, 1089,\n",
       "       1156, 1225, 1296, 1369, 1444, 1521, 1600, 1681, 1764, 1849, 1936,\n",
       "       2025, 2116, 2209, 2304, 2401, 2500, 2601, 2704, 2809, 2916, 3025,\n",
       "       3136, 3249, 3364, 3481, 3600, 3721, 3844, 3969, 4096, 4225, 4356,\n",
       "       4489, 4624, 4761, 4900, 5041, 5184, 5329, 5476, 5625, 5776, 5929,\n",
       "       6084, 6241, 6400, 6561, 6724, 6889, 7056, 7225, 7396, 7569],\n",
       "      dtype=int32)"
      ]
     },
     "execution_count": 19,
     "metadata": {},
     "output_type": "execute_result"
    }
   ],
   "source": [
    "x2"
   ]
  },
  {
   "cell_type": "code",
   "execution_count": 20,
   "metadata": {},
   "outputs": [
    {
     "name": "stdout",
     "output_type": "stream",
     "text": [
      "[ 1.20630276e+02  9.93385783e-01 -8.38788530e-03]\n"
     ]
    }
   ],
   "source": [
    "w = np.dot(np.dot(np.linalg.inv(np.dot(X.T,X)),X.T),y)\n",
    "print(w)"
   ]
  },
  {
   "cell_type": "code",
   "execution_count": 21,
   "metadata": {},
   "outputs": [],
   "source": [
    "y_model = w[0]*X[:,0] + w[1]*X[:,1] + w[2]*X[:,2]"
   ]
  },
  {
   "cell_type": "code",
   "execution_count": 28,
   "metadata": {
    "scrolled": true
   },
   "outputs": [
    {
     "data": {
      "image/png": "[encoded data removed]",
      "text/plain": [
       "<Figure size 864x288 with 1 Axes>"
      ]
     },
     "metadata": {
      "needs_background": "light"
     },
     "output_type": "display_data"
    }
   ],
   "source": [
    "plt.figure(figsize=(12,4))\n",
    "plt.plot(x, y, label=\"Цена акции\")\n",
    "plt.plot(x, y_model, label=\"Модель цены акции\")\n",
    "plt.xticks(ticks=np.arange(0,len(df))[::10], \n",
    "           labels=df[\"<DATE>\"].apply(lambda x: dt.strftime(x,\"%Y-%m-%d\"))[::10])\n",
    "plt.legend()\n",
    "plt.grid();"
   ]
  },
  {
   "cell_type": "markdown",
   "metadata": {},
   "source": [
    "Рассчитаем $R^2$ нелинейной модели"
   ]
  },
  {
   "cell_type": "code",
   "execution_count": 23,
   "metadata": {},
   "outputs": [
    {
     "name": "stdout",
     "output_type": "stream",
     "text": [
      "Дисперсия цены 70.48\n",
      "Дисперсия остатков модели 6.202\n",
      "R^2 = 0.912\n"
     ]
    }
   ],
   "source": [
    "n=len(df)\n",
    "disp_y=df[\"<CLOSE>\"].std()**2\n",
    "\n",
    "disp_epsilon = np.sum((y - y_model)**2/n)\n",
    "print(\"Дисперсия цены\", round(disp_y,3))\n",
    "print(\"Дисперсия остатков модели\", round(disp_epsilon,3))\n",
    "\n",
    "R2 = (disp_y - disp_epsilon) / disp_y\n",
    "print(\"R^2 =\", round(R2,3))"
   ]
  },
  {
   "cell_type": "code",
   "execution_count": null,
   "metadata": {},
   "outputs": [],
   "source": []
  }
 ],
 "metadata": {
  "colab": {
   "collapsed_sections": [],
   "name": "Лек Пайтон",
   "provenance": []
  },
  "kernelspec": {
   "display_name": "Python 3",
   "language": "python",
   "name": "python3"
  },
  "language_info": {
   "codemirror_mode": {
    "name": "ipython",
    "version": 3
   },
   "file_extension": ".py",
   "mimetype": "text/x-python",
   "name": "python",
   "nbconvert_exporter": "python",
   "pygments_lexer": "ipython3",
   "version": "3.8.8"
  }
 },
 "nbformat": 4,
 "nbformat_minor": 1
}
