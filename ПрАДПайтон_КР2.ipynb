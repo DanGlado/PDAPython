{
 "cells": [
  {
   "cell_type": "code",
   "execution_count": 1,
   "metadata": {},
   "outputs": [
    {
     "data": {
      "text/html": [
       "﻿<STYLE>\r\n",
       " .tab_text { text-indent:40px; }\r\n",
       " .large_text { font-size:22px; }\r\n",
       " .larger_text { font-size:1em }\r\n",
       " .large_green { font-size:22px; color:green; }\r\n",
       " .blue { color:#23AAFF; }\r\n",
       " .pink { color:#ebd3d7; }\r\n",
       " .green { color:green; }\r\n",
       " .stress_text { font-weight:bold }\r\n",
       " .bold_text { font-weight:bold; }\r\n",
       " .large_bold { font-size:16pt; font-weight:bold; color:#23AAFF; }\r\n",
       " .special { color:orange; font-weight:bold; }\r\n",
       " .header_2 { text-align:center; font-size:20px; }\r\n",
       " .header_4 { font-size:20px; color:green; text-indent:40px; }\r\n",
       " .header_6 { font-size:16px; font-weight:bold; color:gray }\r\n",
       "</STYLE>"
      ],
      "text/plain": [
       "<IPython.core.display.HTML object>"
      ]
     },
     "execution_count": 1,
     "metadata": {},
     "output_type": "execute_result"
    }
   ],
   "source": [
    "# Стиль оформления документа\n",
    "from IPython.display import HTML\n",
    "from urllib.request import urlopen\n",
    "html = urlopen(\"file:lecture.css\")\n",
    "HTML(html.read().decode('utf-8'))"
   ]
  },
  {
   "cell_type": "markdown",
   "metadata": {
    "id": "MFuFPhggg8o4"
   },
   "source": [
    "\n",
    "<p style=\"font-size:100%; text-align:center\">Финансовый университет при Правительстве Российской Федерации</p>\n",
    "\n",
    "<img src=\"./Img/clipart-financial-university-small.png\" style=\"width:125px\">\n",
    "\n",
    "<p style=\"font-size:150%; text-align:center\"> Программирование и анализ данных <br>с помощью Пайтон</p>\n",
    "\n",
    "<p style=\"font-size:100%; text-align:center\">Поток: УЦИ20-1</p>\n",
    "\n",
    "<p style=\"font-size:140%; text-align:center\">Контрольная работа</p>\n",
    "\n",
    "<p style=\"font-size:100%; text-align:center\">28 декабря 2021 года</p>"
   ]
  },
  {
   "cell_type": "markdown",
   "metadata": {},
   "source": [
    "<p class=\"large_green\"> Загрузите библиотеки </p>"
   ]
  },
  {
   "cell_type": "code",
   "execution_count": 71,
   "metadata": {
    "id": "2_NxMphilReu"
   },
   "outputs": [],
   "source": [
    "import pandas as pd\n",
    "import numpy as np\n",
    "from matplotlib import pyplot as plt\n",
    "from collections import Counter"
   ]
  },
  {
   "cell_type": "markdown",
   "metadata": {},
   "source": [
    "<p class=\"large_green\"> Задание 1 </p>\n",
    "\n",
    "Бросают два кубика - красный и белый. На каждом кубике выпадает от 1 до 6 очков. Массивы *red* и *white* содержат возможные значения каждого кубика:\n",
    "\n",
    "```\n",
    "red=np.arange(1,7)\n",
    "white=np.arange(1,7)\n",
    "```\n",
    "В результате суммирования очков двух кубиков можно получить число от 2 до 12. Используя переменные *white* и *red*, напишите код, результатом которого станет numpy-массив *summa* размерности (6x6), в каждой ячейке которого содержится один из возможных исходов бросания двух кубиков, если исходом считать сумму очков.\n",
    "\n",
    "Ожидается результат:\n",
    "\n",
    "```\n",
    "summa\n",
    "array([[ 2,  3,  4,  5,  6,  7],\n",
    "       [ 3,  4,  5,  6,  7,  8],\n",
    "       [ 4,  5,  6,  7,  8,  9],\n",
    "       [ 5,  6,  7,  8,  9, 10],\n",
    "       [ 6,  7,  8,  9, 10, 11],\n",
    "       [ 7,  8,  9, 10, 11, 12]])\n",
    "```"
   ]
  },
  {
   "cell_type": "code",
   "execution_count": null,
   "metadata": {},
   "outputs": [],
   "source": [
    "# Ваш код здесь\n"
   ]
  },
  {
   "cell_type": "markdown",
   "metadata": {},
   "source": [
    "<p class=\"large_green\"> Задание 2 </p>\n",
    "\n",
    "В результате выполнения предыдущего задания получен двумерный массив *summa*, показывающий на пересчении соответствующих строк и столбцов результат сумирования очков кубиков. Легко заметить, что некоторые числа повторяются, например, число три присутствует в массиве дважды, число четыре три раза, число семь - шесть раз. Постройте линейчатую диаграмму, отражающую количество каждого из исходов.\n",
    "<img src=\"./img/Task_2.png\">"
   ]
  },
  {
   "cell_type": "code",
   "execution_count": null,
   "metadata": {},
   "outputs": [],
   "source": [
    "# Ваш код здесь\n"
   ]
  },
  {
   "cell_type": "markdown",
   "metadata": {},
   "source": [
    "<p class=\"large_green\"> Задание 3 </p>\n",
    "\n",
    "Имеется выгрузка из базы данных фильмотеки в CSV-формате: *imdb.csv*. Загрузите этот файл в таблицу Pandas DataFrame. Назовите таблицу *films*.\n",
    "\n",
    "В столбце *Runtime (Minutes)* содержится длительность фильма в минутах. Добавьте столбец, в котором длительность каждого фильма будет указана в часах и минутах. Например, фильм *Guardians of the Galaxy* длится 121 минуту. Ожидается результат: `2 час. 1 мин.` Назовите этот толбец *Runtime (Hours)*. Распечатайте пять первых строк."
   ]
  },
  {
   "cell_type": "code",
   "execution_count": 49,
   "metadata": {},
   "outputs": [],
   "source": [
    "# Ваш код здесь\n"
   ]
  },
  {
   "cell_type": "markdown",
   "metadata": {},
   "source": [
    "<p class=\"large_green\"> Задание 4 </p>\n",
    "\n",
    "В столбце *Actors* фильмотеки *imdb.csv* перечислены актеры. Найдите актеров, сыгравших не менее чем в семи фильмах."
   ]
  },
  {
   "cell_type": "code",
   "execution_count": 49,
   "metadata": {},
   "outputs": [],
   "source": [
    "# Ваш код здесь\n"
   ]
  },
  {
   "cell_type": "markdown",
   "metadata": {},
   "source": [
    "<p class=\"large_green\"> Задание 5 </p>\n",
    "\n",
    "С помощью функции *np.diag()* cоздайте матрицу 5x5 со значениями 1,2,3,4 ниже главной диагонали.\n",
    "\n",
    "```\n",
    "array([[0, 0, 0, 0, 0],\n",
    "       [1, 0, 0, 0, 0],\n",
    "       [0, 2, 0, 0, 0],\n",
    "       [0, 0, 3, 0, 0],\n",
    "       [0, 0, 0, 4, 0]])\n",
    " ```"
   ]
  },
  {
   "cell_type": "code",
   "execution_count": 49,
   "metadata": {},
   "outputs": [],
   "source": [
    "# Ваш код здесь\n"
   ]
  },
  {
   "cell_type": "markdown",
   "metadata": {},
   "source": [
    "<p class=\"large_green\"> Задание 6 </p>\n",
    "\n",
    "На основе строки, представляющей из себя предложение, построить вложенный список, содержащий символы всех слов в предложении. Пример: строка «Волшебной красоты закат озарил Красноярск» должна быть преобразована в:\n",
    "```\n",
    "[['В', 'о', 'л', 'ш', 'е', 'б', 'н', 'о', 'й'],\n",
    " ['к', 'р', 'а', 'с', 'о', 'т', 'ы'],\n",
    " ['з', 'а', 'к', 'а', 'т'],\n",
    " ['о', 'з', 'а', 'р', 'и', 'л'],\n",
    " ['К', 'р', 'а', 'с', 'н', 'о', 'я', 'р', 'с', 'к']]\n",
    " ```"
   ]
  },
  {
   "cell_type": "code",
   "execution_count": 49,
   "metadata": {},
   "outputs": [],
   "source": [
    "# Ваш код здесь\n"
   ]
  }
 ],
 "metadata": {
  "colab": {
   "name": "ПрАДПайтон_ДЗ_Ноябрь_2021_Преподаватель",
   "provenance": []
  },
  "kernelspec": {
   "display_name": "Python 3",
   "language": "python",
   "name": "python3"
  },
  "language_info": {
   "codemirror_mode": {
    "name": "ipython",
    "version": 3
   },
   "file_extension": ".py",
   "mimetype": "text/x-python",
   "name": "python",
   "nbconvert_exporter": "python",
   "pygments_lexer": "ipython3",
   "version": "3.7.6"
  }
 },
 "nbformat": 4,
 "nbformat_minor": 1
}
