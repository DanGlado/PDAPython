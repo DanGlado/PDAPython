{
 "cells": [
  {
   "cell_type": "markdown",
   "metadata": {
    "id": "2Yn_cT5q5eWw"
   },
   "source": [
    "<img src=\"../Img/banner-fa-49-2.png\">\n",
    "\n",
    "# Лекция 4. Библиотека Pandas\n",
    "\n",
    "21 сентября 2021 года, ВМ/451 (ул. Верхняя Масловка, д. 15)<br>\n",
    "Поток:УЦИ20-1<br>\n",
    "Автор: Смирнов Михаил Викторович, доцент Департамента Анализа данных и машинного обучения Финансового университета при Правительстве Российской Федерации"
   ]
  },
  {
   "cell_type": "markdown",
   "metadata": {
    "id": "639oFyYlksbc"
   },
   "source": [
    "## Основы работы с Pandas\n",
    "\n",
    "*Pandas* - библиотека для работы с данными. Имеется подробная [документация](http://pandas.pydata.org/pandas-docs/stable/) с множеством примеров. *Pandas* не встроен в Python по умолчанию, его необходимо импортировать. Чаще всего *pandas* импортируют c псевдонимом `pd`."
   ]
  },
  {
   "cell_type": "code",
   "execution_count": null,
   "metadata": {
    "id": "O3_eV5N1mBsX"
   },
   "outputs": [],
   "source": [
    "import pandas as pd"
   ]
  },
  {
   "cell_type": "markdown",
   "metadata": {
    "id": "rjrEN6RnaB21"
   },
   "source": [
    "### Учебный пример\n",
    "\n",
    "Для изучения технологии работы с этой библиотекой будем использовать [учебный пример финансовой информации](./Data/FinancialSample2.csv)."
   ]
  },
  {
   "cell_type": "markdown",
   "metadata": {
    "id": "N7fqF-u0qchG"
   },
   "source": [
    "Прежде, чем переходить к учебному примеру, рассмотрим основные объекты Pandas - *Series* и *DataFrame*"
   ]
  },
  {
   "cell_type": "markdown",
   "metadata": {
    "id": "EY93hs1T5tW2"
   },
   "source": [
    "### Series"
   ]
  },
  {
   "cell_type": "markdown",
   "metadata": {
    "id": "42SQxEa5q2gh"
   },
   "source": [
    "*Series* - это структура данных, которую можно рассматривать, как одну колонку таблицы, это одномерный массив. Ранее мы изучили похожий одномерный массив - список, доступ к элементам которого осуществлялся по индексу, представляющему собой порядковый номер. В *Series* индексами могут быть не только порядковые номера, но и другие данные: даты, имена, идентификаторы различных объектов и т.д.\n",
    "\n",
    "Создать *Series* можно с помощью команды `pd.Series()` (или `pandas.Series()`, если библиотека pandas импортирована без псевдонима). Создадим *Series* с данными об автомобилях - лидерах продаж в России в 2020 году."
   ]
  },
  {
   "cell_type": "code",
   "execution_count": null,
   "metadata": {
    "id": "iZmIIuA2uFxM"
   },
   "outputs": [],
   "source": [
    "leaders = pd.Series(['Лада Гранта', 'Лада Веста', 'Kia Rio', 'Hyundai Creta'], index=['Первое','Второе','Третье','Четвертое'])\n",
    "leaders"
   ]
  },
  {
   "cell_type": "markdown",
   "metadata": {
    "id": "GqNyaNAtv3Cc"
   },
   "source": [
    "Индекс можно не указывать, тогда он будет создан автоматически и содержать порядковые номера элементов, начиная с нуля. Доступ к элементам Series осуществляется с использованием методов `.loc[]` и `.iloc[]`. В чем разница между ними? Параметром `.loc[]` является метка индекса, параметром `.iloc[]` является целочисленный порядковый номер элемента."
   ]
  },
  {
   "cell_type": "code",
   "execution_count": null,
   "metadata": {
    "id": "vqvDYdMNwyQt"
   },
   "outputs": [],
   "source": [
    "#Примеры использования .loc\n",
    "print(leaders.loc['Первое']) # Доступ к одному элементу\n",
    "print(leaders.loc[['Первое','Четвертое']]) # Доступ к нескольким элементам\n",
    "print()\n",
    "\n",
    "#Примеры использования .iloc\n",
    "print(leaders.iloc[0]) # Доступ к одному элементу\n",
    "print(leaders.iloc[[0,3]]) # Доступ к нескольким элементам"
   ]
  },
  {
   "cell_type": "markdown",
   "metadata": {
    "id": "5lpvxhPt14Rz"
   },
   "source": [
    "<u>Задание</u>. Имеется *серия*, содержащая числа от 10 до 1000. Какое число содержит элемент с индексом 175? Вычислите разность элементов с индексами 900 и 16."
   ]
  },
  {
   "cell_type": "code",
   "execution_count": null,
   "metadata": {
    "id": "dwKG6XBG2aGI"
   },
   "outputs": [],
   "source": [
    "s = pd.Series(range(10,1001))\n",
    "# Ваш код здесь"
   ]
  },
  {
   "cell_type": "markdown",
   "metadata": {
    "id": "-jtGzxZX6RbC"
   },
   "source": [
    "### DataFrame\n",
    "\n",
    "Объект *DataFrame* представляет собой таблицу, столбцами которой выступают объекты *Series*. Строки *Series* являются элементами *DataFrame*. Рассмотрим основные способы создания датафрейма: из словаря, из списка, с помощью функции `read_csv()`."
   ]
  },
  {
   "cell_type": "markdown",
   "metadata": {
    "id": "Sr1RL-6mzO_v"
   },
   "source": [
    "#### Из словаря\n",
    "\n",
    "Создавать датафрейм удобно из словаря. Словарь представляет собой заключенные в квадратные скобки пары `{ключ:значение}`. Такие парыстоновятся столбцами датафрейма, при этом имена ключей становятся названиями стобцов, значения становятся элементами столбцов."
   ]
  },
  {
   "cell_type": "code",
   "execution_count": null,
   "metadata": {
    "colab": {
     "base_uri": "https://localhost:8080/",
     "height": 174
    },
    "id": "OtFwc_8W9QMm",
    "outputId": "9dc2b450-a204-464d-96f0-3e64f0f7aedb"
   },
   "outputs": [],
   "source": [
    "market = pd.DataFrame({'car':['Lada Granta','Lada Vesta','Kia Rio','Hyunday Creta'], 'year':[2019,2018,2010,2015], 'condition':[75,104,20,90], 'km':[130000,210000,75000,94000]})\n",
    "market"
   ]
  },
  {
   "cell_type": "markdown",
   "metadata": {
    "id": "Wo9dhl2F_Vsx"
   },
   "source": [
    "#### Из списка\n",
    "\n",
    "*DataFrame* можно создать из списка списков или списка кортежей. Необязательными параметрами являются `columns` и `index`. Рассмотрим пример создания датафрейма из списка списков. Пусть имеются сведения о результатах торгов за два дня. Создадим список из двух вложенных списков, каждый из которых содержит четыре элемента: цена открытия, минимальная и максимальная цены в течение дня, цена закрытия. Число вложенных списков равно числу строк, число их элементов равно числу столбцов."
   ]
  },
  {
   "cell_type": "code",
   "execution_count": null,
   "metadata": {
    "id": "-UHFOlCw4Md3"
   },
   "outputs": [],
   "source": [
    "history=pd.DataFrame([[150, 20, 140, 140],[140,94,152,150]],columns=['Open','Low','High','Close'],index=['2020-12-07', '2020-12-08'])\n",
    "history"
   ]
  },
  {
   "cell_type": "markdown",
   "metadata": {
    "id": "bcdFHAWg62x1"
   },
   "source": [
    "Следующий пример демонстрирует возможность создания датафрейма из кортежа. Пусть имеются данные о температуре и давлении в три первых дня мая. Оформим пары (температура, давление) в виде списка кортежей и передадим такой список в качестве параметра `pd.DataFrame()`"
   ]
  },
  {
   "cell_type": "code",
   "execution_count": null,
   "metadata": {
    "colab": {
     "base_uri": "https://localhost:8080/",
     "height": 143
    },
    "id": "GCtqWdii48Gc",
    "outputId": "7ae79428-7234-40ba-a3f2-9b2ec076894d"
   },
   "outputs": [],
   "source": [
    "may=pd.DataFrame([(15,750),(17,752),(22,)], index=[1,2,3], columns=['Temperature','Pressure'])\n",
    "may"
   ]
  },
  {
   "cell_type": "markdown",
   "metadata": {
    "id": "KxLDOxlXHcnw"
   },
   "source": [
    "<u>Задание</u>. Мебельная фабрика выпускает продукцию  наименований: диваны, кровати, трюмо. Создайте таблицу *DatаFrame*, содержащую: количество призведенной продукции каждого наименования, остаток на складе фабрики. Наименования разместите в строках, а количество и остаток в столбцах."
   ]
  },
  {
   "cell_type": "markdown",
   "metadata": {
    "id": "4-VMbARUiXxB"
   },
   "source": [
    "<u>Задание</u>. Разделите столбец **car** таблицы **market** на два столбца: **mark** (марка) и **model** (модель)."
   ]
  },
  {
   "cell_type": "markdown",
   "metadata": {
    "id": "98Jzd_jrNrZU"
   },
   "source": [
    "#### С помощью функции read_csv()\n"
   ]
  },
  {
   "cell_type": "markdown",
   "metadata": {
    "id": "8tFIdxTgN9CY"
   },
   "source": [
    "Файл `.csv` - это текстовый файл с разделителями. Функция `read_csv()` позволяет получить данные, хранящиеся в формате `csv`. Обязательным параметром является имя файла.\n",
    "\n",
    "`pd.read_csv('Полный_путь_к_файлу/название_файла.csv')`\n",
    "\n",
    "Функция возвращает таблицу DataFrame. Важными параметрами функции являются: \n",
    "<PRE>\n",
    "`sep` - разделитель, по умолчанию запятая;\n",
    "`decimal` - разделитель числа на целую и дробную часть, по умолчанию точка;\n",
    "`names` — список с названиями колонок, необязательный параметр;\n",
    "`skiprows` - позволяет не загружать верхние строки файла.\n",
    "</Pre>\n",
    "\n",
    "Используем функцию read_csv() для создания датафрейма из csv-файла учебного примера `Financial Sample.csv`."
   ]
  },
  {
   "cell_type": "code",
   "execution_count": null,
   "metadata": {
    "colab": {
     "base_uri": "https://localhost:8080/",
     "height": 513
    },
    "id": "ARnErsVfcXxc",
    "outputId": "edb709db-e9ea-4f2f-f489-624aa56790f7"
   },
   "outputs": [],
   "source": [
    "fs = pd.read_csv('./Data/FinancialSample2.csv', sep=';')\n",
    "fs"
   ]
  },
  {
   "cell_type": "markdown",
   "metadata": {
    "id": "BJgb5zUgcY6l"
   },
   "source": [
    "### Методы *head(), tail(), sample()*\n",
    "\n",
    "Выводят на печать первые, последние или случайные строки таблицы. Например, метод `.head()` выводит пять первых строк. Число строк можно явно указывать в качестве параметра метода."
   ]
  },
  {
   "cell_type": "code",
   "execution_count": null,
   "metadata": {
    "colab": {
     "base_uri": "https://localhost:8080/",
     "height": 226
    },
    "id": "jEy4MKk_99G8",
    "outputId": "9eb1c8fc-1ddd-4261-9530-fa32dc4ab9b4"
   },
   "outputs": [],
   "source": [
    "fs.head()"
   ]
  },
  {
   "cell_type": "markdown",
   "metadata": {
    "id": "5AQKhYXXEWbS"
   },
   "source": [
    "### Чтение и запись в файл\n",
    "\n",
    "При работе с `csv` файлами в *pandas* всегда надо стремиться использовать функцию `read_csv()`. Но если, по каким-то причинам, это нецелесообразно, то можно применить следующий алгоритм:\n",
    "\n",
    "1. Открыть файл\n",
    "2. Прочитать его построчно\n",
    "3. Каждую строку разбить на элементы и включить в список уровня строки\n",
    "4. Создать список уровня файла, содержащий в себе построчные списки\n",
    "5. Создать DataFtame\n",
    "\n",
    "\n",
    "<u>Пример</u>. Применим этот алгоритм для создадания датафрейма из csv-файла `Financial Sample Fields.csv`."
   ]
  },
  {
   "cell_type": "code",
   "execution_count": null,
   "metadata": {
    "colab": {
     "base_uri": "https://localhost:8080/",
     "height": 551
    },
    "id": "8Hl-6lf3E8dD",
    "outputId": "9ff88d94-3574-4302-956b-f36bc38510e1"
   },
   "outputs": [],
   "source": [
    "with open('./Data/FinancialSampleFields.csv', encoding='utf-8') as f:\n",
    "  content = f.readlines()\n",
    "  content = [x.replace('\\n','').split(';') for x in content]\n",
    "\n",
    "pd.DataFrame(content[1:],columns = content[0])"
   ]
  },
  {
   "cell_type": "markdown",
   "metadata": {
    "id": "NJByWmpXhQAI"
   },
   "source": [
    "### Метод *info()*\n",
    "\n",
    "Метод *info()* предоставляет информацию о колонках *DataFrame*."
   ]
  },
  {
   "cell_type": "code",
   "execution_count": null,
   "metadata": {
    "colab": {
     "base_uri": "https://localhost:8080/"
    },
    "id": "TyPXGx6dhmEB",
    "outputId": "e11eb432-232a-4bfd-dad3-73ead8d11f95"
   },
   "outputs": [],
   "source": [
    "fs.info()"
   ]
  },
  {
   "cell_type": "markdown",
   "metadata": {
    "id": "fAJn1rt2fGlQ"
   },
   "source": [
    "### Метод *describe()*\n",
    "\n",
    "Метод describe показывает основные статистические характеристики данных по каждому числовому признаку (типы int64 и float64): \n",
    "<PRE>\n",
    "count - число непропущенных значений,\n",
    "mean - среднее, \n",
    "std - стандартное отклонение, \n",
    "min, max - диапазон,\n",
    "50% - медиану,\n",
    "25%, 75% - первый и третий квартили.\n",
    "</Pre>"
   ]
  },
  {
   "cell_type": "code",
   "execution_count": null,
   "metadata": {
    "colab": {
     "base_uri": "https://localhost:8080/",
     "height": 320
    },
    "id": "OcRcl3uMfb3Q",
    "outputId": "4f1dff84-772f-4b8c-a146-a48271678fa1",
    "scrolled": true
   },
   "outputs": [],
   "source": [
    "fs.describe()"
   ]
  },
  {
   "cell_type": "markdown",
   "metadata": {
    "id": "GcWmGKwggv7d"
   },
   "source": [
    "Чтобы посмотреть статистику по нечисловым данным (например, по строчным `object` или логическим `bool`), нужно явно указать интересующие типы в параметре `include`. Для каждой колонки с типом `object` (строчные данные) выводится количество непустых строк, уникальных значений, самое частое значение `top` и частота этого значения `freq`."
   ]
  },
  {
   "cell_type": "code",
   "execution_count": null,
   "metadata": {
    "colab": {
     "base_uri": "https://localhost:8080/",
     "height": 175
    },
    "id": "fNl2WZmRhBEO",
    "outputId": "913f955e-6ec2-4bc7-ef7f-ded2b7d2447c",
    "scrolled": true
   },
   "outputs": [],
   "source": [
    "fs.describe(include=['object'])"
   ]
  },
  {
   "cell_type": "markdown",
   "metadata": {
    "id": "pR6zutg-hk5w"
   },
   "source": [
    "Задание.\n",
    "Ответьте на вопросы.\n",
    "\n",
    "1. Какова максимальная сумма скидок?\n",
    "2. Какова самая распространенная система скидок?\n",
    "3. Сколько разных систем скидок применяется?\n",
    "4. Какова средняя прибыль?\n",
    "5. Каково стандартное отклонение значений себестоимости проданных товаров?\n",
    "6. Сколько раз встречается самая частая страна Mexico?\n",
    "7. Какое значение у первого квартиля цены продажи?\n"
   ]
  },
  {
   "cell_type": "markdown",
   "metadata": {
    "id": "Z90Io3GKoeZu"
   },
   "source": [
    "### Статистические параметры.\n",
    "\n",
    "Для вычисления отдельных статистических параметров DataFrame можно использовать методы:\n",
    "<Table>\n",
    "<tr><th bgcolor='aqua'>Метод<th bgcolor='aqua' align=left>Статистический параметр\n",
    "<tr><td>.max()<td>Максимум\n",
    "<tr><td>.min()<td>Минимум\n",
    "<tr><td>.mean()<td>Среднее значение\n",
    "<tr><td>.median()<td>Медиана\n",
    "<tr><td>.sum()<td>Сумма\n",
    "<tr><td>.count()<td>Количество непустых элементов\n",
    "<tr><td>.std()<td>Стандартное отклонение\n",
    "<tr><td>.quantile(q)<td>квантиль, 0&ltq&lt1\n",
    "</Table>\n",
    "\n",
    "Если один из этих методов применить ко всему DataFrame, то в результате его работы будет получен объект типа Series. В случае применения метода к отдельному столбцу, результатом вычислений станет число (среднее значение элементов столбца, минимум, максимум и т.п.).\n",
    "\n",
    "Параметры методов:\n",
    "**axis** — определяет, подсчитывать максимум по строкам (1) или по столбцам (0) (по умолчанию 0);\n",
    "\n",
    "**numeric_only** — определяет, вычислять параметры только по числовым столбцам/строкам или нет (True/False). Если передать False в методы .mean() или .std(), компилятор выдаст ошибку.\n",
    "\n",
    "Пример: Рассчитать среднее значение по столбцам таблицы автомобилей на вторичном рынке (market)."
   ]
  },
  {
   "cell_type": "code",
   "execution_count": null,
   "metadata": {
    "colab": {
     "base_uri": "https://localhost:8080/"
    },
    "id": "Y7HMASvbsub7",
    "outputId": "3c101984-b703-48dc-9d2b-d5d45f190066",
    "scrolled": true
   },
   "outputs": [],
   "source": [
    "market.mean()"
   ]
  },
  {
   "cell_type": "markdown",
   "metadata": {
    "id": "-6TwE9fxu58D"
   },
   "source": [
    "<u>Задание</u>. Ответьте на вопросы.\n",
    "1. Каково стандартное отклонение цены производства?\n",
    "2. Какова сумма всех скидок?\n",
    "3. Сколько непустых элементов в категории \"Сегмент\"?\n"
   ]
  },
  {
   "cell_type": "markdown",
   "metadata": {
    "id": "O19QRQijxc8j"
   },
   "source": [
    "### Извлечение данных по условию\n",
    "\n",
    "Использование условий позволяет выбирать только отвечающие условиям данные.\n",
    "\n",
    "Примеры:\n",
    "\n",
    "`fs[fs['SalePrice']>90] # отобрать результаты, для которых цена продажи больше 90`\n",
    "\n",
    "В результате операции сравнения в квадратных скобках создается список из *True* и *False*, который показывает, какие строки *DataFrame* нужно оставить, а какие убрать.\n",
    "\n",
    "`fs[fs['Discounts']>fs['Discounts'].mean()] # результаты, для которых сумма скидок превышает среднюю сумму скидок`\n",
    "\n",
    "Условия можно комбинировать, используя операторы **&** (логическое И) и | (логическое ИЛИ).\n",
    "\n",
    "`fs[(fs['Discounts']>fs['Discounts'].mean()) & (fs['UnitsSold']<fs['UnitsSold'].mean())].sort_values('Country') # сумма скидок выше среднего, продано товара ниже среднего по выборке`\n",
    "\n",
    "`fs[fs['Segment']=='Enterprise']['COGS'].mean() # найти среднюю себестоимость товаров промышленного (Enterprise) сегмента`\n",
    "\n",
    "Проверьте приведенные примеры в своих ноутбуках."
   ]
  },
  {
   "cell_type": "markdown",
   "metadata": {
    "id": "-eCyUerbHb7s"
   },
   "source": [
    "<u>Задание</u>.\n",
    "1. Какова сумма валовых продаж (GrossSales) товаров, произведеных Amarilla для малого бизнеса?\n",
    "2. Определите среднюю стоимость производства (ManufacturingPrice) товаров, выпущенных для Мексики стоимостью (SalePrice) выше, чем стоимость 70% товаров.\n",
    "3. Найдите минимальную цену производства товара правительственого сегмента, для которого цена продажи ниже цены производства.\n",
    "4. Какова средняя цена товара, стоимость производства которого ниже среднего?\n",
    "5. Во сколько раз средняя себестоимость (COGS) товаров промышленного сегмента отличается от средней себестоимости товаров малого бизнеса?"
   ]
  },
  {
   "cell_type": "code",
   "execution_count": null,
   "metadata": {
    "colab": {
     "base_uri": "https://localhost:8080/"
    },
    "id": "ijcgc65wtBls",
    "outputId": "db56a48e-91f9-49fd-c5d6-d8ba714f46ae"
   },
   "outputs": [],
   "source": [
    "#1\n",
    "fs[(fs['Product']=='Amarilla') & (fs['Segment']=='Small Business')]['GrossSales'].sum()"
   ]
  },
  {
   "cell_type": "code",
   "execution_count": null,
   "metadata": {
    "colab": {
     "base_uri": "https://localhost:8080/"
    },
    "id": "XE29H5Mmt3n6",
    "outputId": "132b9a93-89c8-486f-cf50-c8c237e324d5"
   },
   "outputs": [],
   "source": [
    "#2\n",
    "fs[(fs['Country']=='Mexico') & (fs['SalePrice']>fs['SalePrice'].quantile(0.7))]['ManufacturingPrice'].mean()"
   ]
  },
  {
   "cell_type": "code",
   "execution_count": null,
   "metadata": {
    "colab": {
     "base_uri": "https://localhost:8080/"
    },
    "id": "x8BkVFnMvybb",
    "outputId": "fd0e7b5c-e3b4-4d22-c862-ef53851f5cc9"
   },
   "outputs": [],
   "source": [
    "#3\n",
    "fs[(fs['Segment']=='Government') & (fs['SalePrice']<fs['ManufacturingPrice'])]['ManufacturingPrice'].min()"
   ]
  },
  {
   "cell_type": "code",
   "execution_count": null,
   "metadata": {
    "colab": {
     "base_uri": "https://localhost:8080/"
    },
    "id": "5OHTCVh2xaMU",
    "outputId": "9c343dfd-1b59-4ecf-8f3a-528288f07482"
   },
   "outputs": [],
   "source": [
    "#4\n",
    "fs[(fs['ManufacturingPrice']<fs['ManufacturingPrice'].mean())]['SalePrice'].mean()"
   ]
  },
  {
   "cell_type": "code",
   "execution_count": null,
   "metadata": {
    "colab": {
     "base_uri": "https://localhost:8080/"
    },
    "id": "jfLgMOVGiR2R",
    "outputId": "a455db3c-39dc-415d-82c1-9352392d7815"
   },
   "outputs": [],
   "source": [
    "#5\n",
    "fs[fs['Segment']=='Enterprise']['COGS'].mean()/fs[fs['Segment']=='Small Business']['COGS'].mean()"
   ]
  },
  {
   "cell_type": "markdown",
   "metadata": {
    "id": "mLSdzFG55hyA"
   },
   "source": [
    "## Группировка данных\n",
    "\n",
    "Данные можно представить себе как последовательность каких-то единичных наблюдений, например, в нашем датасете единичное наблюдение — это информация о производстве конкретного товара для конкретного потребителя. У каждого наблюдения есть какие-то атрибуты. Они могут быть разных типов:\n",
    "- категориальные — например, система скидок;\n",
    "- численные — например, размер скидки.\n",
    "\n",
    "Решение задачи группировки предполагает разделение данных по некоторому признаку (атрибуту), после чего к каждому элементу этих разделенных данных мы можем применить агрегирующую операцию. Это такая операция, которая позволяет вычислить какой-либо показатель. Затем мы можем оценить, как отличаются эти показатели в зависимости от признака, по которому было осуществлено разделение. Такое разделение мы можем назвать группировкой данных.\n",
    "\n",
    "Умение группировать данные по нужным признакам и быстро высчитывать необходимые параметры — основа, без которых грамотная аналитика невозможна."
   ]
  },
  {
   "cell_type": "markdown",
   "metadata": {
    "id": "emMhVgIr7NAf"
   },
   "source": [
    "### Функция value_counts()\n",
    "\n",
    "Пусть перед нами поставлена задача оценить, сколько раз в выборке присутствуют разные производители"
   ]
  },
  {
   "cell_type": "code",
   "execution_count": null,
   "metadata": {
    "colab": {
     "base_uri": "https://localhost:8080/"
    },
    "id": "UAgcXQiL9Cco",
    "outputId": "ab793d8b-01ef-4d2d-baa4-dd755361fbb5"
   },
   "outputs": [],
   "source": [
    "s=fs['Product'].value_counts()\n",
    "s"
   ]
  },
  {
   "cell_type": "markdown",
   "metadata": {
    "id": "2DBB5mcF9ZA5"
   },
   "source": [
    "Функция `value_counts()` подсчитывает для каждого значения в столбце количество раз, которое это значение встречается.\n",
    "\n",
    "Функция `value_counts()` возвращает серию. В примере выше мы записали её как переменную s. Индекс серии s — это уникальные значения, встречающиеся в исходной серии (столбце).\n",
    "\n",
    "Использование функции `value_counts()` позволяет сделать несколько важных выводов о содержимом столбца."
   ]
  },
  {
   "cell_type": "code",
   "execution_count": null,
   "metadata": {
    "colab": {
     "base_uri": "https://localhost:8080/"
    },
    "id": "eBqBJGMY-qF6",
    "outputId": "ab154bc6-731c-4769-db60-bcac3ef6fdac"
   },
   "outputs": [],
   "source": [
    "s.index"
   ]
  },
  {
   "cell_type": "markdown",
   "metadata": {
    "id": "NjyLnr30_M52"
   },
   "source": [
    "Обратите внимание, что в индексе названия производителей идут так же, как в серии, то есть по убыванию частоты присутствия в выборке"
   ]
  },
  {
   "cell_type": "code",
   "execution_count": null,
   "metadata": {
    "colab": {
     "base_uri": "https://localhost:8080/",
     "height": 36
    },
    "id": "2TcaBXds_fEp",
    "outputId": "a554e7d3-d587-4089-b2bd-1053bd7a5bd8"
   },
   "outputs": [],
   "source": [
    "s.index[0] # Производитель, наиболее часто встречающийся в выборке"
   ]
  },
  {
   "cell_type": "code",
   "execution_count": null,
   "metadata": {
    "colab": {
     "base_uri": "https://localhost:8080/"
    },
    "id": "xO-gv_eC_tia",
    "outputId": "73ceec0f-c0cb-49a8-a569-543b15eed993"
   },
   "outputs": [],
   "source": [
    "len(s.index) # Сколько уникальных наименований производителей"
   ]
  },
  {
   "cell_type": "markdown",
   "metadata": {
    "id": "rlVgzOlWA5cz"
   },
   "source": [
    "К значениям серии **s** можно обратиться по индексу"
   ]
  },
  {
   "cell_type": "code",
   "execution_count": null,
   "metadata": {
    "colab": {
     "base_uri": "https://localhost:8080/"
    },
    "id": "3p6GNw3yBEWq",
    "outputId": "a39b67f5-be82-4b59-e630-01321196bd15"
   },
   "outputs": [],
   "source": [
    "s.loc['Velo']"
   ]
  },
  {
   "cell_type": "markdown",
   "metadata": {
    "id": "nsKf0kA5BPCY"
   },
   "source": [
    "Можно установить фильтр"
   ]
  },
  {
   "cell_type": "code",
   "execution_count": null,
   "metadata": {
    "colab": {
     "base_uri": "https://localhost:8080/"
    },
    "id": "Z7AwkXhSBN30",
    "outputId": "b4af3d1c-c3d8-43d0-9ddb-cacbfb0abcdf"
   },
   "outputs": [],
   "source": [
    "s.loc[s<100]"
   ]
  },
  {
   "cell_type": "markdown",
   "metadata": {
    "id": "xNPY8yCOBkEf"
   },
   "source": [
    "<u>Задание</u>.\n",
    "1. Сколько разных систем скидок представлено в таблице?\n",
    "2. Какая из систем скидок применяется реже всего?\n",
    "3. Сколько раз представлены в выборке разные страны?\n"
   ]
  },
  {
   "cell_type": "code",
   "execution_count": null,
   "metadata": {
    "colab": {
     "base_uri": "https://localhost:8080/"
    },
    "id": "mF0UTDMpBxmw",
    "outputId": "c57b5efe-b60d-4ffa-eff4-bc6a5d6d53c7"
   },
   "outputs": [],
   "source": [
    "fs['DiscountBand'].value_counts()"
   ]
  },
  {
   "cell_type": "code",
   "execution_count": null,
   "metadata": {
    "colab": {
     "base_uri": "https://localhost:8080/"
    },
    "id": "2FUEF547CdB-",
    "outputId": "c5774315-a88c-4315-fc05-72d2522bcad1"
   },
   "outputs": [],
   "source": [
    "fs['Country'].value_counts()"
   ]
  },
  {
   "cell_type": "markdown",
   "metadata": {
    "id": "2ZRBCtQIDiIU"
   },
   "source": [
    "#### Подсчет количества значений в процентах"
   ]
  },
  {
   "cell_type": "code",
   "execution_count": null,
   "metadata": {
    "colab": {
     "base_uri": "https://localhost:8080/"
    },
    "id": "kFl-xYEgDvX0",
    "outputId": "5053355a-7e00-449f-de33-50a8d3982119"
   },
   "outputs": [],
   "source": [
    "fs['DiscountBand'].value_counts(normalize=True)"
   ]
  },
  {
   "cell_type": "markdown",
   "metadata": {
    "id": "P87-I6fGEQG4"
   },
   "source": [
    "#### Подсчет количества значений по численным признакам\n",
    "\n",
    "До сих пор мы группировали значения по категориальным признакам. Но это можно делать и по численным признакам."
   ]
  },
  {
   "cell_type": "code",
   "execution_count": null,
   "metadata": {
    "colab": {
     "base_uri": "https://localhost:8080/"
    },
    "id": "aYYs5hYoEdFt",
    "outputId": "309fd10a-e405-4fb0-87b5-5ceefe8c77b9"
   },
   "outputs": [],
   "source": [
    "fs['MonthNumber'].value_counts()"
   ]
  },
  {
   "cell_type": "markdown",
   "metadata": {
    "id": "bPBDz9J4Es_a"
   },
   "source": [
    "Чаще всего продажи совершались в октябре, реже всего в начале года. Месяцев не так много, поэтому визуально можно оценить динамику продаж. Однако, если выполнить `.value_counts()` по другому численному столбцу, где много разных значений, результат не будет наглядным."
   ]
  },
  {
   "cell_type": "code",
   "execution_count": null,
   "metadata": {
    "colab": {
     "base_uri": "https://localhost:8080/"
    },
    "id": "g7suVjaIFn-z",
    "outputId": "7da21d6c-7f82-48fe-e581-2a43161c4571"
   },
   "outputs": [],
   "source": [
    "fs['Discounts'].value_counts()"
   ]
  },
  {
   "cell_type": "markdown",
   "metadata": {
    "id": "M54FaNh-Fy-J"
   },
   "source": [
    "Мы получили более пятисот разных значений. Поэтому применим функцию *value_counts()* с параметром *bins*."
   ]
  },
  {
   "cell_type": "code",
   "execution_count": null,
   "metadata": {
    "colab": {
     "base_uri": "https://localhost:8080/"
    },
    "id": "8A1C4HfbFyOq",
    "outputId": "ec316f66-268c-460f-c0b0-03a14d4b9229"
   },
   "outputs": [],
   "source": [
    "s = fs['Discounts'].value_counts(bins=10)\n",
    "s"
   ]
  },
  {
   "cell_type": "markdown",
   "metadata": {
    "id": "vmETkQwkHKPx"
   },
   "source": [
    "<u>Задание</u>.\n",
    "\n",
    "1. Разбейте значения столбца себестоимости (COGS) для Канады на шесть интервалов.\n",
    "2. В каких пределах находятся значения наименьших 25% количества товара (в штуках) для Германии?"
   ]
  },
  {
   "cell_type": "markdown",
   "metadata": {
    "id": "L3y2o32Y5j3T"
   },
   "source": [
    "#### Перевод результатов `value_counts()` в датафрейм\n",
    "Иногда полезно преобразовать серию, являющуюся результатом работы `.value_counts()` в датафрейм. Для этого используется метод `.reset_index()."
   ]
  },
  {
   "cell_type": "code",
   "execution_count": null,
   "metadata": {},
   "outputs": [],
   "source": [
    "U = fs['UnitsSold'].value_counts(bins=7)\n",
    "U = U.reset_index()\n",
    "U.columns=['Interval', 'Number_of_records']\n",
    "U.sort_values('Interval').plot(kind='bar', )"
   ]
  }
 ],
 "metadata": {
  "colab": {
   "collapsed_sections": [],
   "name": "Тема 8 ГК (запросы) Лекция",
   "provenance": []
  },
  "kernelspec": {
   "display_name": "Python 3",
   "language": "python",
   "name": "python3"
  },
  "language_info": {
   "codemirror_mode": {
    "name": "ipython",
    "version": 3
   },
   "file_extension": ".py",
   "mimetype": "text/x-python",
   "name": "python",
   "nbconvert_exporter": "python",
   "pygments_lexer": "ipython3",
   "version": "3.8.8"
  }
 },
 "nbformat": 4,
 "nbformat_minor": 4
}
