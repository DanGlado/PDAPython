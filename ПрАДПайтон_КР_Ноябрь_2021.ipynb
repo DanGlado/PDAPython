{
 "cells": [
  {
   "cell_type": "markdown",
   "metadata": {
    "id": "MFuFPhggg8o4"
   },
   "source": [
    "\n",
    "<p style=\"font-size:100%; text-align:center\">Финансовый университет при Правительстве Российской Федерации</p>\n",
    "\n",
    "<p style=\"font-size:150%; text-align:center\"> Программирование и анализ данных <br>с помощью Пайтон</p>\n",
    "\n",
    "<p style=\"font-size:100%; text-align:center\">Поток: УЦИ20-1</p>\n",
    "\n",
    "<p style=\"font-size:100%; text-align:center\">Контрольная работа<br>\n",
    "<br>9 ноября 2021 года</p>"
   ]
  },
  {
   "cell_type": "code",
   "execution_count": null,
   "metadata": {
    "id": "2_NxMphilReu"
   },
   "outputs": [],
   "source": [
    "import pandas as pd\n",
    "import numpy as np\n",
    "from matplotlib import pyplot as plt"
   ]
  },
  {
   "cell_type": "markdown",
   "metadata": {},
   "source": [
    "## Задания\n",
    "\n",
    "### 1. Строки\n",
    "\n",
    "1.1. Введите команду, в результате выполнения которой будет осуществлен вывод длины строки."
   ]
  },
  {
   "cell_type": "code",
   "execution_count": null,
   "metadata": {},
   "outputs": [],
   "source": [
    "#1.1. Ваш код здесь.\n",
    "\n",
    "txt=\"Hello, world!\"\n",
    "print()"
   ]
  },
  {
   "cell_type": "markdown",
   "metadata": {},
   "source": [
    "1.2. Распечатайте первый символ строки."
   ]
  },
  {
   "cell_type": "code",
   "execution_count": null,
   "metadata": {},
   "outputs": [],
   "source": [
    "#1.2. Ваш код здесь.\n",
    "\n",
    "txt=\"Здравствуй, Мир!\"\n",
    "print()"
   ]
  },
  {
   "cell_type": "markdown",
   "metadata": {},
   "source": [
    "1.3. Получите символы с индексами со 2-го по 4-й (\"рав\")."
   ]
  },
  {
   "cell_type": "code",
   "execution_count": null,
   "metadata": {},
   "outputs": [],
   "source": [
    "#1.3. Ваш код здесь.\n",
    "\n",
    "txt=\"Здравствуй, Мир!\"\n",
    "print()"
   ]
  },
  {
   "cell_type": "markdown",
   "metadata": {},
   "source": [
    "1.4. Удалите начальные и конечные пробелы."
   ]
  },
  {
   "cell_type": "code",
   "execution_count": null,
   "metadata": {},
   "outputs": [],
   "source": [
    "#1.4. Ваш код здесь.\n",
    "\n",
    "txt=\"   Здравствуй, Мир! \"\n",
    "print()"
   ]
  },
  {
   "cell_type": "markdown",
   "metadata": {},
   "source": [
    "1.5. Переведите строку в верхний регистр."
   ]
  },
  {
   "cell_type": "code",
   "execution_count": null,
   "metadata": {},
   "outputs": [],
   "source": [
    "#1.5. Ваш код здесь.\n",
    "\n",
    "txt=\"Здравствуй, Мир!\"\n",
    "print()"
   ]
  },
  {
   "cell_type": "markdown",
   "metadata": {},
   "source": [
    "1.6. Переведите строку в нижний регистр."
   ]
  },
  {
   "cell_type": "code",
   "execution_count": null,
   "metadata": {},
   "outputs": [],
   "source": [
    "#1.6. Ваш код здесь.\n",
    "\n",
    "txt=\"Здравствуй, Мир!\"\n",
    "print()"
   ]
  },
  {
   "cell_type": "markdown",
   "metadata": {},
   "source": [
    "1.7. Напишите код, который заменяет букву \"М\" на букву \"Т\"."
   ]
  },
  {
   "cell_type": "code",
   "execution_count": null,
   "metadata": {},
   "outputs": [],
   "source": [
    "#1.7. Ваш код здесь.\n",
    "\n",
    "txt=\"Здравствуй, Мир!\"\n",
    "print()"
   ]
  },
  {
   "cell_type": "markdown",
   "metadata": {},
   "source": [
    "## 2. Коллекции\n",
    "\n",
    "Проверьте, правильно ли внесены в таблицу свойства коллекций. При наличии ошибок внесите изменения."
   ]
  },
  {
   "cell_type": "code",
   "execution_count": null,
   "metadata": {},
   "outputs": [],
   "source": [
    "pd.DataFrame([(\"Да\", \"Да\", \"Да\"), (\"Да\",\"Нет\",\"Да\"), \n",
    "              (\"Нет\",\"Нет\",\"Нет\"), (\"Да\",\"Нет\",\"Нет\")],\n",
    "             index=[\"Список\",\"Кортеж\",\"Множество\",\"Словарь\"],\n",
    "            columns=[\"Упорядоченная\",\"Изменяемая\",\"Дубликаты\"])"
   ]
  },
  {
   "cell_type": "markdown",
   "metadata": {},
   "source": [
    "## 2.1. Списки\n",
    "\n",
    "2.1.1. Отсортируйте список"
   ]
  },
  {
   "cell_type": "code",
   "execution_count": null,
   "metadata": {},
   "outputs": [],
   "source": [
    "# Ваш код здесь\n",
    "\n",
    "list1=[\"Москва\",\"Ереван\",\"Баку\",\"Чебоксары\"]"
   ]
  },
  {
   "cell_type": "markdown",
   "metadata": {},
   "source": [
    "2.1.2. Объедините два списка в один список."
   ]
  },
  {
   "cell_type": "code",
   "execution_count": null,
   "metadata": {},
   "outputs": [],
   "source": [
    "# Ваш код здесь\n",
    "\n",
    "list1=[\"a\",\"b\",\"c\"]\n",
    "list2=[1,2,3]"
   ]
  },
  {
   "cell_type": "markdown",
   "metadata": {},
   "source": [
    "2.1.3. Что делает метод pop()? Выберите правильный ответ.\n",
    "\n",
    "\n",
    "- Удаляет элемент по его значению\n",
    "- Удаляет элемент списка по индексу\n",
    "- Удаляет все элементы списка\n",
    "- Восстанавивает последнний удаленный элемент"
   ]
  },
  {
   "cell_type": "markdown",
   "metadata": {},
   "source": [
    "## 2.2. Множества\n",
    "\n",
    "Для работы с множествами используются методы: add(), clear(), copy(), difference(), difference_update(), discard(), intersection(), intersection_update(), isdisjoint(), issubset()\t, issuperset(), pop(), remove(), symmetric_difference(), symmetric_difference_update(), union(), update()\n",
    "\n",
    "2.2.1. Что нужно написать вместо троеточия, чтобы проверить, входит ли элемент \"apple\" в состав множества.\n",
    "\n",
    "```\n",
    "fruits = {\"apple\", \"banana\", \"cherry\"}\n",
    "if \"apple\" ... fruits:\n",
    "  print(\"Yes, apple is a fruit!\")\n",
    "```"
   ]
  },
  {
   "cell_type": "code",
   "execution_count": null,
   "metadata": {},
   "outputs": [],
   "source": [
    "#2.2.1. Ваш код здесь\n"
   ]
  },
  {
   "cell_type": "markdown",
   "metadata": {},
   "source": [
    "2.2.2. С помощью метода add() добавьте к множеству \"апельсин\"."
   ]
  },
  {
   "cell_type": "code",
   "execution_count": null,
   "metadata": {},
   "outputs": [],
   "source": [
    "#2.2.2. Ваш код здесь.\n",
    "\n",
    "fruits = {\"apple\", \"banana\", \"cherry\"}"
   ]
  },
  {
   "cell_type": "markdown",
   "metadata": {},
   "source": [
    "2.2.3. Используйте правильный метод для добавления к множеству fruits сразу всех элементов cписка more_fruits."
   ]
  },
  {
   "cell_type": "code",
   "execution_count": null,
   "metadata": {},
   "outputs": [],
   "source": [
    "#2.2.3. Ваш код здесь.\n",
    "\n",
    "fruits = {\"apple\", \"banana\", \"cherry\"}\n",
    "more_fruits = [\"orange\", \"mango\", \"grapes\"]"
   ]
  },
  {
   "cell_type": "markdown",
   "metadata": {},
   "source": [
    "2.2.4. Используйте один из методов работы со множествами для исключения из множества элемента \"банан\"."
   ]
  },
  {
   "cell_type": "code",
   "execution_count": null,
   "metadata": {},
   "outputs": [],
   "source": [
    "#2.2.4. Ваш код здесь.\n",
    "\n",
    "fruits = {\"банан\",\"морковь\",\"салат\"}"
   ]
  },
  {
   "cell_type": "markdown",
   "metadata": {},
   "source": [
    "## 2.3. Словари\n",
    "\n",
    "Для работы со словарями используются методы: clear(), copy(), fromkeys(), get(), items(), keys(), pop(), popitem(), setdefault(), update(), values()\n",
    "\n",
    "2.3.1. Используйте нужный метод для вывода на печать значения ключа \"model\" словаря."
   ]
  },
  {
   "cell_type": "code",
   "execution_count": null,
   "metadata": {},
   "outputs": [],
   "source": [
    "#2.3.1. Ваш код здесь\n",
    "\n",
    "car = {\n",
    "  \"brand\": \"Ford\",\n",
    "  \"model\": \"Mustang\",\n",
    "  \"year\": 1964\n",
    "}"
   ]
  },
  {
   "cell_type": "markdown",
   "metadata": {},
   "source": [
    "2.3.2. Измените значение года с 1964 на 2000"
   ]
  },
  {
   "cell_type": "code",
   "execution_count": null,
   "metadata": {},
   "outputs": [],
   "source": [
    "#2.3.2. Ваш код здесь\n",
    "\n",
    "car = {\n",
    "  \"brand\": \"Ford\",\n",
    "  \"model\": \"Mustang\",\n",
    "  \"year\": 1964\n",
    "}"
   ]
  },
  {
   "cell_type": "markdown",
   "metadata": {},
   "source": [
    "2.3.3. К словарю из предыдущего упражнения добавьте значение цвета \"color\" \"красный\"."
   ]
  },
  {
   "cell_type": "code",
   "execution_count": null,
   "metadata": {},
   "outputs": [],
   "source": [
    "#2.3.3. Ваш код здесь\n"
   ]
  },
  {
   "cell_type": "markdown",
   "metadata": {},
   "source": [
    "2.3.4. Используйте правильный метод для удаления из словаря информации о модели (\"model\")."
   ]
  },
  {
   "cell_type": "code",
   "execution_count": null,
   "metadata": {},
   "outputs": [],
   "source": [
    "#2.3.4. Ваш код здесь.\n"
   ]
  },
  {
   "cell_type": "markdown",
   "metadata": {},
   "source": [
    "2.3.5. Используйте правильный метод для удаления всех элементов словаря."
   ]
  },
  {
   "cell_type": "code",
   "execution_count": null,
   "metadata": {},
   "outputs": [],
   "source": [
    "#2.3.5. Ваш код здесь.\n"
   ]
  },
  {
   "cell_type": "markdown",
   "metadata": {},
   "source": [
    "2.3.6. Имеется словарь, содержащий список ингредиентов греческой кухни. Напишите код, который возвращает число ингредиентов."
   ]
  },
  {
   "cell_type": "code",
   "execution_count": null,
   "metadata": {},
   "outputs": [],
   "source": [
    "#2.3.6. Ваш код здесь\n",
    "\n",
    "{'cuisine': 'greek',\n",
    " 'id': 10259,\n",
    " 'ingredients': ['romaine lettuce',\n",
    "                 'black olives',\n",
    "                 'grape tomatoes',\n",
    "                 'garlic',\n",
    "                 'pepper',\n",
    "                 'purple onion',\n",
    "                 'seasoning',\n",
    "                 'garbanzo beans',\n",
    "                 'feta cheese crumbles']}"
   ]
  },
  {
   "cell_type": "markdown",
   "metadata": {},
   "source": [
    "2.3.7. Напишите код, который распечатывает список ингредиентов кухни в алфавитном порядке."
   ]
  },
  {
   "cell_type": "code",
   "execution_count": null,
   "metadata": {},
   "outputs": [],
   "source": [
    "#2.3.7. Ваш код здесь\n",
    "\n",
    "{'cuisine': 'greek',\n",
    " 'id': 10259,\n",
    " 'ingredients': ['romaine lettuce',\n",
    "                 'black olives',\n",
    "                 'grape tomatoes',\n",
    "                 'garlic',\n",
    "                 'pepper',\n",
    "                 'purple onion',\n",
    "                 'seasoning',\n",
    "                 'garbanzo beans',\n",
    "                 'feta cheese crumbles']}"
   ]
  },
  {
   "cell_type": "markdown",
   "metadata": {},
   "source": [
    "## 3. Графики\n",
    "\n",
    "3.1. Постройте график функции\n",
    "\n",
    "$$ y=x\\cdot{sin(x)} $$\n",
    "\n",
    "на интервале от 0 до 10."
   ]
  },
  {
   "cell_type": "code",
   "execution_count": null,
   "metadata": {},
   "outputs": [],
   "source": [
    "# Ваш код здесь"
   ]
  },
  {
   "cell_type": "markdown",
   "metadata": {},
   "source": [
    "## 4. Numpy"
   ]
  },
  {
   "cell_type": "markdown",
   "metadata": {},
   "source": [
    "4.1. Используйте метод reshape() для преобразования одномерного массива к двумерному. "
   ]
  },
  {
   "cell_type": "code",
   "execution_count": null,
   "metadata": {},
   "outputs": [],
   "source": [
    "#4.1 Ваш код здесь\n",
    "arr = np.array([1, 2, 3, 4, 5, 6, 7, 8, 9, 10, 11, 12])\n"
   ]
  },
  {
   "cell_type": "markdown",
   "metadata": {},
   "source": [
    "4.2. Используйте корректный метод для преобразования двумерного массива к одномерному."
   ]
  },
  {
   "cell_type": "code",
   "execution_count": null,
   "metadata": {},
   "outputs": [],
   "source": [
    "# 4.2 Ваш код здесь\n",
    "arr = np.array([[1,2,3,4],[5,6,7,8],[9,10,11,12]])\n"
   ]
  },
  {
   "cell_type": "markdown",
   "metadata": {},
   "source": [
    "4.3. Поиск элементов массива. Метод where() ищет элементы массива по значению и возвращает их индексы. Найдите в массиве индексы элементов со значением 4."
   ]
  },
  {
   "cell_type": "code",
   "execution_count": null,
   "metadata": {},
   "outputs": [],
   "source": [
    "#4.3 Ваш код здесь\n",
    "arr = np.array([1, 2, 3, 4, 5, 4, 4])\n"
   ]
  },
  {
   "cell_type": "markdown",
   "metadata": {},
   "source": [
    "4.4. Создайте матрицу 8 на 10 из случайных целых (используя модуль numpy.random) чисел из дапозона от 0 до 10 и найдите в ней строку (ее индекс и вывести саму строку), в которой сумма значений минимальна."
   ]
  },
  {
   "cell_type": "code",
   "execution_count": null,
   "metadata": {},
   "outputs": [],
   "source": [
    "#4.4. Ваш код здесь\n"
   ]
  },
  {
   "cell_type": "markdown",
   "metadata": {},
   "source": [
    "4.5. Поменяйте местами столбцы с индексами 1 и 2 в массиве np.arange(9).reshape(3,3)"
   ]
  },
  {
   "cell_type": "code",
   "execution_count": null,
   "metadata": {},
   "outputs": [],
   "source": [
    "#4.5 Ваш код здесь\n",
    "A=np.array([[0,1,2],[3,4,5],[6,7,8]])\n",
    "print(A)"
   ]
  }
 ],
 "metadata": {
  "colab": {
   "name": "ПрАДПайтон_ДЗ_Ноябрь_2021_Преподаватель",
   "provenance": []
  },
  "kernelspec": {
   "display_name": "Python 3",
   "language": "python",
   "name": "python3"
  },
  "language_info": {
   "codemirror_mode": {
    "name": "ipython",
    "version": 3
   },
   "file_extension": ".py",
   "mimetype": "text/x-python",
   "name": "python",
   "nbconvert_exporter": "python",
   "pygments_lexer": "ipython3",
   "version": "3.7.6"
  }
 },
 "nbformat": 4,
 "nbformat_minor": 1
}
