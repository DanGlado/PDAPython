{
 "cells": [
  {
   "cell_type": "code",
   "execution_count": null,
   "metadata": {},
   "outputs": [],
   "source": [
    "# Билет 18\n",
    "\n",
    "# Способы отладки программы: оnладка с помощью print. Встроенный отладчик Python debugger. \n",
    "# Определите значения переменной x на 3-м шаге цикла с помощью отладчика. \n",
    "\n",
    "import pandas as pd\n",
    "\n",
    "def calculator(letter, n1, n2, operator):\n",
    "    if letter in [\"A\",\"E\"]:\n",
    "        result = n1 + n2 + operator\n",
    "    return result\n",
    "\n",
    "data={\n",
    "    \"Letters\":\"A,B,C,D,E\".split(\",\"),\n",
    "    \"Numbers\":[ord(e) for e in \"A,B,C,D,E\".split(\",\")],\n",
    "    \"Digits\":[0,1,2,3,4],\n",
    "    \"Operator\":\"+,-,/,%,*\".split(\",\")\n",
    "    }\n",
    "\n",
    "df=pd.DataFrame(data)\n",
    "\n",
    "for key, value in data.items():\n",
    "    if key == \"Operator\":\n",
    "        for x in data[key]:\n",
    "            print(x)"
   ]
  }
 ],
 "metadata": {
  "kernelspec": {
   "display_name": "Python 3",
   "language": "python",
   "name": "python3"
  },
  "language_info": {
   "codemirror_mode": {
    "name": "ipython",
    "version": 3
   },
   "file_extension": ".py",
   "mimetype": "text/x-python",
   "name": "python",
   "nbconvert_exporter": "python",
   "pygments_lexer": "ipython3",
   "version": "3.7.6"
  }
 },
 "nbformat": 4,
 "nbformat_minor": 4
}
