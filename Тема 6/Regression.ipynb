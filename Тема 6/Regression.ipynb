{
 "cells": [
  {
   "cell_type": "markdown",
   "metadata": {},
   "source": [
    "<img src=\"../Img/banner-fa-49-2.png\">\n",
    "<p>5 октября 2021 года, ВМ/451 (ул. Верхняя Масловка, д. 15)</p>\n",
    "\n",
    "# Тема 6. Корреляционно-регрессионный анализ  с помощью Python\n",
    "\n",
    "Студенты: Поток: УЦИ20-1<br>\n",
    "Преподаватель: Смирнов Михаил Викторович, доцент Департамента Анализа данных и машинного обучения Финансового университета при Правительстве Российской Федерации"
   ]
  },
  {
   "cell_type": "markdown",
   "metadata": {},
   "source": [
    "Задача. Построить линейную и нелинейную регрессионные модели зависимости цены закрытия акций Сбербанка от цены закрытия акций Газпрома. Сравнить результаты.\n",
    "\n",
    "Решение\n",
    "\n",
    "# Линейная модель\n",
    "\n",
    "Получим данные об изменении цены акций Газпрома и Сбербанка на сайте <a href=http://finam.ru>finam.ru</a>. Для этого в разделе технического анализа сайта заполним форму и получим данные за один и тот же период в двух файлах: отдельно для Газпрома и для Сбербанка.\n",
    "\n",
    "<img src=\"../Img/Finam.png\" style=\"width:60%\">\n",
    "\n",
    "Импортируем необходимые библиотеки и загрузим данные в таблицу Pandas. Распечатаем первые три строки."
   ]
  },
  {
   "cell_type": "code",
   "execution_count": 1,
   "metadata": {
    "scrolled": true
   },
   "outputs": [
    {
     "data": {
      "text/html": [
       "<div>\n",
       "<style scoped>\n",
       "    .dataframe tbody tr th:only-of-type {\n",
       "        vertical-align: middle;\n",
       "    }\n",
       "\n",
       "    .dataframe tbody tr th {\n",
       "        vertical-align: top;\n",
       "    }\n",
       "\n",
       "    .dataframe thead th {\n",
       "        text-align: right;\n",
       "    }\n",
       "</style>\n",
       "<table border=\"1\" class=\"dataframe\">\n",
       "  <thead>\n",
       "    <tr style=\"text-align: right;\">\n",
       "      <th></th>\n",
       "      <th>&lt;DATE&gt;</th>\n",
       "      <th>&lt;TICKER&gt;</th>\n",
       "      <th>&lt;CLOSE&gt;</th>\n",
       "      <th>&lt;TICKER&gt;</th>\n",
       "      <th>&lt;CLOSE&gt;</th>\n",
       "    </tr>\n",
       "  </thead>\n",
       "  <tbody>\n",
       "    <tr>\n",
       "      <th>0</th>\n",
       "      <td>02/08/21</td>\n",
       "      <td>GAZP</td>\n",
       "      <td>286.75</td>\n",
       "      <td>SBER</td>\n",
       "      <td>306.51</td>\n",
       "    </tr>\n",
       "    <tr>\n",
       "      <th>1</th>\n",
       "      <td>03/08/21</td>\n",
       "      <td>GAZP</td>\n",
       "      <td>287.09</td>\n",
       "      <td>SBER</td>\n",
       "      <td>309.89</td>\n",
       "    </tr>\n",
       "    <tr>\n",
       "      <th>2</th>\n",
       "      <td>04/08/21</td>\n",
       "      <td>GAZP</td>\n",
       "      <td>287.94</td>\n",
       "      <td>SBER</td>\n",
       "      <td>311.10</td>\n",
       "    </tr>\n",
       "  </tbody>\n",
       "</table>\n",
       "</div>"
      ],
      "text/plain": [
       "     <DATE> <TICKER>  <CLOSE> <TICKER>  <CLOSE>\n",
       "0  02/08/21     GAZP   286.75     SBER   306.51\n",
       "1  03/08/21     GAZP   287.09     SBER   309.89\n",
       "2  04/08/21     GAZP   287.94     SBER   311.10"
      ]
     },
     "execution_count": 1,
     "metadata": {},
     "output_type": "execute_result"
    }
   ],
   "source": [
    "import pandas as pd\n",
    "import numpy as np\n",
    "from matplotlib import pyplot as plt\n",
    "%matplotlib inline\n",
    "\n",
    "gazp=pd.read_csv(\"../Data/GAZP_210801_211001.csv\",sep=\";\")\n",
    "sber=pd.read_csv(\"../Data/SBER_210801_211001.csv\",sep=\";\")\n",
    "data=pd.concat([gazp[[\"<DATE>\",\"<TICKER>\",\"<CLOSE>\"]],sber[[\"<TICKER>\",\"<CLOSE>\"]]],axis=1)\n",
    "data.head(3)"
   ]
  },
  {
   "cell_type": "markdown",
   "metadata": {},
   "source": [
    "Построим регрессионную модель $\\hat{y}=f(x)$, где $x$ - фактор, а $\\hat{y}$ - результирующий признак. Для наглядности переименуем столбцы таблицы, добавив метки \"X\" к именам атрибутов акций Газпрома, и метки \"Y\" к именам атрибутов акций Сбербанка."
   ]
  },
  {
   "cell_type": "code",
   "execution_count": 2,
   "metadata": {},
   "outputs": [
    {
     "data": {
      "text/html": [
       "<div>\n",
       "<style scoped>\n",
       "    .dataframe tbody tr th:only-of-type {\n",
       "        vertical-align: middle;\n",
       "    }\n",
       "\n",
       "    .dataframe tbody tr th {\n",
       "        vertical-align: top;\n",
       "    }\n",
       "\n",
       "    .dataframe thead th {\n",
       "        text-align: right;\n",
       "    }\n",
       "</style>\n",
       "<table border=\"1\" class=\"dataframe\">\n",
       "  <thead>\n",
       "    <tr style=\"text-align: right;\">\n",
       "      <th></th>\n",
       "      <th>&lt;DATE&gt;</th>\n",
       "      <th>X_TICKER</th>\n",
       "      <th>X_CLOSE</th>\n",
       "      <th>Y_TICKER</th>\n",
       "      <th>Y_CLOSE</th>\n",
       "    </tr>\n",
       "  </thead>\n",
       "  <tbody>\n",
       "    <tr>\n",
       "      <th>0</th>\n",
       "      <td>02/08/21</td>\n",
       "      <td>GAZP</td>\n",
       "      <td>286.75</td>\n",
       "      <td>SBER</td>\n",
       "      <td>306.51</td>\n",
       "    </tr>\n",
       "    <tr>\n",
       "      <th>1</th>\n",
       "      <td>03/08/21</td>\n",
       "      <td>GAZP</td>\n",
       "      <td>287.09</td>\n",
       "      <td>SBER</td>\n",
       "      <td>309.89</td>\n",
       "    </tr>\n",
       "    <tr>\n",
       "      <th>2</th>\n",
       "      <td>04/08/21</td>\n",
       "      <td>GAZP</td>\n",
       "      <td>287.94</td>\n",
       "      <td>SBER</td>\n",
       "      <td>311.10</td>\n",
       "    </tr>\n",
       "  </tbody>\n",
       "</table>\n",
       "</div>"
      ],
      "text/plain": [
       "     <DATE> X_TICKER  X_CLOSE Y_TICKER  Y_CLOSE\n",
       "0  02/08/21     GAZP   286.75     SBER   306.51\n",
       "1  03/08/21     GAZP   287.09     SBER   309.89\n",
       "2  04/08/21     GAZP   287.94     SBER   311.10"
      ]
     },
     "execution_count": 2,
     "metadata": {},
     "output_type": "execute_result"
    }
   ],
   "source": [
    "data.columns=[\"<DATE>\", \"X_TICKER\", \"X_CLOSE\", \"Y_TICKER\", \"Y_CLOSE\"]\n",
    "data.head(3)"
   ]
  },
  {
   "cell_type": "markdown",
   "metadata": {},
   "source": [
    "Отобразим краткую информацию о полученной таблице"
   ]
  },
  {
   "cell_type": "code",
   "execution_count": 3,
   "metadata": {
    "scrolled": true
   },
   "outputs": [
    {
     "name": "stdout",
     "output_type": "stream",
     "text": [
      "<class 'pandas.core.frame.DataFrame'>\n",
      "RangeIndex: 45 entries, 0 to 44\n",
      "Data columns (total 5 columns):\n",
      " #   Column    Non-Null Count  Dtype  \n",
      "---  ------    --------------  -----  \n",
      " 0   <DATE>    45 non-null     object \n",
      " 1   X_TICKER  45 non-null     object \n",
      " 2   X_CLOSE   45 non-null     float64\n",
      " 3   Y_TICKER  45 non-null     object \n",
      " 4   Y_CLOSE   45 non-null     float64\n",
      "dtypes: float64(2), object(3)\n",
      "memory usage: 1.9+ KB\n"
     ]
    }
   ],
   "source": [
    "data.info()"
   ]
  },
  {
   "cell_type": "markdown",
   "metadata": {},
   "source": [
    "Построим линейную модель регрессии вида $\\hat{y}=a+b\\cdot{x}$. Найдем параметры $a$ и $b$ модели по формулам:\n",
    "\n",
    "$$a=\\bar{y}-b\\cdot{\\bar{x}}$$\n",
    "\n",
    "$$b=\\frac{Cov(x,y)}{D(x)}$$\n",
    "\n",
    "где $Cov(x,y)$ - ковариация цены акции Газпрома и цены акции Сбербанка в рассмотренном периоде, $D(x)$ - дисперсия цены акции Газпрома.\n",
    "\n",
    "Найдем ковариационную матрицу"
   ]
  },
  {
   "cell_type": "code",
   "execution_count": 4,
   "metadata": {},
   "outputs": [
    {
     "name": "stdout",
     "output_type": "stream",
     "text": [
      "[[612.83103737  73.57868005]\n",
      " [ 73.57868005  43.00411343]]\n"
     ]
    }
   ],
   "source": [
    "cov_matrix=np.cov(data[\"X_CLOSE\"],data[\"Y_CLOSE\"])\n",
    "print(cov_matrix)"
   ]
  },
  {
   "cell_type": "markdown",
   "metadata": {},
   "source": [
    "Найдем ковариацию $X,Y$ и дисперсию $X$."
   ]
  },
  {
   "cell_type": "code",
   "execution_count": 5,
   "metadata": {},
   "outputs": [],
   "source": [
    "cov_xy=cov_matrix[0,1]\n",
    "disp_x=cov_matrix[0,0]"
   ]
  },
  {
   "cell_type": "markdown",
   "metadata": {},
   "source": [
    "Найдем параметры $a$ и $b$."
   ]
  },
  {
   "cell_type": "code",
   "execution_count": 6,
   "metadata": {
    "scrolled": true
   },
   "outputs": [
    {
     "name": "stdout",
     "output_type": "stream",
     "text": [
      "(a, b) = (289.3105130612969, 0.1200635665677502)\n"
     ]
    }
   ],
   "source": [
    "b=cov_xy/disp_x\n",
    "a=data[\"Y_CLOSE\"].mean()-b*data[\"X_CLOSE\"].mean()\n",
    "print(f\"(a, b) = {(a,b)}\")"
   ]
  },
  {
   "cell_type": "markdown",
   "metadata": {},
   "source": [
    "Для каждого $x$ найдем теоретическое значение $\\hat{y}$ результирующего признака."
   ]
  },
  {
   "cell_type": "code",
   "execution_count": 7,
   "metadata": {},
   "outputs": [],
   "source": [
    "Y_HAT_CLOSE=np.array(a+b*data[\"X_CLOSE\"])"
   ]
  },
  {
   "cell_type": "markdown",
   "metadata": {},
   "source": [
    "Построим диаграмму, на которой отобразим линейную регрессионную модель. Причем, график модели построим по двум точкам - минимального и максимального  $\\hat{y}$."
   ]
  },
  {
   "cell_type": "code",
   "execution_count": 8,
   "metadata": {
    "scrolled": true
   },
   "outputs": [
    {
     "data": {
      "image/png": "[encoded data removed]",
      "text/plain": [
       "<Figure size 864x360 with 1 Axes>"
      ]
     },
     "metadata": {
      "needs_background": "light"
     },
     "output_type": "display_data"
    }
   ],
   "source": [
    "x_min,x_max=data[\"X_CLOSE\"].min(),data[\"X_CLOSE\"].max()\n",
    "y_hat_min,y_hat_max=Y_HAT_CLOSE.min(),Y_HAT_CLOSE.max()\n",
    "\n",
    "plt.figure(figsize=(12,5))\n",
    "plt.title(\"Диаграмма разброса и линейная регрессионная модель\")\n",
    "plt.scatter(data[\"X_CLOSE\"],data[\"Y_CLOSE\"])\n",
    "plt.plot((x_min,x_max),(y_hat_min,y_hat_max))\n",
    "plt.xlabel(\"Газпром\")\n",
    "plt.ylabel(\"Сбербанк\");"
   ]
  },
  {
   "cell_type": "markdown",
   "metadata": {},
   "source": [
    "Оценим качество модели на основании расчета величины коэффициента достоверности аппроксимации $R^{2}$.\n",
    "\n",
    "$$R^2=\\frac{D(y)-D(y-\\hat{y})}{D(y)}$$"
   ]
  },
  {
   "cell_type": "code",
   "execution_count": 9,
   "metadata": {},
   "outputs": [
    {
     "data": {
      "text/plain": [
       "0.20542497088560038"
      ]
     },
     "execution_count": 9,
     "metadata": {},
     "output_type": "execute_result"
    }
   ],
   "source": [
    "r_square=(data[\"Y_CLOSE\"].std()**2-(data[\"Y_CLOSE\"]-Y_HAT_CLOSE).std()**2)/data[\"Y_CLOSE\"].std()**2\n",
    "r_square"
   ]
  },
  {
   "cell_type": "markdown",
   "metadata": {},
   "source": [
    "Чем ближе $R^{2}$ к единице, тем выше качество модели. Мы получили довольно низкое качество."
   ]
  },
  {
   "cell_type": "markdown",
   "metadata": {},
   "source": [
    "# Нелинейная модель\n",
    "\n",
    "Построим нелинейную модель в форме параболы третьей степени $$\\hat{y}=a+b\\cdot{x}+c\\cdot{x^2}+d\\cdot{x^3}$$\n",
    "\n",
    "В качестве фактора мы выбрали Газпром. Поэтому для нелинейной модели нам понадобятся значения цены акций Газпрома в квадрате и в третьей степени. Составим матрицу из четырёх столбцов. Первый столбец будет состоять из единиц (цена в нулевой степени), второй столбец из значений цены акций Газпрома, третий столбец - это цена в квадрате, четветртый столбец - цена\n",
    "в третьей степени. Строк в матрице будет столько же, сколько и строк в таблице *data*. Получить число строк таблицы *pandas* можно, обратившись к ее свойству *shape*, например, `data.shape`\n",
    "\n",
    "Сформируем указанные массивы чисел."
   ]
  },
  {
   "cell_type": "code",
   "execution_count": 10,
   "metadata": {},
   "outputs": [],
   "source": [
    "c1=np.ones(data.shape[0])\n",
    "c2=data[\"X_CLOSE\"]\n",
    "c3=data[\"X_CLOSE\"]**2\n",
    "c4=data[\"X_CLOSE\"]**3"
   ]
  },
  {
   "cell_type": "markdown",
   "metadata": {},
   "source": [
    "Объединим указанные массивы в матрицу $X$."
   ]
  },
  {
   "cell_type": "code",
   "execution_count": 11,
   "metadata": {},
   "outputs": [],
   "source": [
    "X=np.stack((c1,c2,c3,c4),axis=1)"
   ]
  },
  {
   "cell_type": "markdown",
   "metadata": {},
   "source": [
    "Вектор $w=(a,b,c,d)$ парметров модели найдем по формуле\n",
    "\n",
    "$$\n",
    "w=(X^{T}X)^{-1}X^{T}Y\n",
    "$$\n",
    "\n",
    "где $Y$ - массив значений моделируемого признака, т.е. массив значений цены акции Сбербанка."
   ]
  },
  {
   "cell_type": "code",
   "execution_count": 12,
   "metadata": {},
   "outputs": [
    {
     "name": "stdout",
     "output_type": "stream",
     "text": [
      "[-1.04474780e+04  9.99320111e+01 -3.08210511e-01  3.16161417e-04]\n"
     ]
    }
   ],
   "source": [
    "w = np.dot(np.dot(np.linalg.inv(np.dot(X.T,X)),X.T),data[\"Y_CLOSE\"])\n",
    "print(w)"
   ]
  },
  {
   "cell_type": "markdown",
   "metadata": {},
   "source": [
    "Составим массив модельных значений."
   ]
  },
  {
   "cell_type": "code",
   "execution_count": 13,
   "metadata": {},
   "outputs": [],
   "source": [
    "Y_HAT_CLOSE=w[0]*c1+w[1]*c2+w[2]*c3+w[3]*c4"
   ]
  },
  {
   "cell_type": "markdown",
   "metadata": {},
   "source": [
    "Построим график. Причем, модельные значения на графике сформируем по точкам горизонтальной оси от минимальной до максимальной цены акции Газпрома с шагом в 1 рубль. Обозначим $h$ - диапазон значений цены по горизонтальной оси, $v$ - модельные значения параболы по вертикальной оси."
   ]
  },
  {
   "cell_type": "code",
   "execution_count": 14,
   "metadata": {},
   "outputs": [],
   "source": [
    "h=np.arange(data[\"X_CLOSE\"].min(),data[\"X_CLOSE\"].max())\n",
    "v=w[0]+w[1]*h+w[2]*h**2+w[3]*h**3"
   ]
  },
  {
   "cell_type": "markdown",
   "metadata": {},
   "source": [
    "Теперь построим диаграмму разброса, на которую поместим модельные значения."
   ]
  },
  {
   "cell_type": "code",
   "execution_count": 15,
   "metadata": {
    "scrolled": false
   },
   "outputs": [
    {
     "data": {
      "image/png": "[encoded data removed]",
      "text/plain": [
       "<Figure size 864x360 with 1 Axes>"
      ]
     },
     "metadata": {
      "needs_background": "light"
     },
     "output_type": "display_data"
    }
   ],
   "source": [
    "plt.figure(figsize=(12,5))\n",
    "plt.title(\"Диаграмма разброса и нелинейная модель\")\n",
    "plt.scatter(c2,data[\"Y_CLOSE\"])\n",
    "plt.plot(h,v)\n",
    "plt.xlabel(\"Газпром\")\n",
    "plt.ylabel(\"Сбербанк\");"
   ]
  },
  {
   "cell_type": "markdown",
   "metadata": {},
   "source": [
    "Оценим качество нелинейной модели с помощью $R^{2}$."
   ]
  },
  {
   "cell_type": "code",
   "execution_count": 16,
   "metadata": {
    "scrolled": true
   },
   "outputs": [
    {
     "data": {
      "text/plain": [
       "0.4660646859136122"
      ]
     },
     "execution_count": 16,
     "metadata": {},
     "output_type": "execute_result"
    }
   ],
   "source": [
    "r_square=(data[\"Y_CLOSE\"].std()**2-(data[\"Y_CLOSE\"]-Y_HAT_CLOSE).std()**2)/data[\"Y_CLOSE\"].std()**2\n",
    "r_square"
   ]
  },
  {
   "cell_type": "markdown",
   "metadata": {},
   "source": [
    "Коэффициент $R^{2}$ нелинейной модели, хотя и остается достаточно низким, всё-таки выше по сравнению с таким же коэффициентом линейной модели.\n",
    "\n",
    "<p style=\"font-size:125%; color:green\"> Вывод. </p>\n",
    "Нелинейная модель в форме параболы третьей степени луше моделирует возможную функциональную зависимость цены акций Сбербанка от цены акций Газпрома в рассмотренном временном интервале."
   ]
  }
 ],
 "metadata": {
  "kernelspec": {
   "display_name": "Python 3",
   "language": "python",
   "name": "python3"
  },
  "language_info": {
   "codemirror_mode": {
    "name": "ipython",
    "version": 3
   },
   "file_extension": ".py",
   "mimetype": "text/x-python",
   "name": "python",
   "nbconvert_exporter": "python",
   "pygments_lexer": "ipython3",
   "version": "3.8.8"
  }
 },
 "nbformat": 4,
 "nbformat_minor": 4
}
