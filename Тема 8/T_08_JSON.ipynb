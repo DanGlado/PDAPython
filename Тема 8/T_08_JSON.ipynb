{
 "cells": [
  {
   "cell_type": "markdown",
   "metadata": {},
   "source": [
    "<img src=\"../Img/banner-fa-49-2.png\">\n",
    "\n",
    "<p style=\"font-size:125%; text-align:center\">Финансовый университет</p>\n",
    "\n",
    "<p style=\"font-size:150%; text-align:center\">Тема 8. Работа с файлами</p>\n",
    "<p style=\"font-size:125%; text-align:center\">Конспект лекции</p>\n",
    "\n",
    "<p>26 октября 2021 года<br>\n",
    "ВМ/451 (ул. Верхняя Масловка, д. 15)</p>\n",
    "\n",
    "Студенты: Поток:УЦИ20-1<br>\n",
    "Преподаватель: Смирнов Михаил Викторович, доцент Департамента Анализа данных и машинного обучения Финансового университета при Правительстве Российской Федерации"
   ]
  },
  {
   "cell_type": "markdown",
   "metadata": {},
   "source": [
    "## Введение"
   ]
  },
  {
   "cell_type": "markdown",
   "metadata": {},
   "source": [
    "Модуль _JSON_ стандартной библиотеки _Python_\n",
    "<br>https://docs.python.org/3/library/json.html\n",
    "\n",
    "Модуль _read_excel_ библиотеки _Pandas_\n",
    "<br>http://pandas.pydata.org/pandas-docs/stable/reference/api/pandas.read_excel.html\n",
    "\n",
    "Модуль _xml.etree.ElementTree_ стандартной библиотеки _Python_\n",
    "<br>https://docs.python.org/3.7/library/xml.etree.elementtree.html\n",
    "\n",
    "Набор данных\n",
    "- сокращенная версия ..Data/recipes.json\n",
    "- полная версия https://www.kaggle.com/c/whats-cooking/data\n",
    "\n",
    "При подготовке занятия использовались учебные материалы <a href=\"https://skillfactory.ru\">ООО \"СКИЛФЭКТОРИ\"</a>"
   ]
  },
  {
   "cell_type": "markdown",
   "metadata": {},
   "source": [
    "# 1. Файлы JSON\n",
    "\n",
    "## 1.1. Получение данных в формате JSON"
   ]
  },
  {
   "cell_type": "code",
   "execution_count": null,
   "metadata": {},
   "outputs": [],
   "source": [
    "import json\n",
    "from pprint import pprint # Из модуля pprint функцию pprint"
   ]
  },
  {
   "cell_type": "markdown",
   "metadata": {},
   "source": [
    "Десериализация с помощью *json.load()*"
   ]
  },
  {
   "cell_type": "code",
   "execution_count": null,
   "metadata": {},
   "outputs": [],
   "source": [
    "with open('../Data/recipes.json') as f:\n",
    "    recipes=json.load(f)"
   ]
  },
  {
   "cell_type": "markdown",
   "metadata": {},
   "source": [
    "Распечатаем первый рецепт"
   ]
  },
  {
   "cell_type": "code",
   "execution_count": null,
   "metadata": {},
   "outputs": [],
   "source": [
    "pprint(recipes[0])"
   ]
  },
  {
   "cell_type": "code",
   "execution_count": null,
   "metadata": {},
   "outputs": [],
   "source": [
    "len(recipes)"
   ]
  },
  {
   "cell_type": "markdown",
   "metadata": {},
   "source": [
    "После того как мы провели десериализацию данных из JSON-файла, мы можем\n",
    "работать с полученным объектом, как с обычным словарём, или, как в случае с\n",
    "нашими данными, списком.\n",
    "\n",
    "К какой кухне относится блюдо с id=13121?"
   ]
  },
  {
   "cell_type": "code",
   "execution_count": null,
   "metadata": {
    "scrolled": true
   },
   "outputs": [],
   "source": [
    "for r in recipes:\n",
    "    if r['id']==13121:\n",
    "        break\n",
    "pprint(r)"
   ]
  },
  {
   "cell_type": "markdown",
   "metadata": {},
   "source": [
    "### Задание 1.1.1\n",
    "Какую кухню (ключ 'cuisine') представляет последнее блюдо в списке _recipes?_"
   ]
  },
  {
   "cell_type": "code",
   "execution_count": null,
   "metadata": {},
   "outputs": [],
   "source": [
    "# Ваш код здесь"
   ]
  },
  {
   "cell_type": "markdown",
   "metadata": {},
   "source": [
    "### Задание 1.1.2\n",
    "Сколько ингредиентов входит в состав этого блюда?"
   ]
  },
  {
   "cell_type": "code",
   "execution_count": null,
   "metadata": {},
   "outputs": [],
   "source": [
    "# Ваш код здесь"
   ]
  },
  {
   "cell_type": "markdown",
   "metadata": {},
   "source": [
    "### Задание 1.1.3\n",
    "Какие из перечисленных ингредиентов присутствуют в блюде с id = 17636?\n",
    "```\n",
    "['tomato sauce','spinach','italian seasoning',\n",
    "'broccoli','chopped onion','skinless chicken thighs','chopped green bell pepper']\n",
    "```"
   ]
  },
  {
   "cell_type": "code",
   "execution_count": null,
   "metadata": {},
   "outputs": [],
   "source": [
    "# Ваш код здесь"
   ]
  },
  {
   "cell_type": "markdown",
   "metadata": {},
   "source": [
    "### Задание 1.1.4\n",
    "Сколько ингредиентов входит в состав рецепта для приготовления блюда с id = 42013?"
   ]
  },
  {
   "cell_type": "markdown",
   "metadata": {},
   "source": [
    "### Задание 1.1.5\n",
    "Какие из перечисленных ингредиентов\n",
    "```\n",
    "'olive oil', 'eggs', 'dry vermouth', 'black olives', 'black beans', 'chicken livers'\n",
    "```\n",
    "отсутствуют в блюде с id = 23629?"
   ]
  },
  {
   "cell_type": "markdown",
   "metadata": {},
   "source": [
    "## 1.2. Группировка данных\n",
    "Статья о множествах: https://python-scripts.com/sets\n",
    "\n",
    "### Кейс №1: Какое количество кухонь представлено в наборе данных?"
   ]
  },
  {
   "cell_type": "code",
   "execution_count": null,
   "metadata": {},
   "outputs": [],
   "source": [
    "cuisines=[]\n",
    "for recipe in recipes:\n",
    "    if not recipe['cuisine'] in cuisines:\n",
    "        cuisines.append(recipe['cuisine'])\n",
    "print(len(cuisines))"
   ]
  },
  {
   "cell_type": "markdown",
   "metadata": {},
   "source": [
    "### Задание 1.2.1\n",
    "Сколько ингредиентов включено в состав всех блюд, описанных в наборе данных?\n",
    "\n",
    "Подсказка: Обратите внимание, что для добавления в список или множество нового ингредиента вам нужно будет организовать перебор ингредиентов каждого блюда в отдельном вложенном цикле."
   ]
  },
  {
   "cell_type": "code",
   "execution_count": null,
   "metadata": {},
   "outputs": [],
   "source": [
    "# Ваш код здесь"
   ]
  },
  {
   "cell_type": "markdown",
   "metadata": {},
   "source": [
    "### Задание 1.2.2\n",
    "Сколько ингредиентов встречается в рецептах блюд итальянской кухни _('cuisine' = italian)?_"
   ]
  },
  {
   "cell_type": "code",
   "execution_count": null,
   "metadata": {},
   "outputs": [],
   "source": [
    "# Ваш код здесь"
   ]
  },
  {
   "cell_type": "markdown",
   "metadata": {},
   "source": [
    "### Задание 1.2.3\n",
    "Какие ингредиенты из перечисленных\n",
    "```\n",
    "'bacon,bread slices,buttermilk,red beets,mozzarella cheese,carrots'\n",
    "```\n",
    "не встречаются в рецептах блюд русской кухни _('cuisine' = 'russian')?_"
   ]
  },
  {
   "cell_type": "markdown",
   "metadata": {},
   "source": [
    "### Кейс №2: Оцениваем популярность ингредиентов\n",
    "Нам необходимо оценить, какие продукты используются в приготовлении блюд чаще, а какие - реже. \n",
    "\n",
    "Способ 1. Преобразовать JSON-структуру в датафрейм и найти количество ненулевых значений для каждого ингредиента. Этот способ рассмотрим на следующем шаге.\n",
    "\n",
    "Способ 2. Создать словарь, в котором ключами будут являться названия ингредиентов, а\n",
    "значениями — количество рецептов, в которых встречается каждый ингредиент.\n",
    "\n",
    "Для создания словаря нам понадобится список или множество, содержащие перечень всех ингредиентов из описанных в наборе данных рецептов. Такой список вы составили при решении задачи в предыдущем уроке. Воспользуйтесь вашим кодом для решения этой задачи ещё раз, но при этом назовите список (или множество, это не будет иметь значения в коде, который мы собираемся создавать) именем *ingredients*.\n",
    "\n",
    "План решения задачи:\n",
    "\n",
    "1. Для хранения информации о частоте встречаемости ингредиентов мы создадим пустой словарь *food*.\n",
    "2. Заполним словарь *food* ключами, соответствующими названиям ингредиентов. В качестве значений по каждому ключу установим 0.\n",
    "3. Организуем вложенный цикл, в котором будем перебирать рецепты (внешний цикл) и ингредиенты, использующиеся в каждом рецепте (внутренний цикл). При каждом появлении очередного ингредиента мы будем увеличивать значение соответствующего элемента словаря *food* на единицу."
   ]
  },
  {
   "cell_type": "code",
   "execution_count": null,
   "metadata": {},
   "outputs": [],
   "source": [
    "ingredients=set()\n",
    "for recipe in recipes:\n",
    "    for item in recipe[\"ingredients\"]:\n",
    "        ingredients.add(item)\n",
    "    \n",
    "food={}\n",
    "for item in ingredients:\n",
    "    food[item]=0\n",
    "\n",
    "for recipe in recipes:\n",
    "    for item in recipe['ingredients']:\n",
    "        food[item] += 1"
   ]
  },
  {
   "cell_type": "code",
   "execution_count": null,
   "metadata": {},
   "outputs": [],
   "source": [
    "len(food)"
   ]
  },
  {
   "cell_type": "code",
   "execution_count": null,
   "metadata": {},
   "outputs": [],
   "source": [
    "food['sugar'], food['eggs'], food['salt']"
   ]
  },
  {
   "cell_type": "markdown",
   "metadata": {},
   "source": [
    "### Задание 1.2.4\n",
    "Какие ингредиенты входят в состав более чем 20% блюд, представленных в наборе данных?"
   ]
  },
  {
   "cell_type": "code",
   "execution_count": null,
   "metadata": {},
   "outputs": [],
   "source": [
    "# Ваш код здесь"
   ]
  },
  {
   "cell_type": "markdown",
   "metadata": {},
   "source": [
    "### Задание 1.2.5\n",
    "Какой ингредиент входит в состав самого большого количества блюд?"
   ]
  },
  {
   "cell_type": "code",
   "execution_count": null,
   "metadata": {},
   "outputs": [],
   "source": [
    "# Ваш код здесь"
   ]
  },
  {
   "cell_type": "markdown",
   "metadata": {},
   "source": [
    "### Задание 1.2.6\n",
    "Сколько ингредиентов входит в состав только одного блюда?"
   ]
  },
  {
   "cell_type": "code",
   "execution_count": null,
   "metadata": {},
   "outputs": [],
   "source": [
    "# Ваш код здесь"
   ]
  },
  {
   "cell_type": "markdown",
   "metadata": {},
   "source": [
    "## 1.3. Создание датафрейма на основе JSON-файла\n",
    "\n",
    "Для решения многих задач нужна возможность работать с данными в форме таблицы."
   ]
  },
  {
   "cell_type": "code",
   "execution_count": null,
   "metadata": {},
   "outputs": [],
   "source": [
    "import pandas as pd"
   ]
  },
  {
   "cell_type": "code",
   "execution_count": null,
   "metadata": {
    "scrolled": false
   },
   "outputs": [],
   "source": [
    "df=pd.DataFrame(recipes)\n",
    "df"
   ]
  },
  {
   "cell_type": "markdown",
   "metadata": {},
   "source": [
    "### Задание 1.3.1\n",
    "\n",
    "Какая часть набора данных была использована в качестве заголовков столбцов при создании датафрейма с помощью команды df = pd.DataFrame(recipes)?\n",
    "\n",
    "- индексы элементов списка\n",
    "- ключи словарей \n",
    "- значения словарей\n",
    "- самые часто встречающиеся значения словарей "
   ]
  },
  {
   "cell_type": "markdown",
   "metadata": {},
   "source": [
    "### Задание 1.3.2\n",
    "\n",
    "Какая часть набора данных была использована в качестве индексов строк при создании датафрейма с помощью команды df = pd.DataFrame(recipes)?\n",
    "- id блюд\n",
    "- ключи словарей\n",
    "- значения словарей\n",
    "- индексы были сгенерированы автоматически\n"
   ]
  },
  {
   "cell_type": "markdown",
   "metadata": {},
   "source": [
    "### Готовим данные для анализа\n",
    "\n",
    "Множество всех  ингредиентов"
   ]
  },
  {
   "cell_type": "code",
   "execution_count": null,
   "metadata": {},
   "outputs": [],
   "source": [
    "def find_ingr(lst):\n",
    "    if ingr in lst:\n",
    "        return 1\n",
    "    return 0"
   ]
  },
  {
   "cell_type": "code",
   "execution_count": null,
   "metadata": {},
   "outputs": [],
   "source": [
    "for ingr in ingredients:\n",
    "    df[ingr]=df['ingredients'].apply(find_ingr)"
   ]
  },
  {
   "cell_type": "markdown",
   "metadata": {},
   "source": [
    "В завершение изменим значение столбца *ingredients*, заполнив его данными о количестве ингредиентов в каждом рецепте"
   ]
  },
  {
   "cell_type": "code",
   "execution_count": null,
   "metadata": {},
   "outputs": [],
   "source": [
    "df['ingredients']=df['ingredients'].apply(lambda x: len(x))"
   ]
  },
  {
   "cell_type": "code",
   "execution_count": null,
   "metadata": {
    "scrolled": true
   },
   "outputs": [],
   "source": [
    "df.head()"
   ]
  },
  {
   "cell_type": "markdown",
   "metadata": {},
   "source": [
    "###  Задание 1.3.3\n",
    "\n",
    "Определите тип переменной *lst*, которую принимает на входе функция *find_ingr:*\n",
    "- строка\n",
    "- список\n",
    "- словарь\n",
    "- JSON "
   ]
  },
  {
   "cell_type": "markdown",
   "metadata": {},
   "source": [
    "###  Задание 1.3.4\n",
    "\n",
    "Отметьте верные утверждения о переменной *ingr*, которая используется в коде функции *find_ingr:*\n",
    "- в переменной хранится название какого-либо ингредиента \n",
    "- в переменной хранится название ингредиента, входящего в состав рецепта для приготовления текущего блюда\n",
    "- значение переменной устанавливается за пределами функции \n",
    "- значение переменной не меняется при выполнении функции "
   ]
  },
  {
   "cell_type": "markdown",
   "metadata": {},
   "source": [
    "###  Задание 1.3.5\n",
    "\n",
    "Причина, по которой мы сначала заполнили столбцы с данными о наличии или отсутствии каждого ингредиента, а после этого заполнили столбец данными о количестве ингредиентов в рецепте:\n",
    "\n",
    "- Это был случайный выбор. На самом деле порядок выполнения этих действий не влияет на результат.\n",
    "- Столбцы датафрейма нужно заполнять в том порядке, в котором они расположены в датафрейме.\n",
    "- При заполнении столбцов с данными о наличии или отсутствии каждого ингредиента мы использовали информацию из столбца *ingredients*. Если бы мы заменили список, хранящийся в этом столбце изначально, на данные о количестве ингредиентов, мы бы потеряли информацию, необходимую для создания столбцов, посвящённых каждому ингредиенту в отдельности."
   ]
  },
  {
   "cell_type": "markdown",
   "metadata": {},
   "source": [
    "### Задание 1.3.6 \n",
    "\n",
    "Объедините все действия, начиная с чтения файла в JSON-формате (recipes.json) и заканчивая созданием итогового датафрейма, в единый код. Загрузите весь код в поле для ответа. Импорт библиотек в поле для ответа загружать не нужно.\n",
    "\n",
    "Используйте множество (set) для хранения названий ингредиентов блюд.\n",
    "\n",
    "Полученный в результате работы кода датафрейм должен иметь имя *df*.\n"
   ]
  },
  {
   "cell_type": "code",
   "execution_count": null,
   "metadata": {},
   "outputs": [],
   "source": [
    "# Ваш код здесь"
   ]
  },
  {
   "cell_type": "markdown",
   "metadata": {},
   "source": [
    "### Сохраняем датафрейм в CSV-файле"
   ]
  },
  {
   "cell_type": "code",
   "execution_count": null,
   "metadata": {},
   "outputs": [],
   "source": [
    "df.to_csv('recipes.csv', index = False)"
   ]
  },
  {
   "cell_type": "markdown",
   "metadata": {},
   "source": [
    "## 1.4. Создание JSON-файла\n",
    "\n",
    "### Из Pandas в JSON\n",
    "\n",
    "В завершающей части этого блока мы решим обратную задачу и создадим JSON-файл из CSV-файла, который получили в конце предыдущего этапа. "
   ]
  },
  {
   "cell_type": "code",
   "execution_count": null,
   "metadata": {},
   "outputs": [],
   "source": [
    "import pandas as pd\n",
    "df=pd.read_csv('recipes.csv')"
   ]
  },
  {
   "cell_type": "markdown",
   "metadata": {},
   "source": [
    "Теперь, используя только данные из этого файла, нам нужно в точности воссоздать структуру исходного JSON-файла. Начнём с создания списка, содержащего перечень ингредиентов, встречающихся в рецептах, а также списка, содержащего перечень *id* всех блюд."
   ]
  },
  {
   "cell_type": "code",
   "execution_count": null,
   "metadata": {},
   "outputs": [],
   "source": [
    "df.head()"
   ]
  },
  {
   "cell_type": "markdown",
   "metadata": {},
   "source": [
    "### Задание 1.4.1\n",
    "\n",
    "Напишите код для создания списка *id* всех блюд, представленных в датафрейме.\n",
    "\n",
    "Обратите внимание на следующие моменты:\n",
    "\n",
    "1. Тип структуры, в которой должны храниться id блюд - список (list).\n",
    "2. Имя переменной, в которой будет храниьтся список - *ids*.\n",
    "3. Порядок *id* в списке не имеет значения.\n",
    "4. Код должен начинаться с чтения файла *recipes.csv*\n"
   ]
  },
  {
   "cell_type": "code",
   "execution_count": null,
   "metadata": {},
   "outputs": [],
   "source": [
    "# Ваш код здесь"
   ]
  },
  {
   "cell_type": "markdown",
   "metadata": {},
   "source": [
    "###  Задание 1.4.2\n",
    "\n",
    "Напишите код для создания списка ингредиентов всех блюд, представленных в датафрейме.\n",
    "\n",
    "Обратите внимание на следующие моменты:\n",
    "\n",
    "1. Тип структуры, в которой должны храниться названия ингредиентов блюд, — список (list).\n",
    "2. Имя переменной, в которой будет храниться список, — *ingredients*.\n",
    "3. Порядок ингредиентов в списке не имеет значения.\n",
    "4. Код должен начинаться с чтения файла *recipes.csv*\n",
    "\n",
    "Подсказка: поскольку названия ингредиентов используются как названия столбцов датафрейма, вы можете воспользоваться командой *df.columns* для получения перечня всех названий столбцов, после чего превратить перечень в список и извлечь из него нужные данные.\n"
   ]
  },
  {
   "cell_type": "code",
   "execution_count": null,
   "metadata": {},
   "outputs": [],
   "source": [
    "# Ваш код здесь"
   ]
  },
  {
   "cell_type": "markdown",
   "metadata": {},
   "source": [
    "### Сохранение итоговой структуры\n",
    "\n",
    "Разберём основную часть кода (пока без дополнительной функции). Как вы помните, после десериализации JSON-файла мы получили структуру, представляющую собой список, состоящий из словарей. Каждый словарь состоял из трёх пар \"ключ-значение\", при этом в качестве значений выступали целое число (id), строковая величина (тип кухни) и список строковых величин (перечень ингредиентов). Сейчас нам предстоит воссоздать эту структуру, извлекая данные из датафрейма. Для хранения итоговой структуры создадим пустой список new_recipes. Также создадим списки для хранения *id* всех блюд и названий всех ингредиентов с помощью кода из упражнений 8.2.5.1 и 8.2.5.2:"
   ]
  },
  {
   "cell_type": "code",
   "execution_count": null,
   "metadata": {},
   "outputs": [],
   "source": [
    "new_recipes=[]\n",
    "ids=list(df['id'])\n",
    "ingredients=list(df.columns)[3:]"
   ]
  },
  {
   "cell_type": "markdown",
   "metadata": {},
   "source": [
    "Стратегия действий:\n",
    "1. Организуем цикл с параметром, в котором будем перебирать элементы списка *ids*. В результате в процессе прохождения цикла параметр постепенно примет значение *id* каждого блюда.\n",
    "2. На каждом шаге цикла создадим словарь, содержащий три пары \"ключ-значение\". Ключу \"id\" мы присвоим значение параметра цикла, ключу \"cuisine\" — значение соответствующей кухни, которое мы получим, применив фильтр по *id* к датафрейму *df*.\n",
    "3. Для заполнения значения (списка) по ключу \"ingredients\" воспользуемся функцией, код которой обсудим чуть позже. Каждый созданный словарь мы будем добавлять к списку *new_recipes:*\n",
    "```\n",
    "for current_id in ids:\n",
    "    cuisine=df[df['id']==current_id]['cuisine'].iloc[0]\n",
    "    current_ingredients=make_list(df[df['id']==current_id])\n",
    "    current_recipe={'cuisine':cuisine, 'id':current_id, 'ingredients':current_ingredients}\n",
    "    new_recipes.append(currfent_recipe)\n",
    "```"
   ]
  },
  {
   "cell_type": "markdown",
   "metadata": {},
   "source": [
    "### Задание 1.4.3\n",
    "\n",
    "Напишите код функции *make_list()*, которая принимает строку датафрейма *df*, содержащую данные об одном рецепте, и возвращает перечень ингредиентов этого блюда в виде списка.\n",
    "\n",
    "Обратите внимание на следующие моменты:\n",
    "\n",
    "1. Тип структуры, котоую должна вернуть функция в результате работы, — список (list).\n",
    "2. В процессе работы функция должна обращаться к списку, в котором хранятся названия всех ингредиентов. Используйте имя переменной *ingredients* для списка.\n",
    "3. Добавьте код для чтения файла *recipes.csv* и создания списка *ingredients* перед кодом функции.\n",
    "4. Порядок ингредиентов в возвращаемом списке не имеет значения.\n"
   ]
  },
  {
   "cell_type": "code",
   "execution_count": null,
   "metadata": {},
   "outputs": [],
   "source": [
    "# Ваш код здесь"
   ]
  },
  {
   "cell_type": "markdown",
   "metadata": {},
   "source": [
    "В завершающей части данного блока мы выполним сериализацию списка *new_recipes* и запишем полученные данные в файл. Для сериализации мы будем использовать функцию *dumps()*, которой в качестве параметра передадим список *new_recipes*. Запись в файл осуществляется с помощью метода *write()*. Предварительно файл нужно будет открыть для записи с помощью функции *open* и параметра 'w':"
   ]
  },
  {
   "cell_type": "code",
   "execution_count": null,
   "metadata": {},
   "outputs": [],
   "source": [
    "import json"
   ]
  },
  {
   "cell_type": "code",
   "execution_count": null,
   "metadata": {
    "scrolled": true
   },
   "outputs": [],
   "source": [
    "with open(\"new_recipes.json\", \"w\") as f:\n",
    "    json.dump(new_recipes, f)"
   ]
  }
 ],
 "metadata": {
  "kernelspec": {
   "display_name": "Python 3",
   "language": "python",
   "name": "python3"
  },
  "language_info": {
   "codemirror_mode": {
    "name": "ipython",
    "version": 3
   },
   "file_extension": ".py",
   "mimetype": "text/x-python",
   "name": "python",
   "nbconvert_exporter": "python",
   "pygments_lexer": "ipython3",
   "version": "3.7.6"
  }
 },
 "nbformat": 4,
 "nbformat_minor": 4
}
