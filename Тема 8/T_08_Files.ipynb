{
 "cells": [
  {
   "cell_type": "markdown",
   "metadata": {},
   "source": [
    "<img src=\"../Img/banner-fa-49-2.png\">\n",
    "\n",
    "<p style=\"font-size:125%; text-align:center\">Финансовый университет</p>\n",
    "\n",
    "<p style=\"font-size:150%; text-align:center\">Тема 8. Работа с файлами</p>\n",
    "<p style=\"font-size:125%; text-align:center\">Конспект лекции</p>\n",
    "\n",
    "<p>2 ноября 2021 года<br>\n",
    "ВМ/451 (ул. Верхняя Масловка, д. 15)</p>\n",
    "\n",
    "Студенты: Поток:УЦИ20-1<br>\n",
    "Преподаватель: Смирнов Михаил Викторович, доцент Департамента Анализа данных и машинного обучения Финансового университета при Правительстве Российской Федерации"
   ]
  },
  {
   "cell_type": "markdown",
   "metadata": {},
   "source": [
    "## Введение"
   ]
  },
  {
   "cell_type": "markdown",
   "metadata": {},
   "source": [
    "Модуль _JSON_ стандартной библиотеки _Python_\n",
    "<br>https://docs.python.org/3/library/json.html\n",
    "\n",
    "Модуль _read_excel_ библиотеки _Pandas_\n",
    "<br>http://pandas.pydata.org/pandas-docs/stable/reference/api/pandas.read_excel.html\n",
    "\n",
    "Модуль _xml.etree.ElementTree_ стандартной библиотеки _Python_\n",
    "<br>https://docs.python.org/3.7/library/xml.etree.elementtree.html\n",
    "\n",
    "Статья о множествах: https://python-scripts.com/sets\n",
    "\n",
    "Набор данных\n",
    "- сокращенная версия ..Data/recipes.json\n",
    "- полная версия https://www.kaggle.com/c/whats-cooking/data\n",
    "\n",
    "При подготовке занятия использовались учебные материалы <a href=\"https://skillfactory.ru\">ООО \"СКИЛФЭКТОРИ\"</a>"
   ]
  },
  {
   "cell_type": "markdown",
   "metadata": {},
   "source": [
    "# 1. Файлы JSON\n",
    "\n",
    "## 1.1. Получение данных в формате JSON"
   ]
  },
  {
   "cell_type": "code",
   "execution_count": 1,
   "metadata": {},
   "outputs": [],
   "source": [
    "import json\n",
    "from pprint import pprint # Из модуля pprint функцию pprint"
   ]
  },
  {
   "cell_type": "markdown",
   "metadata": {},
   "source": [
    "Десериализация с помощью *json.load()*"
   ]
  },
  {
   "cell_type": "code",
   "execution_count": 2,
   "metadata": {},
   "outputs": [],
   "source": [
    "with open('../Data/recipes.json') as f:\n",
    "    recipes=json.load(f)"
   ]
  },
  {
   "cell_type": "markdown",
   "metadata": {},
   "source": [
    "Распечатаем первый рецепт"
   ]
  },
  {
   "cell_type": "code",
   "execution_count": 3,
   "metadata": {},
   "outputs": [
    {
     "name": "stdout",
     "output_type": "stream",
     "text": [
      "{'cuisine': 'greek',\n",
      " 'id': 10259,\n",
      " 'ingredients': ['romaine lettuce',\n",
      "                 'black olives',\n",
      "                 'grape tomatoes',\n",
      "                 'garlic',\n",
      "                 'pepper',\n",
      "                 'purple onion',\n",
      "                 'seasoning',\n",
      "                 'garbanzo beans',\n",
      "                 'feta cheese crumbles']}\n"
     ]
    }
   ],
   "source": [
    "pprint(recipes[0])"
   ]
  },
  {
   "cell_type": "code",
   "execution_count": 4,
   "metadata": {},
   "outputs": [
    {
     "data": {
      "text/plain": [
       "500"
      ]
     },
     "execution_count": 4,
     "metadata": {},
     "output_type": "execute_result"
    }
   ],
   "source": [
    "len(recipes)"
   ]
  },
  {
   "cell_type": "markdown",
   "metadata": {},
   "source": [
    "После того как мы провели десериализацию данных из JSON-файла, мы можем работать с полученным объектом, как с обычным словарём.\n",
    "\n",
    "К какой кухне относится блюдо с id=13121?"
   ]
  },
  {
   "cell_type": "code",
   "execution_count": 5,
   "metadata": {
    "scrolled": true
   },
   "outputs": [
    {
     "name": "stdout",
     "output_type": "stream",
     "text": [
      "{'cuisine': 'thai',\n",
      " 'id': 13121,\n",
      " 'ingredients': ['pork loin',\n",
      "                 'roasted peanuts',\n",
      "                 'chopped cilantro fresh',\n",
      "                 'hoisin sauce',\n",
      "                 'creamy peanut butter',\n",
      "                 'chopped fresh mint',\n",
      "                 'thai basil',\n",
      "                 'rice',\n",
      "                 'medium shrimp',\n",
      "                 'water',\n",
      "                 'rice noodles',\n",
      "                 'beansprouts']}\n"
     ]
    }
   ],
   "source": [
    "for r in recipes:\n",
    "    if r['id']==13121:\n",
    "        break\n",
    "pprint(r)"
   ]
  },
  {
   "cell_type": "markdown",
   "metadata": {},
   "source": [
    "### Задание 1.1.1\n",
    "Какую кухню (ключ 'cuisine') представляет последнее блюдо в списке _recipes?_"
   ]
  },
  {
   "cell_type": "code",
   "execution_count": 6,
   "metadata": {},
   "outputs": [
    {
     "name": "stdout",
     "output_type": "stream",
     "text": [
      "british\n"
     ]
    }
   ],
   "source": [
    "# Ваш код здесь\n",
    "\n",
    "print(recipes[-1][\"cuisine\"])"
   ]
  },
  {
   "cell_type": "markdown",
   "metadata": {},
   "source": [
    "### Задание 1.1.2\n",
    "Сколько ингредиентов входит в состав этого блюда?"
   ]
  },
  {
   "cell_type": "code",
   "execution_count": 7,
   "metadata": {},
   "outputs": [
    {
     "name": "stdout",
     "output_type": "stream",
     "text": [
      "17\n"
     ]
    }
   ],
   "source": [
    "# Ваш код здесь\n",
    "\n",
    "print(len(recipes[-1][\"ingredients\"]))"
   ]
  },
  {
   "cell_type": "markdown",
   "metadata": {},
   "source": [
    "### Задание 1.1.3\n",
    "Какие из перечисленных ингредиентов присутствуют в блюде с id = 17636?\n",
    "```\n",
    "['tomato sauce','spinach','italian seasoning',\n",
    "'broccoli','chopped onion','skinless chicken thighs','chopped green bell pepper']\n",
    "```"
   ]
  },
  {
   "cell_type": "code",
   "execution_count": 8,
   "metadata": {},
   "outputs": [
    {
     "name": "stdout",
     "output_type": "stream",
     "text": [
      "{'spinach', 'chopped onion', 'italian seasoning', 'chopped green bell pepper', 'tomato sauce'}\n"
     ]
    }
   ],
   "source": [
    "# Ваш код здесь\n",
    "\n",
    "set1=set(['tomato sauce','spinach','italian seasoning','broccoli',\n",
    "          'chopped onion','skinless chicken thighs','chopped green bell pepper'])\n",
    "\n",
    "for r in recipes:\n",
    "    if r[\"id\"]==17636:\n",
    "        break\n",
    "set2=set(r[\"ingredients\"])\n",
    "\n",
    "print(set1 & set2)"
   ]
  },
  {
   "cell_type": "markdown",
   "metadata": {},
   "source": [
    "### Задание 1.1.4\n",
    "Сколько ингредиентов входит в состав рецепта для приготовления блюда с id = 42013?"
   ]
  },
  {
   "cell_type": "code",
   "execution_count": 9,
   "metadata": {},
   "outputs": [
    {
     "name": "stdout",
     "output_type": "stream",
     "text": [
      "14\n"
     ]
    }
   ],
   "source": [
    "# Ваш код здесь\n",
    "\n",
    "for r in recipes:\n",
    "    if r[\"id\"]==42013:\n",
    "        break\n",
    "print(len(r[\"ingredients\"]))"
   ]
  },
  {
   "cell_type": "markdown",
   "metadata": {},
   "source": [
    "### Задание 1.1.5\n",
    "Какие из перечисленных ингредиентов\n",
    "```\n",
    "'olive oil', 'eggs', 'dry vermouth', 'black olives', 'black beans', 'chicken livers'\n",
    "```\n",
    "отсутствуют в блюде с id = 23629?"
   ]
  },
  {
   "cell_type": "code",
   "execution_count": 10,
   "metadata": {},
   "outputs": [
    {
     "name": "stdout",
     "output_type": "stream",
     "text": [
      "{'chicken livers', 'dry vermouth', 'olive oil'}\n"
     ]
    }
   ],
   "source": [
    "# Ваш код здесь\n",
    "\n",
    "set1=set(['olive oil', 'eggs', 'dry vermouth', 'black olives', 'black beans', 'chicken livers'])\n",
    "for r in recipes:\n",
    "    if r[\"id\"]==23629:\n",
    "        break\n",
    "set2=set(r[\"ingredients\"])\n",
    "print(set1-set2)"
   ]
  },
  {
   "cell_type": "markdown",
   "metadata": {},
   "source": [
    "## 1.2. Группировка данных\n",
    "\n",
    "### Кейс №1: Какое количество кухонь представлено в наборе данных?"
   ]
  },
  {
   "cell_type": "code",
   "execution_count": 11,
   "metadata": {},
   "outputs": [
    {
     "name": "stdout",
     "output_type": "stream",
     "text": [
      "20\n"
     ]
    }
   ],
   "source": [
    "cuisines=[]\n",
    "for recipe in recipes:\n",
    "    if not recipe['cuisine'] in cuisines:\n",
    "        cuisines.append(recipe['cuisine'])\n",
    "print(len(cuisines))"
   ]
  },
  {
   "cell_type": "markdown",
   "metadata": {},
   "source": [
    "### Задание 1.2.1\n",
    "Сколько ингредиентов включено в состав всех блюд, описанных в наборе данных?\n",
    "\n",
    "Подсказка: для добавления в список или множество нового ингредиента организуйте перебор ингредиентов каждого блюда в отдельном вложенном цикле."
   ]
  },
  {
   "cell_type": "code",
   "execution_count": 12,
   "metadata": {},
   "outputs": [
    {
     "name": "stdout",
     "output_type": "stream",
     "text": [
      "1318\n"
     ]
    }
   ],
   "source": [
    "# Ваш код здесь\n",
    "\n",
    "ingredients=set()\n",
    "for r in recipes:\n",
    "    for i in r[\"ingredients\"]:\n",
    "        ingredients.add(i)\n",
    "print(len(ingredients))"
   ]
  },
  {
   "cell_type": "markdown",
   "metadata": {},
   "source": [
    "### Задание 1.2.2\n",
    "Сколько ингредиентов встречается в рецептах блюд итальянской кухни _('cuisine' = italian)?_"
   ]
  },
  {
   "cell_type": "code",
   "execution_count": 13,
   "metadata": {},
   "outputs": [
    {
     "name": "stdout",
     "output_type": "stream",
     "text": [
      "406\n"
     ]
    }
   ],
   "source": [
    "# Ваш код здесь\n",
    "\n",
    "italian_ingredients=set()\n",
    "\n",
    "for r in recipes:\n",
    "    if r[\"cuisine\"]==\"italian\":\n",
    "        for i in r[\"ingredients\"]:\n",
    "            italian_ingredients.add(i)\n",
    "print(len(italian_ingredients))"
   ]
  },
  {
   "cell_type": "markdown",
   "metadata": {},
   "source": [
    "### Задание 1.2.3\n",
    "Какие ингредиенты из перечисленных\n",
    "```\n",
    "'bacon,bread slices,buttermilk,red beets,mozzarella cheese,carrots'\n",
    "```\n",
    "не встречаются в рецептах блюд русской кухни _('cuisine' = 'russian')?_"
   ]
  },
  {
   "cell_type": "code",
   "execution_count": 14,
   "metadata": {
    "scrolled": true
   },
   "outputs": [
    {
     "name": "stdout",
     "output_type": "stream",
     "text": [
      "{'bread slices', 'carrots', 'bacon'}\n"
     ]
    }
   ],
   "source": [
    "# Ваш код здесь\n",
    "\n",
    "russian_ingredients=set()\n",
    "for r in recipes:\n",
    "    if r[\"cuisine\"]==\"russian\":\n",
    "        for i in r[\"ingredients\"]:\n",
    "            russian_ingredients.add(i)\n",
    "\n",
    "some_ingredients=set('bacon,bread slices,buttermilk,red beets,mozzarella cheese,carrots'.split(\",\"))\n",
    "\n",
    "print(some_ingredients-russian_ingredients)"
   ]
  },
  {
   "cell_type": "markdown",
   "metadata": {},
   "source": [
    "### Кейс №2: Оцениваем популярность ингредиентов\n",
    "Нам необходимо оценить, какие продукты используются в приготовлении блюд чаще, а какие - реже. \n",
    "\n",
    "Способ 1. Преобразовать JSON-структуру в датафрейм и найти количество ненулевых значений для каждого ингредиента. Этот способ рассмотрим позже.\n",
    "\n",
    "Способ 2. Создать словарь, в котором ключами будут названия ингредиентов, аnзначениями — количество рецептов, в которых встречается каждый ингредиент.\n",
    "\n",
    "Для создания словаря нам понадобится список или множество, содержащие перечень всех ингредиентов из описанных в наборе данных рецептов. Такой список вы уже составили. Воспользуйтесь вашим кодом для решения этой задачи ещё раз, но при этом назовите список (или множество, это не будет иметь значения в коде, который мы собираемся создавать) именем *ingredients*.\n",
    "\n",
    "План решения задачи:\n",
    "\n",
    "1. Для хранения информации о частоте встречаемости ингредиентов мы создадим пустой словарь *food*.\n",
    "2. Заполним словарь *food* ключами, соответствующими названиям ингредиентов. В качестве значений по каждому ключу установим 0.\n",
    "3. Организуем вложенный цикл, в котором будем перебирать рецепты (внешний цикл) и ингредиенты, использующиеся в каждом рецепте (внутренний цикл). При каждом появлении очередного ингредиента мы будем увеличивать значение соответствующего элемента словаря *food* на единицу."
   ]
  },
  {
   "cell_type": "code",
   "execution_count": 15,
   "metadata": {},
   "outputs": [],
   "source": [
    "ingredients=set()\n",
    "\n",
    "for r in recipes:\n",
    "    for i in r[\"ingredients\"]:\n",
    "        ingredients.add(i)\n",
    "    \n",
    "food={}\n",
    "\n",
    "for i in ingredients:\n",
    "    food[i]=0\n",
    "\n",
    "for r in recipes:\n",
    "    for i in r['ingredients']:\n",
    "        food[i] += 1"
   ]
  },
  {
   "cell_type": "code",
   "execution_count": 16,
   "metadata": {},
   "outputs": [
    {
     "data": {
      "text/plain": [
       "1318"
      ]
     },
     "execution_count": 16,
     "metadata": {},
     "output_type": "execute_result"
    }
   ],
   "source": [
    "len(food)"
   ]
  },
  {
   "cell_type": "code",
   "execution_count": 17,
   "metadata": {},
   "outputs": [
    {
     "data": {
      "text/plain": [
       "(81, 43, 217)"
      ]
     },
     "execution_count": 17,
     "metadata": {},
     "output_type": "execute_result"
    }
   ],
   "source": [
    "food['sugar'], food['eggs'], food['salt']"
   ]
  },
  {
   "cell_type": "markdown",
   "metadata": {},
   "source": [
    "### Задание 1.2.4\n",
    "Какие ингредиенты входят в состав более чем 20% блюд, представленных в наборе данных?"
   ]
  },
  {
   "cell_type": "code",
   "execution_count": 18,
   "metadata": {},
   "outputs": [
    {
     "name": "stdout",
     "output_type": "stream",
     "text": [
      "['salt', 'garlic']\n"
     ]
    }
   ],
   "source": [
    "# Ваш код здесь\n",
    "\n",
    "more_than_20=[]\n",
    "\n",
    "for key, value in food.items():\n",
    "    if value > len(recipes)*.2:\n",
    "        more_than_20.append(key)\n",
    "\n",
    "print(more_than_20)"
   ]
  },
  {
   "cell_type": "markdown",
   "metadata": {},
   "source": [
    "### Задание 1.2.5\n",
    "Какой ингредиент входит в состав самого большого количества блюд?"
   ]
  },
  {
   "cell_type": "code",
   "execution_count": 19,
   "metadata": {},
   "outputs": [
    {
     "name": "stdout",
     "output_type": "stream",
     "text": [
      "['salt']\n"
     ]
    }
   ],
   "source": [
    "# Ваш код здесь\n",
    "\n",
    "food_values=[]\n",
    "max_ingredients=[]\n",
    "\n",
    "for value in food.values():\n",
    "    food_values.append(value)\n",
    "\n",
    "food_values.sort()\n",
    "\n",
    "for key, value in food.items():\n",
    "    if value==food_values[-1]:\n",
    "        max_ingredients.append(key)\n",
    "\n",
    "print(max_ingredients)"
   ]
  },
  {
   "cell_type": "markdown",
   "metadata": {},
   "source": [
    "### Задание 1.2.6\n",
    "Сколько ингредиентов входит в состав только одного блюда?"
   ]
  },
  {
   "cell_type": "code",
   "execution_count": 20,
   "metadata": {},
   "outputs": [
    {
     "name": "stdout",
     "output_type": "stream",
     "text": [
      "684\n"
     ]
    }
   ],
   "source": [
    "# Ваш код здесь\n",
    "\n",
    "one_plate_ingredients=[]\n",
    "\n",
    "for key, value in food.items():\n",
    "    if value==1:\n",
    "        one_plate_ingredients.append(key)\n",
    "\n",
    "print(len(one_plate_ingredients))"
   ]
  },
  {
   "cell_type": "markdown",
   "metadata": {},
   "source": [
    "## 1.3. Создание датафрейма на основе JSON-файла\n",
    "\n",
    "Для решения многих задач нужна возможность работать с данными в форме таблицы."
   ]
  },
  {
   "cell_type": "code",
   "execution_count": 21,
   "metadata": {},
   "outputs": [],
   "source": [
    "import pandas as pd"
   ]
  },
  {
   "cell_type": "code",
   "execution_count": 22,
   "metadata": {
    "scrolled": false
   },
   "outputs": [
    {
     "data": {
      "text/html": [
       "<div>\n",
       "<style scoped>\n",
       "    .dataframe tbody tr th:only-of-type {\n",
       "        vertical-align: middle;\n",
       "    }\n",
       "\n",
       "    .dataframe tbody tr th {\n",
       "        vertical-align: top;\n",
       "    }\n",
       "\n",
       "    .dataframe thead th {\n",
       "        text-align: right;\n",
       "    }\n",
       "</style>\n",
       "<table border=\"1\" class=\"dataframe\">\n",
       "  <thead>\n",
       "    <tr style=\"text-align: right;\">\n",
       "      <th></th>\n",
       "      <th>id</th>\n",
       "      <th>cuisine</th>\n",
       "      <th>ingredients</th>\n",
       "    </tr>\n",
       "  </thead>\n",
       "  <tbody>\n",
       "    <tr>\n",
       "      <th>0</th>\n",
       "      <td>10259</td>\n",
       "      <td>greek</td>\n",
       "      <td>[romaine lettuce, black olives, grape tomatoes...</td>\n",
       "    </tr>\n",
       "    <tr>\n",
       "      <th>1</th>\n",
       "      <td>25693</td>\n",
       "      <td>southern_us</td>\n",
       "      <td>[plain flour, ground pepper, salt, tomatoes, g...</td>\n",
       "    </tr>\n",
       "    <tr>\n",
       "      <th>2</th>\n",
       "      <td>20130</td>\n",
       "      <td>filipino</td>\n",
       "      <td>[eggs, pepper, salt, mayonaise, cooking oil, g...</td>\n",
       "    </tr>\n",
       "    <tr>\n",
       "      <th>3</th>\n",
       "      <td>22213</td>\n",
       "      <td>indian</td>\n",
       "      <td>[water, vegetable oil, wheat, salt]</td>\n",
       "    </tr>\n",
       "    <tr>\n",
       "      <th>4</th>\n",
       "      <td>13162</td>\n",
       "      <td>indian</td>\n",
       "      <td>[black pepper, shallots, cornflour, cayenne pe...</td>\n",
       "    </tr>\n",
       "    <tr>\n",
       "      <th>...</th>\n",
       "      <td>...</td>\n",
       "      <td>...</td>\n",
       "      <td>...</td>\n",
       "    </tr>\n",
       "    <tr>\n",
       "      <th>495</th>\n",
       "      <td>1121</td>\n",
       "      <td>chinese</td>\n",
       "      <td>[ground pepper, garlic, safflower oil, green o...</td>\n",
       "    </tr>\n",
       "    <tr>\n",
       "      <th>496</th>\n",
       "      <td>18376</td>\n",
       "      <td>italian</td>\n",
       "      <td>[penne, garlic, eggplant, lemon juice, olive o...</td>\n",
       "    </tr>\n",
       "    <tr>\n",
       "      <th>497</th>\n",
       "      <td>17815</td>\n",
       "      <td>italian</td>\n",
       "      <td>[cold water, dry white wine, fish fillets, cho...</td>\n",
       "    </tr>\n",
       "    <tr>\n",
       "      <th>498</th>\n",
       "      <td>32878</td>\n",
       "      <td>southern_us</td>\n",
       "      <td>[water, cajun seasoning, yellow onion, shrimp,...</td>\n",
       "    </tr>\n",
       "    <tr>\n",
       "      <th>499</th>\n",
       "      <td>24410</td>\n",
       "      <td>british</td>\n",
       "      <td>[mint, large eggs, heavy cream, berries, groun...</td>\n",
       "    </tr>\n",
       "  </tbody>\n",
       "</table>\n",
       "<p>500 rows × 3 columns</p>\n",
       "</div>"
      ],
      "text/plain": [
       "        id      cuisine                                        ingredients\n",
       "0    10259        greek  [romaine lettuce, black olives, grape tomatoes...\n",
       "1    25693  southern_us  [plain flour, ground pepper, salt, tomatoes, g...\n",
       "2    20130     filipino  [eggs, pepper, salt, mayonaise, cooking oil, g...\n",
       "3    22213       indian                [water, vegetable oil, wheat, salt]\n",
       "4    13162       indian  [black pepper, shallots, cornflour, cayenne pe...\n",
       "..     ...          ...                                                ...\n",
       "495   1121      chinese  [ground pepper, garlic, safflower oil, green o...\n",
       "496  18376      italian  [penne, garlic, eggplant, lemon juice, olive o...\n",
       "497  17815      italian  [cold water, dry white wine, fish fillets, cho...\n",
       "498  32878  southern_us  [water, cajun seasoning, yellow onion, shrimp,...\n",
       "499  24410      british  [mint, large eggs, heavy cream, berries, groun...\n",
       "\n",
       "[500 rows x 3 columns]"
      ]
     },
     "execution_count": 22,
     "metadata": {},
     "output_type": "execute_result"
    }
   ],
   "source": [
    "df=pd.DataFrame(recipes)\n",
    "df"
   ]
  },
  {
   "cell_type": "markdown",
   "metadata": {},
   "source": [
    "### Задание 1.3.1\n",
    "\n",
    "Какая часть набора данных была использована в качестве заголовков столбцов при создании датафрейма с помощью команды df = pd.DataFrame(recipes)?\n",
    "\n",
    "- индексы элементов списка\n",
    "- ключи словарей \n",
    "- значения словарей\n",
    "- самые часто встречающиеся значения словарей "
   ]
  },
  {
   "cell_type": "markdown",
   "metadata": {},
   "source": [
    "### Задание 1.3.2\n",
    "\n",
    "Какая часть набора данных была использована в качестве индексов строк при создании датафрейма с помощью команды df = pd.DataFrame(recipes)?\n",
    "- id блюд\n",
    "- ключи словарей\n",
    "- значения словарей\n",
    "- индексы были сгенерированы автоматически\n"
   ]
  },
  {
   "cell_type": "markdown",
   "metadata": {},
   "source": [
    "### Готовим данные для анализа\n",
    "\n",
    "Множество всех  ингредиентов"
   ]
  },
  {
   "cell_type": "code",
   "execution_count": 23,
   "metadata": {},
   "outputs": [],
   "source": [
    "def find_ingr(lst):\n",
    "    if ingr in lst:\n",
    "        return 1\n",
    "    return 0"
   ]
  },
  {
   "cell_type": "code",
   "execution_count": 24,
   "metadata": {},
   "outputs": [],
   "source": [
    "for ingr in ingredients:\n",
    "    df[ingr]=df['ingredients'].apply(find_ingr)"
   ]
  },
  {
   "cell_type": "markdown",
   "metadata": {},
   "source": [
    "В завершение изменим значение столбца *ingredients*, заполнив его данными о количестве ингредиентов в каждом рецепте"
   ]
  },
  {
   "cell_type": "code",
   "execution_count": 25,
   "metadata": {},
   "outputs": [],
   "source": [
    "df['ingredients']=df['ingredients'].apply(lambda x: len(x))"
   ]
  },
  {
   "cell_type": "code",
   "execution_count": 26,
   "metadata": {
    "scrolled": true
   },
   "outputs": [
    {
     "data": {
      "text/html": [
       "<div>\n",
       "<style scoped>\n",
       "    .dataframe tbody tr th:only-of-type {\n",
       "        vertical-align: middle;\n",
       "    }\n",
       "\n",
       "    .dataframe tbody tr th {\n",
       "        vertical-align: top;\n",
       "    }\n",
       "\n",
       "    .dataframe thead th {\n",
       "        text-align: right;\n",
       "    }\n",
       "</style>\n",
       "<table border=\"1\" class=\"dataframe\">\n",
       "  <thead>\n",
       "    <tr style=\"text-align: right;\">\n",
       "      <th></th>\n",
       "      <th>id</th>\n",
       "      <th>cuisine</th>\n",
       "      <th>ingredients</th>\n",
       "      <th>kalamata</th>\n",
       "      <th>minced beef</th>\n",
       "      <th>pasta rotel</th>\n",
       "      <th>sesame seeds</th>\n",
       "      <th>half &amp; half</th>\n",
       "      <th>hazelnut oil</th>\n",
       "      <th>crusty rolls</th>\n",
       "      <th>...</th>\n",
       "      <th>fine sea salt</th>\n",
       "      <th>garlic chili sauce</th>\n",
       "      <th>Pillsburyв„ў Refrigerated Crescent Dinner Rolls</th>\n",
       "      <th>capers</th>\n",
       "      <th>red potato</th>\n",
       "      <th>cardamom</th>\n",
       "      <th>garlic</th>\n",
       "      <th>mini cucumbers</th>\n",
       "      <th>hot water</th>\n",
       "      <th>diced tomatoes</th>\n",
       "    </tr>\n",
       "  </thead>\n",
       "  <tbody>\n",
       "    <tr>\n",
       "      <th>0</th>\n",
       "      <td>10259</td>\n",
       "      <td>greek</td>\n",
       "      <td>9</td>\n",
       "      <td>0</td>\n",
       "      <td>0</td>\n",
       "      <td>0</td>\n",
       "      <td>0</td>\n",
       "      <td>0</td>\n",
       "      <td>0</td>\n",
       "      <td>0</td>\n",
       "      <td>...</td>\n",
       "      <td>0</td>\n",
       "      <td>0</td>\n",
       "      <td>0</td>\n",
       "      <td>0</td>\n",
       "      <td>0</td>\n",
       "      <td>0</td>\n",
       "      <td>1</td>\n",
       "      <td>0</td>\n",
       "      <td>0</td>\n",
       "      <td>0</td>\n",
       "    </tr>\n",
       "    <tr>\n",
       "      <th>1</th>\n",
       "      <td>25693</td>\n",
       "      <td>southern_us</td>\n",
       "      <td>11</td>\n",
       "      <td>0</td>\n",
       "      <td>0</td>\n",
       "      <td>0</td>\n",
       "      <td>0</td>\n",
       "      <td>0</td>\n",
       "      <td>0</td>\n",
       "      <td>0</td>\n",
       "      <td>...</td>\n",
       "      <td>0</td>\n",
       "      <td>0</td>\n",
       "      <td>0</td>\n",
       "      <td>0</td>\n",
       "      <td>0</td>\n",
       "      <td>0</td>\n",
       "      <td>0</td>\n",
       "      <td>0</td>\n",
       "      <td>0</td>\n",
       "      <td>0</td>\n",
       "    </tr>\n",
       "    <tr>\n",
       "      <th>2</th>\n",
       "      <td>20130</td>\n",
       "      <td>filipino</td>\n",
       "      <td>12</td>\n",
       "      <td>0</td>\n",
       "      <td>0</td>\n",
       "      <td>0</td>\n",
       "      <td>0</td>\n",
       "      <td>0</td>\n",
       "      <td>0</td>\n",
       "      <td>0</td>\n",
       "      <td>...</td>\n",
       "      <td>0</td>\n",
       "      <td>0</td>\n",
       "      <td>0</td>\n",
       "      <td>0</td>\n",
       "      <td>0</td>\n",
       "      <td>0</td>\n",
       "      <td>0</td>\n",
       "      <td>0</td>\n",
       "      <td>0</td>\n",
       "      <td>0</td>\n",
       "    </tr>\n",
       "    <tr>\n",
       "      <th>3</th>\n",
       "      <td>22213</td>\n",
       "      <td>indian</td>\n",
       "      <td>4</td>\n",
       "      <td>0</td>\n",
       "      <td>0</td>\n",
       "      <td>0</td>\n",
       "      <td>0</td>\n",
       "      <td>0</td>\n",
       "      <td>0</td>\n",
       "      <td>0</td>\n",
       "      <td>...</td>\n",
       "      <td>0</td>\n",
       "      <td>0</td>\n",
       "      <td>0</td>\n",
       "      <td>0</td>\n",
       "      <td>0</td>\n",
       "      <td>0</td>\n",
       "      <td>0</td>\n",
       "      <td>0</td>\n",
       "      <td>0</td>\n",
       "      <td>0</td>\n",
       "    </tr>\n",
       "    <tr>\n",
       "      <th>4</th>\n",
       "      <td>13162</td>\n",
       "      <td>indian</td>\n",
       "      <td>20</td>\n",
       "      <td>0</td>\n",
       "      <td>0</td>\n",
       "      <td>0</td>\n",
       "      <td>0</td>\n",
       "      <td>0</td>\n",
       "      <td>0</td>\n",
       "      <td>0</td>\n",
       "      <td>...</td>\n",
       "      <td>0</td>\n",
       "      <td>0</td>\n",
       "      <td>0</td>\n",
       "      <td>0</td>\n",
       "      <td>0</td>\n",
       "      <td>0</td>\n",
       "      <td>0</td>\n",
       "      <td>0</td>\n",
       "      <td>0</td>\n",
       "      <td>0</td>\n",
       "    </tr>\n",
       "  </tbody>\n",
       "</table>\n",
       "<p>5 rows × 1321 columns</p>\n",
       "</div>"
      ],
      "text/plain": [
       "      id      cuisine  ingredients  kalamata  minced beef  pasta rotel  \\\n",
       "0  10259        greek            9         0            0            0   \n",
       "1  25693  southern_us           11         0            0            0   \n",
       "2  20130     filipino           12         0            0            0   \n",
       "3  22213       indian            4         0            0            0   \n",
       "4  13162       indian           20         0            0            0   \n",
       "\n",
       "   sesame seeds  half & half  hazelnut oil  crusty rolls  ...  fine sea salt  \\\n",
       "0             0            0             0             0  ...              0   \n",
       "1             0            0             0             0  ...              0   \n",
       "2             0            0             0             0  ...              0   \n",
       "3             0            0             0             0  ...              0   \n",
       "4             0            0             0             0  ...              0   \n",
       "\n",
       "   garlic chili sauce  Pillsburyв„ў Refrigerated Crescent Dinner Rolls  \\\n",
       "0                   0                                                0   \n",
       "1                   0                                                0   \n",
       "2                   0                                                0   \n",
       "3                   0                                                0   \n",
       "4                   0                                                0   \n",
       "\n",
       "   capers  red potato  cardamom  garlic  mini cucumbers  hot water  \\\n",
       "0       0           0         0       1               0          0   \n",
       "1       0           0         0       0               0          0   \n",
       "2       0           0         0       0               0          0   \n",
       "3       0           0         0       0               0          0   \n",
       "4       0           0         0       0               0          0   \n",
       "\n",
       "   diced tomatoes  \n",
       "0               0  \n",
       "1               0  \n",
       "2               0  \n",
       "3               0  \n",
       "4               0  \n",
       "\n",
       "[5 rows x 1321 columns]"
      ]
     },
     "execution_count": 26,
     "metadata": {},
     "output_type": "execute_result"
    }
   ],
   "source": [
    "df.head()"
   ]
  },
  {
   "cell_type": "markdown",
   "metadata": {},
   "source": [
    "###  Задание 1.3.3\n",
    "\n",
    "Определите тип переменной *lst*, которую принимает на входе функция *find_ingr:*\n",
    "- строка\n",
    "- список\n",
    "- словарь\n",
    "- JSON "
   ]
  },
  {
   "cell_type": "markdown",
   "metadata": {},
   "source": [
    "###  Задание 1.3.4\n",
    "\n",
    "Отметьте верные утверждения о переменной *ingr*, которая используется в коде функции *find_ingr:*\n",
    "- в переменной хранится название какого-либо ингредиента \n",
    "- в переменной хранится название ингредиента, входящего в состав рецепта для приготовления текущего блюда\n",
    "- значение переменной устанавливается за пределами функции \n",
    "- значение переменной не меняется при выполнении функции "
   ]
  },
  {
   "cell_type": "markdown",
   "metadata": {},
   "source": [
    "###  Задание 1.3.5\n",
    "\n",
    "Причина, по которой мы сначала заполнили столбцы с данными о наличии или отсутствии каждого ингредиента, а после этого заполнили столбец данными о количестве ингредиентов в рецепте:\n",
    "\n",
    "- Это был случайный выбор. На самом деле порядок выполнения этих действий не влияет на результат.\n",
    "- Столбцы датафрейма нужно заполнять в том порядке, в котором они расположены в датафрейме.\n",
    "- При заполнении столбцов с данными о наличии или отсутствии каждого ингредиента мы использовали информацию из столбца *ingredients*. Если бы мы заменили список, хранящийся в этом столбце изначально, на данные о количестве ингредиентов, мы бы потеряли информацию, необходимую для создания столбцов, посвящённых каждому ингредиенту в отдельности."
   ]
  },
  {
   "cell_type": "markdown",
   "metadata": {},
   "source": [
    "### Задание 1.3.6 \n",
    "\n",
    "Объедините все действия, начиная с чтения файла в JSON-формате (recipes.json) и заканчивая созданием итогового датафрейма, в единый код. Используйте множество (set) для хранения названий ингредиентов блюд. Полученный в результате работы кода датафрейм должен иметь имя *df*."
   ]
  },
  {
   "cell_type": "code",
   "execution_count": 27,
   "metadata": {},
   "outputs": [],
   "source": [
    "# Ваш код здесь"
   ]
  },
  {
   "cell_type": "markdown",
   "metadata": {},
   "source": [
    "### Сохраняем датафрейм в CSV-файле"
   ]
  },
  {
   "cell_type": "code",
   "execution_count": 28,
   "metadata": {},
   "outputs": [],
   "source": [
    "df.to_csv('recipes.csv', index = False)"
   ]
  },
  {
   "cell_type": "markdown",
   "metadata": {},
   "source": [
    "## 1.4. Создание JSON-файла\n",
    "\n",
    "### Из Pandas в JSON\n",
    "\n",
    "В завершающей части этого блока мы решим обратную задачу и создадим JSON-файл из CSV-файла, который получили в конце предыдущего этапа. "
   ]
  },
  {
   "cell_type": "code",
   "execution_count": 29,
   "metadata": {},
   "outputs": [],
   "source": [
    "df=pd.read_csv('recipes.csv')"
   ]
  },
  {
   "cell_type": "markdown",
   "metadata": {},
   "source": [
    "Теперь, используя только данные из этого файла, нам нужно в точности воссоздать структуру исходного JSON-файла. Начнём с создания списка, содержащего перечень ингредиентов, встречающихся в рецептах, а также списка, содержащего перечень *id* всех блюд."
   ]
  },
  {
   "cell_type": "code",
   "execution_count": 30,
   "metadata": {},
   "outputs": [
    {
     "data": {
      "text/html": [
       "<div>\n",
       "<style scoped>\n",
       "    .dataframe tbody tr th:only-of-type {\n",
       "        vertical-align: middle;\n",
       "    }\n",
       "\n",
       "    .dataframe tbody tr th {\n",
       "        vertical-align: top;\n",
       "    }\n",
       "\n",
       "    .dataframe thead th {\n",
       "        text-align: right;\n",
       "    }\n",
       "</style>\n",
       "<table border=\"1\" class=\"dataframe\">\n",
       "  <thead>\n",
       "    <tr style=\"text-align: right;\">\n",
       "      <th></th>\n",
       "      <th>id</th>\n",
       "      <th>cuisine</th>\n",
       "      <th>ingredients</th>\n",
       "      <th>kalamata</th>\n",
       "      <th>minced beef</th>\n",
       "      <th>pasta rotel</th>\n",
       "      <th>sesame seeds</th>\n",
       "      <th>half &amp; half</th>\n",
       "      <th>hazelnut oil</th>\n",
       "      <th>crusty rolls</th>\n",
       "      <th>...</th>\n",
       "      <th>fine sea salt</th>\n",
       "      <th>garlic chili sauce</th>\n",
       "      <th>Pillsburyв„ў Refrigerated Crescent Dinner Rolls</th>\n",
       "      <th>capers</th>\n",
       "      <th>red potato</th>\n",
       "      <th>cardamom</th>\n",
       "      <th>garlic</th>\n",
       "      <th>mini cucumbers</th>\n",
       "      <th>hot water</th>\n",
       "      <th>diced tomatoes</th>\n",
       "    </tr>\n",
       "  </thead>\n",
       "  <tbody>\n",
       "    <tr>\n",
       "      <th>0</th>\n",
       "      <td>10259</td>\n",
       "      <td>greek</td>\n",
       "      <td>9</td>\n",
       "      <td>0</td>\n",
       "      <td>0</td>\n",
       "      <td>0</td>\n",
       "      <td>0</td>\n",
       "      <td>0</td>\n",
       "      <td>0</td>\n",
       "      <td>0</td>\n",
       "      <td>...</td>\n",
       "      <td>0</td>\n",
       "      <td>0</td>\n",
       "      <td>0</td>\n",
       "      <td>0</td>\n",
       "      <td>0</td>\n",
       "      <td>0</td>\n",
       "      <td>1</td>\n",
       "      <td>0</td>\n",
       "      <td>0</td>\n",
       "      <td>0</td>\n",
       "    </tr>\n",
       "    <tr>\n",
       "      <th>1</th>\n",
       "      <td>25693</td>\n",
       "      <td>southern_us</td>\n",
       "      <td>11</td>\n",
       "      <td>0</td>\n",
       "      <td>0</td>\n",
       "      <td>0</td>\n",
       "      <td>0</td>\n",
       "      <td>0</td>\n",
       "      <td>0</td>\n",
       "      <td>0</td>\n",
       "      <td>...</td>\n",
       "      <td>0</td>\n",
       "      <td>0</td>\n",
       "      <td>0</td>\n",
       "      <td>0</td>\n",
       "      <td>0</td>\n",
       "      <td>0</td>\n",
       "      <td>0</td>\n",
       "      <td>0</td>\n",
       "      <td>0</td>\n",
       "      <td>0</td>\n",
       "    </tr>\n",
       "    <tr>\n",
       "      <th>2</th>\n",
       "      <td>20130</td>\n",
       "      <td>filipino</td>\n",
       "      <td>12</td>\n",
       "      <td>0</td>\n",
       "      <td>0</td>\n",
       "      <td>0</td>\n",
       "      <td>0</td>\n",
       "      <td>0</td>\n",
       "      <td>0</td>\n",
       "      <td>0</td>\n",
       "      <td>...</td>\n",
       "      <td>0</td>\n",
       "      <td>0</td>\n",
       "      <td>0</td>\n",
       "      <td>0</td>\n",
       "      <td>0</td>\n",
       "      <td>0</td>\n",
       "      <td>0</td>\n",
       "      <td>0</td>\n",
       "      <td>0</td>\n",
       "      <td>0</td>\n",
       "    </tr>\n",
       "    <tr>\n",
       "      <th>3</th>\n",
       "      <td>22213</td>\n",
       "      <td>indian</td>\n",
       "      <td>4</td>\n",
       "      <td>0</td>\n",
       "      <td>0</td>\n",
       "      <td>0</td>\n",
       "      <td>0</td>\n",
       "      <td>0</td>\n",
       "      <td>0</td>\n",
       "      <td>0</td>\n",
       "      <td>...</td>\n",
       "      <td>0</td>\n",
       "      <td>0</td>\n",
       "      <td>0</td>\n",
       "      <td>0</td>\n",
       "      <td>0</td>\n",
       "      <td>0</td>\n",
       "      <td>0</td>\n",
       "      <td>0</td>\n",
       "      <td>0</td>\n",
       "      <td>0</td>\n",
       "    </tr>\n",
       "    <tr>\n",
       "      <th>4</th>\n",
       "      <td>13162</td>\n",
       "      <td>indian</td>\n",
       "      <td>20</td>\n",
       "      <td>0</td>\n",
       "      <td>0</td>\n",
       "      <td>0</td>\n",
       "      <td>0</td>\n",
       "      <td>0</td>\n",
       "      <td>0</td>\n",
       "      <td>0</td>\n",
       "      <td>...</td>\n",
       "      <td>0</td>\n",
       "      <td>0</td>\n",
       "      <td>0</td>\n",
       "      <td>0</td>\n",
       "      <td>0</td>\n",
       "      <td>0</td>\n",
       "      <td>0</td>\n",
       "      <td>0</td>\n",
       "      <td>0</td>\n",
       "      <td>0</td>\n",
       "    </tr>\n",
       "  </tbody>\n",
       "</table>\n",
       "<p>5 rows × 1321 columns</p>\n",
       "</div>"
      ],
      "text/plain": [
       "      id      cuisine  ingredients  kalamata  minced beef  pasta rotel  \\\n",
       "0  10259        greek            9         0            0            0   \n",
       "1  25693  southern_us           11         0            0            0   \n",
       "2  20130     filipino           12         0            0            0   \n",
       "3  22213       indian            4         0            0            0   \n",
       "4  13162       indian           20         0            0            0   \n",
       "\n",
       "   sesame seeds  half & half  hazelnut oil  crusty rolls  ...  fine sea salt  \\\n",
       "0             0            0             0             0  ...              0   \n",
       "1             0            0             0             0  ...              0   \n",
       "2             0            0             0             0  ...              0   \n",
       "3             0            0             0             0  ...              0   \n",
       "4             0            0             0             0  ...              0   \n",
       "\n",
       "   garlic chili sauce  Pillsburyв„ў Refrigerated Crescent Dinner Rolls  \\\n",
       "0                   0                                                0   \n",
       "1                   0                                                0   \n",
       "2                   0                                                0   \n",
       "3                   0                                                0   \n",
       "4                   0                                                0   \n",
       "\n",
       "   capers  red potato  cardamom  garlic  mini cucumbers  hot water  \\\n",
       "0       0           0         0       1               0          0   \n",
       "1       0           0         0       0               0          0   \n",
       "2       0           0         0       0               0          0   \n",
       "3       0           0         0       0               0          0   \n",
       "4       0           0         0       0               0          0   \n",
       "\n",
       "   diced tomatoes  \n",
       "0               0  \n",
       "1               0  \n",
       "2               0  \n",
       "3               0  \n",
       "4               0  \n",
       "\n",
       "[5 rows x 1321 columns]"
      ]
     },
     "execution_count": 30,
     "metadata": {},
     "output_type": "execute_result"
    }
   ],
   "source": [
    "df.head()"
   ]
  },
  {
   "cell_type": "markdown",
   "metadata": {},
   "source": [
    "### Задание 1.4.1\n",
    "\n",
    "Напишите код для создания списка *id* всех блюд, представленных в датафрейме.\n",
    "\n",
    "Обратите внимание на следующие моменты:\n",
    "\n",
    "1. Тип структуры, в которой должны храниться id блюд - список (list).\n",
    "2. Имя переменной, в которой будет храниться список - *ids*.\n",
    "3. Порядок *id* в списке не имеет значения.\n",
    "4. Код должен начинаться с чтения файла *recipes.csv*\n"
   ]
  },
  {
   "cell_type": "code",
   "execution_count": 31,
   "metadata": {},
   "outputs": [],
   "source": [
    "# Ваш код здесь\n",
    "\n",
    "df=pd.read_csv('recipes.csv')\n",
    "ids=list(df['id'])"
   ]
  },
  {
   "cell_type": "markdown",
   "metadata": {},
   "source": [
    "###  Задание 1.4.2\n",
    "\n",
    "Напишите код для создания списка ингредиентов всех блюд, представленных в датафрейме.\n",
    "\n",
    "Обратите внимание на следующие моменты:\n",
    "\n",
    "1. Тип структуры, в которой должны храниться названия ингредиентов блюд, — список (list).\n",
    "2. Имя переменной, в которой будет храниться список, — *ingredients*.\n",
    "3. Порядок ингредиентов в списке не имеет значения.\n",
    "4. Код должен начинаться с чтения файла *recipes.csv*\n",
    "\n",
    "Подсказка: поскольку названия ингредиентов используются как названия столбцов датафрейма, вы можете воспользоваться командой *df.columns* для получения перечня всех названий столбцов, после чего превратить перечень в список и извлечь из него нужные данные.\n"
   ]
  },
  {
   "cell_type": "code",
   "execution_count": 32,
   "metadata": {},
   "outputs": [],
   "source": [
    "# Ваш код здесь\n",
    "\n",
    "df=pd.read_csv('recipes.csv')\n",
    "ingredients=list(df.columns)[3:]"
   ]
  },
  {
   "cell_type": "markdown",
   "metadata": {},
   "source": [
    "### Сохранение итоговой структуры\n",
    "\n",
    "Как вы помните, после десериализации JSON-файла мы получили структуру, представляющую собой список, состоящий из словарей. Каждый словарь состоял из трёх пар \"ключ-значение\", при этом в качестве значений выступали целое число (id), строковая величина (тип кухни) и список строковых величин (перечень ингредиентов). Сейчас нам предстоит воссоздать эту структуру, извлекая данные из датафрейма. Для хранения итоговой структуры создадим пустой список *new_recipes*. Также создадим списки для хранения *id* всех блюд и названий всех ингредиентов с помощью кода из упражнений 1.4.1 и 1.4.2:"
   ]
  },
  {
   "cell_type": "code",
   "execution_count": 33,
   "metadata": {},
   "outputs": [],
   "source": [
    "new_recipes=[]\n",
    "ids=list(df['id'])\n",
    "ingredients=list(df.columns)[3:]"
   ]
  },
  {
   "cell_type": "markdown",
   "metadata": {},
   "source": [
    "Стратегия действий:\n",
    "1. Организуем цикл с параметром, в котором будем перебирать элементы списка *ids*. В результате в процессе прохождения цикла параметр постепенно примет значение *id* каждого блюда.\n",
    "2. На каждом шаге цикла создадим словарь, содержащий три пары \"ключ-значение\". Ключу \"id\" мы присвоим значение параметра цикла, ключу \"cuisine\" — значение соответствующей кухни, которое мы получим, применив фильтр по *id* к датафрейму *df*.\n",
    "3. Для заполнения значения (списка) по ключу \"ingredients\" воспользуемся функцией, код которой обсудим чуть позже. Каждый созданный словарь мы будем добавлять к списку *new_recipes:*\n",
    "```\n",
    "for current_id in ids:\n",
    "    cuisine=df[df['id']==current_id]['cuisine'].iloc[0]\n",
    "    current_ingredients=make_list(df[df['id']==current_id])\n",
    "    current_recipe={'cuisine':cuisine, 'id':current_id, 'ingredients':current_ingredients}\n",
    "    new_recipes.append(current_recipe)\n",
    "```"
   ]
  },
  {
   "cell_type": "markdown",
   "metadata": {},
   "source": [
    "### Задание 1.4.3\n",
    "\n",
    "Напишите код функции *make_list()*, которая принимает строку датафрейма *df*, содержащую данные об одном рецепте, и возвращает перечень ингредиентов этого блюда в виде списка.\n",
    "\n",
    "Обратите внимание на следующие моменты:\n",
    "\n",
    "1. Тип структуры, котоую должна вернуть функция в результате работы, — список (list).\n",
    "2. В процессе работы функция должна обращаться к списку, в котором хранятся названия всех ингредиентов. Используйте имя переменной *ingredients* для списка.\n",
    "3. Добавьте код для чтения файла *recipes.csv* и создания списка *ingredients* перед кодом функции.\n",
    "4. Порядок ингредиентов в возвращаемом списке не имеет значения.\n"
   ]
  },
  {
   "cell_type": "code",
   "execution_count": 34,
   "metadata": {},
   "outputs": [],
   "source": [
    "# Ваш код здесь. Способ 1.\n",
    "\n",
    "import numpy as np\n",
    "\n",
    "df=pd.read_csv(\"recipes.csv\")\n",
    "ingredients=list(df.columns)[3:]\n",
    "\n",
    "def make_list(s):\n",
    "    arr_filter=np.array(list(s.iloc[0,3:]), dtype=bool)\n",
    "    arr_ingr_names=np.array(ingredients)\n",
    "    return arr_ingr_names[arr_filter]"
   ]
  },
  {
   "cell_type": "code",
   "execution_count": 35,
   "metadata": {},
   "outputs": [],
   "source": [
    "# Ваш код здесь. Способ 2 - без использования списка ingredients\n",
    "\n",
    "df=pd.read_csv(\"recipes.csv\")\n",
    "\n",
    "def make_list(s):\n",
    "    series=s.iloc[0,3:]\n",
    "    series=series[series==1]\n",
    "    return list(series.index)"
   ]
  },
  {
   "cell_type": "code",
   "execution_count": 36,
   "metadata": {},
   "outputs": [],
   "source": [
    "# Ваш код здесь. Способ 3 - с помощью перебора значений\n",
    "\n",
    "df=pd.read_csv(\"recipes.csv\")\n",
    "\n",
    "def make_list(s):\n",
    "    curr_ingredients=[]\n",
    "    for k, value in enumerate(s.iloc[0,3:]):\n",
    "        if value==1:\n",
    "            curr_ingredients.append(ingredients[k])\n",
    "    return curr_ingredients"
   ]
  },
  {
   "cell_type": "markdown",
   "metadata": {},
   "source": [
    "Теперь все готово для создания словаря *new_recipes*"
   ]
  },
  {
   "cell_type": "code",
   "execution_count": 37,
   "metadata": {},
   "outputs": [],
   "source": [
    "for current_id in ids:\n",
    "    cuisine=df[df['id']==current_id]['cuisine'].iloc[0]\n",
    "    current_ingredients=make_list(df[df['id']==current_id])\n",
    "    current_recipe={'cuisine':cuisine, 'id':current_id, 'ingredients':current_ingredients}\n",
    "    new_recipes.append(current_recipe)"
   ]
  },
  {
   "cell_type": "markdown",
   "metadata": {},
   "source": [
    "В завершающей части данного блока мы выполним сериализацию списка *new_recipes* и запишем полученные данные в файл. Для сериализации мы будем использовать функцию *dumps()*, которой в качестве параметра передадим список *new_recipes*. Запись в файл осуществляется с помощью метода *write()*. Предварительно файл нужно будет открыть для записи с помощью функции *open* и параметра 'w':"
   ]
  },
  {
   "cell_type": "code",
   "execution_count": 38,
   "metadata": {},
   "outputs": [],
   "source": [
    "import json"
   ]
  },
  {
   "cell_type": "code",
   "execution_count": 39,
   "metadata": {
    "scrolled": true
   },
   "outputs": [],
   "source": [
    "with open(\"new_recipes.json\", \"w\") as f:\n",
    "    json.dump(new_recipes, f)"
   ]
  },
  {
   "cell_type": "markdown",
   "metadata": {},
   "source": [
    "## 2. Обработка данных в формате XLSX (Excel)\n",
    "\n",
    "## 2.1. Файлы XLSX\n",
    "\n",
    "Excel-файлы — это таблицы с данными, которые имеют формат *.xls* и *.xlsx*.\n",
    "\n",
    "Инструменты для работы с Excel\n",
    "\n",
    "Сейчас практически любой текстовый процессор может работать с Excel-файлами. Изначально использовались .xls файлы, которые обрабатывались с помощью Microsoft Excel. Позже, начиная с версии Excel 2007, появился более продвинутый формат .xlsx. Для нашей работы разницы между ними нет, это те же самые табличные документы.\n",
    "\n",
    "Инструменты для работы с Excel:\n",
    "\n",
    "- Excel.\n",
    "- Google Sheets: редактирование файлов онлайн, создать новый документ можно с помощью sheets.new.\n",
    "- OpenOffice — открытый набор инструментов, в который входит приложение Calc, портирован на многие платформы.\n",
    "- Pandas.\n",
    "\n",
    "В данном блоке мы будем работать именно с Pandas: научимся читать и изменять Excel-файлы. Преимущество этого инструмента в том, что он позволяет работать со множеством однотипных документов и автоматизировать обработку."
   ]
  },
  {
   "cell_type": "code",
   "execution_count": 1,
   "metadata": {},
   "outputs": [],
   "source": [
    "import pandas as pd\n",
    "import numpy as np\n",
    "import json"
   ]
  },
  {
   "cell_type": "markdown",
   "metadata": {},
   "source": [
    "Используем функцию *pandas.read_excel()* для обработки ведомости в формате Excel результатов тестирования студентов по русскому языку.\n",
    "\n",
    "*Примечание. Все имена студентов в ведомости являются вымышленными, любое совпадение случайно.*"
   ]
  },
  {
   "cell_type": "code",
   "execution_count": 2,
   "metadata": {
    "scrolled": true
   },
   "outputs": [
    {
     "data": {
      "text/html": [
       "<div>\n",
       "<style scoped>\n",
       "    .dataframe tbody tr th:only-of-type {\n",
       "        vertical-align: middle;\n",
       "    }\n",
       "\n",
       "    .dataframe tbody tr th {\n",
       "        vertical-align: top;\n",
       "    }\n",
       "\n",
       "    .dataframe thead th {\n",
       "        text-align: right;\n",
       "    }\n",
       "</style>\n",
       "<table border=\"1\" class=\"dataframe\">\n",
       "  <thead>\n",
       "    <tr style=\"text-align: right;\">\n",
       "      <th></th>\n",
       "      <th>№ п/п</th>\n",
       "      <th>Внешний идентификатор</th>\n",
       "      <th>ФИО студента</th>\n",
       "      <th>Логин студента</th>\n",
       "      <th>1</th>\n",
       "    </tr>\n",
       "  </thead>\n",
       "  <tbody>\n",
       "    <tr>\n",
       "      <th>0</th>\n",
       "      <td>NaN</td>\n",
       "      <td>NaN</td>\n",
       "      <td>NaN</td>\n",
       "      <td>NaN</td>\n",
       "      <td>Процент</td>\n",
       "    </tr>\n",
       "    <tr>\n",
       "      <th>1</th>\n",
       "      <td>NaN</td>\n",
       "      <td>NaN</td>\n",
       "      <td>NaN</td>\n",
       "      <td>NaN</td>\n",
       "      <td>NaN</td>\n",
       "    </tr>\n",
       "    <tr>\n",
       "      <th>2</th>\n",
       "      <td>1.0</td>\n",
       "      <td>429498.0</td>\n",
       "      <td>Рожкова Пелагея</td>\n",
       "      <td>2019_06_429498</td>\n",
       "      <td>49</td>\n",
       "    </tr>\n",
       "    <tr>\n",
       "      <th>3</th>\n",
       "      <td>2.0</td>\n",
       "      <td>426187.0</td>\n",
       "      <td>Соколова Ия</td>\n",
       "      <td>2019_06_426187</td>\n",
       "      <td>58</td>\n",
       "    </tr>\n",
       "    <tr>\n",
       "      <th>4</th>\n",
       "      <td>3.0</td>\n",
       "      <td>404250.0</td>\n",
       "      <td>Семенова Вероника</td>\n",
       "      <td>2019_06_404250</td>\n",
       "      <td>65</td>\n",
       "    </tr>\n",
       "  </tbody>\n",
       "</table>\n",
       "</div>"
      ],
      "text/plain": [
       "   № п/п  Внешний идентификатор       ФИО студента  Логин студента        1\n",
       "0    NaN                    NaN                NaN             NaN  Процент\n",
       "1    NaN                    NaN                NaN             NaN      NaN\n",
       "2    1.0               429498.0    Рожкова Пелагея  2019_06_429498       49\n",
       "3    2.0               426187.0        Соколова Ия  2019_06_426187       58\n",
       "4    3.0               404250.0  Семенова Вероника  2019_06_404250       65"
      ]
     },
     "execution_count": 2,
     "metadata": {},
     "output_type": "execute_result"
    }
   ],
   "source": [
    "rus=pd.read_excel(\"../Data/ВедомостьРусский.xlsx\",\n",
    "                      sheet_name=\"Отчёт\", header=9,\n",
    "                      usecols=\"B:F\", nrows=46)\n",
    "rus.head()"
   ]
  },
  {
   "cell_type": "markdown",
   "metadata": {},
   "source": [
    "Удалим строки с пустыми значениями."
   ]
  },
  {
   "cell_type": "code",
   "execution_count": 3,
   "metadata": {},
   "outputs": [
    {
     "name": "stdout",
     "output_type": "stream",
     "text": [
      "<class 'pandas.core.frame.DataFrame'>\n",
      "Int64Index: 44 entries, 2 to 45\n",
      "Data columns (total 5 columns):\n",
      " #   Column                 Non-Null Count  Dtype  \n",
      "---  ------                 --------------  -----  \n",
      " 0   № п/п                  44 non-null     float64\n",
      " 1   Внешний идентификатор  44 non-null     float64\n",
      " 2   ФИО студента           44 non-null     object \n",
      " 3   Логин студента         44 non-null     object \n",
      " 4   1                      44 non-null     object \n",
      "dtypes: float64(2), object(3)\n",
      "memory usage: 2.1+ KB\n"
     ]
    }
   ],
   "source": [
    "rus.dropna(axis=0, how=\"any\", inplace=True)\n",
    "rus.info()"
   ]
  },
  {
   "cell_type": "markdown",
   "metadata": {},
   "source": [
    "Результат тестирования содержится в столбце \"1\". Это столбец типа \"object\". В столбцах такого типа могут содержаться значения разных типов, покажем это на примере. Распечатаем 12-ю строку."
   ]
  },
  {
   "cell_type": "code",
   "execution_count": 4,
   "metadata": {},
   "outputs": [
    {
     "data": {
      "text/plain": [
       "№ п/п                                13\n",
       "Внешний идентификатор            521351\n",
       "ФИО студента                Иванов Иван\n",
       "Логин студента           2019_06_521351\n",
       "1                                    50\n",
       "Name: 14, dtype: object"
      ]
     },
     "execution_count": 4,
     "metadata": {},
     "output_type": "execute_result"
    }
   ],
   "source": [
    "rus.iloc[12]"
   ]
  },
  {
   "cell_type": "markdown",
   "metadata": {},
   "source": [
    "Мы видим, что результат студента Иванова 50 баллов. Какого типа это значение?"
   ]
  },
  {
   "cell_type": "code",
   "execution_count": 5,
   "metadata": {},
   "outputs": [
    {
     "data": {
      "text/plain": [
       "int"
      ]
     },
     "execution_count": 5,
     "metadata": {},
     "output_type": "execute_result"
    }
   ],
   "source": [
    "type(rus.iloc[12, 4])"
   ]
  },
  {
   "cell_type": "markdown",
   "metadata": {},
   "source": [
    "Это целое число. Теперь изучим значение этого же атрибута в 11-й строке."
   ]
  },
  {
   "cell_type": "code",
   "execution_count": 6,
   "metadata": {},
   "outputs": [
    {
     "name": "stdout",
     "output_type": "stream",
     "text": [
      "№ п/п                                 12\n",
      "Внешний идентификатор             429460\n",
      "ФИО студента             Кондрат Синицин\n",
      "Логин студента            2019_06_429460\n",
      "1                                 неявка\n",
      "Name: 13, dtype: object\n",
      "<class 'str'>\n"
     ]
    }
   ],
   "source": [
    "print(rus.iloc[11])\n",
    "print(type(rus.iloc[11,4]))"
   ]
  },
  {
   "cell_type": "markdown",
   "metadata": {},
   "source": [
    "Это строка.\n",
    "\n",
    "Упражнение. <br>\n",
    "Получите значение атрибута \"1\" в 13-й строке. Какого оно типа?"
   ]
  },
  {
   "cell_type": "markdown",
   "metadata": {},
   "source": [
    "## 2.2. Перевод результатов в формат JSON\n",
    "Решим задачу перевода содержимого таблицы c результатами тестирования в файл формата JSON. С этой целью желательно, чтобы все значения столбца \"1\" были одного типа. Приведем их к текстовому типу."
   ]
  },
  {
   "cell_type": "code",
   "execution_count": 7,
   "metadata": {},
   "outputs": [],
   "source": [
    "rus[\"1\"]=rus[\"1\"].astype(str)"
   ]
  },
  {
   "cell_type": "markdown",
   "metadata": {},
   "source": [
    "Проверим теперь, в каком виде хранится значение результата студента Иванова."
   ]
  },
  {
   "cell_type": "code",
   "execution_count": 8,
   "metadata": {},
   "outputs": [
    {
     "data": {
      "text/plain": [
       "('50', str)"
      ]
     },
     "execution_count": 8,
     "metadata": {},
     "output_type": "execute_result"
    }
   ],
   "source": [
    "rus.iloc[12, 4], type(rus.iloc[12, 4])"
   ]
  },
  {
   "cell_type": "markdown",
   "metadata": {},
   "source": [
    "Это строка. Создадим список словарей в формате JSON"
   ]
  },
  {
   "cell_type": "code",
   "execution_count": 10,
   "metadata": {},
   "outputs": [
    {
     "data": {
      "text/plain": [
       "[{'№ п/п': 12.0,\n",
       "  'Внешний идентификатор': 429460.0,\n",
       "  'ФИО студента': 'Кондрат Синицин',\n",
       "  'Логин студента': '2019_06_429460',\n",
       "  '1': 'неявка'},\n",
       " {'№ п/п': 13.0,\n",
       "  'Внешний идентификатор': 521351.0,\n",
       "  'ФИО студента': 'Иванов Иван',\n",
       "  'Логин студента': '2019_06_521351',\n",
       "  '1': '50'},\n",
       " {'№ п/п': 14.0,\n",
       "  'Внешний идентификатор': 413848.0,\n",
       "  'ФИО студента': 'Пономарева Алина',\n",
       "  'Логин студента': '2019_06_413848',\n",
       "  '1': '57'}]"
      ]
     },
     "execution_count": 10,
     "metadata": {},
     "output_type": "execute_result"
    }
   ],
   "source": [
    "json_list=[]\n",
    "for ind in rus.index:\n",
    "    dict1=rus.loc[ind].to_dict()\n",
    "    json_list.append(dict1)\n",
    "\n",
    "json_list[11:14]"
   ]
  },
  {
   "cell_type": "markdown",
   "metadata": {},
   "source": [
    "Проведём сериализацию."
   ]
  },
  {
   "cell_type": "code",
   "execution_count": 11,
   "metadata": {},
   "outputs": [],
   "source": [
    "with open(\"ВедомостьРусский.json\", \"w\", encoding='utf-8') as f:\n",
    "    json.dump(json_list, f, ensure_ascii=False)"
   ]
  },
  {
   "cell_type": "markdown",
   "metadata": {},
   "source": [
    "## 2.3. Перевод результатов в формат XLSX\n",
    "\n",
    "В столбце \"1\" содержатся баллы и пояснения, такие как \"неявка\". Оставим только информацию о баллах, удалив строки таблицы, содержащие пояснения."
   ]
  },
  {
   "cell_type": "code",
   "execution_count": 14,
   "metadata": {
    "scrolled": true
   },
   "outputs": [
    {
     "name": "stdout",
     "output_type": "stream",
     "text": [
      "(44, 5)\n",
      "(35, 5)\n"
     ]
    }
   ],
   "source": [
    "print(rus.shape)\n",
    "rus=rus[~rus[\"1\"].str.contains(\"неявка\")]\n",
    "print(rus.shape)"
   ]
  },
  {
   "cell_type": "markdown",
   "metadata": {},
   "source": [
    "Сохраним эти данные в формате *.xlsx*"
   ]
  },
  {
   "cell_type": "code",
   "execution_count": 15,
   "metadata": {},
   "outputs": [],
   "source": [
    "rus.to_excel(\"SampleSheet.xlsx\", index=False)"
   ]
  },
  {
   "cell_type": "markdown",
   "metadata": {},
   "source": [
    "## 2.4. Чтение XLSX-файлов по ссылке\n",
    "\n",
    "Если Excel-файл в Интернете, его необязательно загружать на диск, в методе *pandas.read_excel()* можно использовать ссылку.\n",
    "\n",
    "<img src=\"../Img/YandexSearch.png\" style=\"width:80%\">\n",
    "\n",
    "Загрузим отчет в формате Excel \"Среднедушевые денежные доходы населения по субъектам Российской федерации\" по ссылке https://rosstat.gov.ru/storage/mediabank/urov_11sub-nm.xlsx"
   ]
  },
  {
   "cell_type": "code",
   "execution_count": 25,
   "metadata": {
    "scrolled": true
   },
   "outputs": [
    {
     "data": {
      "text/html": [
       "<div>\n",
       "<style scoped>\n",
       "    .dataframe tbody tr th:only-of-type {\n",
       "        vertical-align: middle;\n",
       "    }\n",
       "\n",
       "    .dataframe tbody tr th {\n",
       "        vertical-align: top;\n",
       "    }\n",
       "\n",
       "    .dataframe thead th {\n",
       "        text-align: right;\n",
       "    }\n",
       "</style>\n",
       "<table border=\"1\" class=\"dataframe\">\n",
       "  <thead>\n",
       "    <tr style=\"text-align: right;\">\n",
       "      <th></th>\n",
       "      <th>Среднедушевые денежные доходы населения, руб./месяц</th>\n",
       "      <th>2013 год</th>\n",
       "      <th>Unnamed: 2</th>\n",
       "      <th>Unnamed: 3</th>\n",
       "      <th>Unnamed: 4</th>\n",
       "      <th>Unnamed: 5</th>\n",
       "      <th>2014 год</th>\n",
       "      <th>Unnamed: 7</th>\n",
       "      <th>Unnamed: 8</th>\n",
       "      <th>Unnamed: 9</th>\n",
       "      <th>...</th>\n",
       "      <th>Unnamed: 24</th>\n",
       "      <th>Unnamed: 25</th>\n",
       "      <th>2018 год</th>\n",
       "      <th>Unnamed: 27</th>\n",
       "      <th>Unnamed: 28</th>\n",
       "      <th>Unnamed: 29</th>\n",
       "      <th>Unnamed: 30</th>\n",
       "      <th>2019 год*</th>\n",
       "      <th>Unnamed: 32</th>\n",
       "      <th>Unnamed: 33</th>\n",
       "    </tr>\n",
       "  </thead>\n",
       "  <tbody>\n",
       "    <tr>\n",
       "      <th>65</th>\n",
       "      <td>Ульяновская область</td>\n",
       "      <td>15125</td>\n",
       "      <td>17626</td>\n",
       "      <td>17381</td>\n",
       "      <td>21101</td>\n",
       "      <td>17856.7</td>\n",
       "      <td>16641</td>\n",
       "      <td>20088</td>\n",
       "      <td>20384</td>\n",
       "      <td>24986</td>\n",
       "      <td>...</td>\n",
       "      <td>26779</td>\n",
       "      <td>23284</td>\n",
       "      <td>20549</td>\n",
       "      <td>22122</td>\n",
       "      <td>22377</td>\n",
       "      <td>25841</td>\n",
       "      <td>22797</td>\n",
       "      <td>21655</td>\n",
       "      <td>23739</td>\n",
       "      <td>23508</td>\n",
       "    </tr>\n",
       "    <tr>\n",
       "      <th>18</th>\n",
       "      <td>Тульская область</td>\n",
       "      <td>17471</td>\n",
       "      <td>19428</td>\n",
       "      <td>19134</td>\n",
       "      <td>22384</td>\n",
       "      <td>19674.8</td>\n",
       "      <td>18581</td>\n",
       "      <td>21264</td>\n",
       "      <td>22602</td>\n",
       "      <td>25068</td>\n",
       "      <td>...</td>\n",
       "      <td>29823</td>\n",
       "      <td>27225.8</td>\n",
       "      <td>25223</td>\n",
       "      <td>26934</td>\n",
       "      <td>25769</td>\n",
       "      <td>30428</td>\n",
       "      <td>27208</td>\n",
       "      <td>25272</td>\n",
       "      <td>28243</td>\n",
       "      <td>28508</td>\n",
       "    </tr>\n",
       "    <tr>\n",
       "      <th>97</th>\n",
       "      <td>* Предварительные данные</td>\n",
       "      <td>NaN</td>\n",
       "      <td>NaN</td>\n",
       "      <td>NaN</td>\n",
       "      <td>NaN</td>\n",
       "      <td>NaN</td>\n",
       "      <td>NaN</td>\n",
       "      <td>NaN</td>\n",
       "      <td>NaN</td>\n",
       "      <td>NaN</td>\n",
       "      <td>...</td>\n",
       "      <td>NaN</td>\n",
       "      <td>NaN</td>\n",
       "      <td>NaN</td>\n",
       "      <td>NaN</td>\n",
       "      <td>NaN</td>\n",
       "      <td>NaN</td>\n",
       "      <td>NaN</td>\n",
       "      <td>NaN</td>\n",
       "      <td>NaN</td>\n",
       "      <td>NaN</td>\n",
       "    </tr>\n",
       "    <tr>\n",
       "      <th>80</th>\n",
       "      <td>Иркутская область</td>\n",
       "      <td>16919</td>\n",
       "      <td>18774</td>\n",
       "      <td>18384</td>\n",
       "      <td>21237</td>\n",
       "      <td>18842.8</td>\n",
       "      <td>17595</td>\n",
       "      <td>19545</td>\n",
       "      <td>19160</td>\n",
       "      <td>22114</td>\n",
       "      <td>...</td>\n",
       "      <td>25936</td>\n",
       "      <td>23506.7</td>\n",
       "      <td>22593</td>\n",
       "      <td>24427</td>\n",
       "      <td>23317</td>\n",
       "      <td>27269</td>\n",
       "      <td>24434</td>\n",
       "      <td>23220</td>\n",
       "      <td>25862</td>\n",
       "      <td>23897</td>\n",
       "    </tr>\n",
       "    <tr>\n",
       "      <th>48</th>\n",
       "      <td>Республика Северная Осетия-Алания</td>\n",
       "      <td>14788</td>\n",
       "      <td>15848</td>\n",
       "      <td>16460</td>\n",
       "      <td>21367</td>\n",
       "      <td>17141.8</td>\n",
       "      <td>16158</td>\n",
       "      <td>18071</td>\n",
       "      <td>20540</td>\n",
       "      <td>22330</td>\n",
       "      <td>...</td>\n",
       "      <td>25787</td>\n",
       "      <td>22702</td>\n",
       "      <td>19091</td>\n",
       "      <td>22979</td>\n",
       "      <td>23354</td>\n",
       "      <td>27490</td>\n",
       "      <td>23270</td>\n",
       "      <td>20538</td>\n",
       "      <td>24394</td>\n",
       "      <td>24418</td>\n",
       "    </tr>\n",
       "  </tbody>\n",
       "</table>\n",
       "<p>5 rows × 34 columns</p>\n",
       "</div>"
      ],
      "text/plain": [
       "   Среднедушевые денежные доходы населения, руб./месяц 2013 год Unnamed: 2  \\\n",
       "65                                Ульяновская область     15125      17626   \n",
       "18                                   Тульская область     17471      19428   \n",
       "97                           * Предварительные данные       NaN        NaN   \n",
       "80                                  Иркутская область     16919      18774   \n",
       "48                  Республика Северная Осетия-Алания     14788      15848   \n",
       "\n",
       "   Unnamed: 3 Unnamed: 4 Unnamed: 5 2014 год Unnamed: 7 Unnamed: 8 Unnamed: 9  \\\n",
       "65      17381      21101    17856.7    16641      20088      20384      24986   \n",
       "18      19134      22384    19674.8    18581      21264      22602      25068   \n",
       "97        NaN        NaN        NaN      NaN        NaN        NaN        NaN   \n",
       "80      18384      21237    18842.8    17595      19545      19160      22114   \n",
       "48      16460      21367    17141.8    16158      18071      20540      22330   \n",
       "\n",
       "    ... Unnamed: 24 Unnamed: 25 2018 год Unnamed: 27 Unnamed: 28 Unnamed: 29  \\\n",
       "65  ...       26779       23284    20549       22122       22377       25841   \n",
       "18  ...       29823     27225.8    25223       26934       25769       30428   \n",
       "97  ...         NaN         NaN      NaN         NaN         NaN         NaN   \n",
       "80  ...       25936     23506.7    22593       24427       23317       27269   \n",
       "48  ...       25787       22702    19091       22979       23354       27490   \n",
       "\n",
       "   Unnamed: 30 2019 год* Unnamed: 32 Unnamed: 33  \n",
       "65       22797     21655       23739       23508  \n",
       "18       27208     25272       28243       28508  \n",
       "97         NaN       NaN         NaN         NaN  \n",
       "80       24434     23220       25862       23897  \n",
       "48       23270     20538       24394       24418  \n",
       "\n",
       "[5 rows x 34 columns]"
      ]
     },
     "execution_count": 25,
     "metadata": {},
     "output_type": "execute_result"
    }
   ],
   "source": [
    "income=pd.read_excel(\"https://rosstat.gov.ru/storage/mediabank/urov_11sub-nm.xlsx\",\n",
    "                    header=3)\n",
    "income.sample(5)"
   ]
  },
  {
   "cell_type": "markdown",
   "metadata": {},
   "source": [
    "## 3. Обработка данных в формате XML\n",
    "\n",
    "### 3.1. Знакомство с форматом XML\n",
    "\n",
    "Рассмотрим пример XML файла:\n",
    "```\n",
    "<data>      \n",
    "    <items>    \n",
    "        <item name=\"item1\">item1abc</item>    \n",
    "        <item name=\"item2\">item2abc</item>    \n",
    "    </items>    \n",
    "</data>  \n",
    "```\n",
    "Если вы успели поработать с HTML, то можете заметить, что XML очень похож на него.\n",
    "\n",
    "XML расшифровывается как eXtensible Markup Language — расширяемый язык разметки. Он позволяет описывать документы, используя теги. В отличие от HTML, где теги заранее четко заданы, в XML мы можем задавать теги сами.\n",
    "\n",
    "Например, если мы хотим описать меню в ресторане, мы можем слегка изменить код выше:\n",
    "\n",
    "```\n",
    "<menu>    \n",
    "    <dish name=\"Кура\">  \n",
    "        <price>40</price>  \n",
    "        <weight>300</weight>  \n",
    "        <class>Мясо</class>  \n",
    "    </dish>\n",
    "    <dish name=\"Греча\">  \n",
    "        <price>20</price>  \n",
    "        <weight>200</weight>  \n",
    "        <class>Крупа</class>  \n",
    "    </dish>\n",
    "</menu>  \n",
    "```\n",
    "\n",
    "В примере выше довольно жесткая структура: у нас есть меню, в нём — объекты, помеченные тегом `<dish>`, у каждого из которых есть параметр *name*, в котором прописано имя объекта. В данном случае можно считать, что *dish* — это класс этого объекта.\n",
    "\n",
    "Внутри каждого объекта находится набор значений, которые тоже задаются тегами. Например, внутри тега `<price>` находится значение 20, означающее цену данного блюда. Тег `<price>` и другие теги внутри `<dish>` можно рассматривать как атрибуты класса dish.\n",
    "\n",
    "Файлы XML не всегда имеют жесткую структуру и не обязаны ее иметь, но чаще всего какая-то структура внутри файла будет. Почему? Потому что обычно XML не пишут вручную. Такие файлы генерируются кодом, и читаются тоже кодом. Поэтому при наличии понятной структуры обработка файла становится намного проще.\n",
    "\n",
    "Что бывает, когда в файле отсутствовала структура, вы видели в прошлой секции, когда разбирали накладную, записанную в Excel файл.\n",
    "\n",
    "#### Как работают с XML?\n",
    "\n",
    "XML-файлы имеют древовидную структуру. Это значит, что в файле используется набор тегов, внутри которых могут находиться другие теги со своими значениями.\n",
    "\n",
    "В каком-то смысле XML похож на JSON или даже просто на словарь со значениями. Чуть позже вы увидите, как можно превратить XML-файл в JSON и в Python-словарь. После этого вы сможете пользоваться стандартными средствами языка Python для работы с этими данными, не задумываясь о том, в каком формате они к вам пришли.\n",
    "\n",
    "Это не единственный способ работать с XML в Python. В стандартной библиотеке языка есть пакет, который позволяет работать с XML напрямую. В дальнейшем мы разберём его подробнее и сможем читать, модифицировать и записывать файлы XML.\n",
    "    \n",
    "Если у вас нет времени разбираться с программированием, вам прислали XML-файл, и вы просто хотите посмотреть на него или превратить его в JSON, можно воспользоваться любым из многочисленных онлайн-сервисов, например, https://codebeautify.org/xmlviewer\n",
    "\n",
    "#### Результат перевода XML в JSON\n",
    "```\n",
    "{\n",
    "\t\"menu\": {\n",
    "\t\t\"dish\": [\n",
    "\t\t\t{\n",
    "\t\t\t\t\"price\": \"40\",\n",
    "\t\t\t\t\"weight\": \"300\",\n",
    "\t\t\t\t\"class\": \"Мясо\",\n",
    "\t\t\t\t\"_name\": \"Кура\"\n",
    "\t\t\t},\n",
    "\t\t\t{\n",
    "\t\t\t\t\"price\": \"20\",\n",
    "\t\t\t\t\"weight\": \"200\",\n",
    "\t\t\t\t\"class\": \"Крупа\",\n",
    "\t\t\t\t\"_name\": \"Греча\"\n",
    "\t\t\t}\n",
    "\t\t]\n",
    "\t}\n",
    "}\n",
    "```\n",
    "\n",
    "\n",
    "#### Задание 1\n",
    "\n",
    "Какой код можно использовать для получения информации о стоимости гречи после десериализации объекта, структура которого показана на рисунке выше? Предположим, что данные хранятся в переменной с именем food.\n",
    "- food['menu']['dish']['Греча']\n",
    "- food['menu']['dish']['_name' == 'Греча']\n",
    "- food['menu']['dish']['price']\n",
    "- food['menu']['dish'][1]['price']\n",
    "- food['menu']['dish']['_name' == 'Греча']['price']\n",
    "\n",
    "## 3.2. Извлечение данных из XML\n",
    "\n",
    "Как мы увидели выше, данные в формате *XML* имеют древовидную структуру. \n",
    "\n",
    "Что такое дерево? Это структура, которая имеет узлы и связи между ними. Самый верхнеуровневый узел называется корнем, а всё, что находится в самом низу, называется листьями. В примере выше корнем является `<menu>`, а листьями, например, `<price>` и `<weight>`. \n",
    "\n",
    "У `<menu>` есть дети (потомки) — это два узла `<dish>`, имеющие разный атрибут *name*.\n",
    "\n",
    "Мы будем пользоваться модулем *ElementTree*, входящим в стандартный пакет *xml*. Этот модуль позволит нам ходить по дереву *XML* и смотреть, что находится в каждом его узле, начиная с корня и заканчивая листьями. Импортируем модуль:\n",
    "\n"
   ]
  },
  {
   "cell_type": "code",
   "execution_count": 1,
   "metadata": {},
   "outputs": [],
   "source": [
    "import xml.etree.ElementTree as ET"
   ]
  },
  {
   "cell_type": "markdown",
   "metadata": {},
   "source": [
    "#### Задание 1\n",
    "1/1 point (graded)\n",
    "Сколько корней может быть у дерева, описывающего структуру XML-документа?\n",
    "- 0\n",
    "- 1\n",
    "- Сколько угодно\n",
    "- У дерева нет корней\n",
    "\n",
    "### Чтение XML файла"
   ]
  },
  {
   "cell_type": "code",
   "execution_count": 3,
   "metadata": {},
   "outputs": [
    {
     "name": "stdout",
     "output_type": "stream",
     "text": [
      "<xml.etree.ElementTree.ElementTree object at 0x000001E3A9EAC048>\n"
     ]
    }
   ],
   "source": [
    "tree=ET.parse('../Data/menu.xml')\n",
    "print(tree)"
   ]
  },
  {
   "cell_type": "markdown",
   "metadata": {},
   "source": [
    "Используем метод *getroot()* для получения информации о корне XML-дерева и потомках."
   ]
  },
  {
   "cell_type": "code",
   "execution_count": 4,
   "metadata": {},
   "outputs": [
    {
     "data": {
      "text/plain": [
       "<Element 'menu' at 0x000001E3A9EAB458>"
      ]
     },
     "execution_count": 4,
     "metadata": {},
     "output_type": "execute_result"
    }
   ],
   "source": [
    "tree.getroot()"
   ]
  },
  {
   "cell_type": "code",
   "execution_count": 6,
   "metadata": {},
   "outputs": [
    {
     "data": {
      "text/plain": [
       "[<Element 'dish' at 0x000001E3A9EAB4A8>,\n",
       " <Element 'dish' at 0x000001E3A9EAB7C8>]"
      ]
     },
     "execution_count": 6,
     "metadata": {},
     "output_type": "execute_result"
    }
   ],
   "source": [
    "list(tree.getroot())"
   ]
  },
  {
   "cell_type": "markdown",
   "metadata": {},
   "source": [
    "Мы получили список потомков. Если у корня нет потомков, то список будет пуст.\n",
    "\n",
    "Объект корня XML-дерева является итерируемым. Следовательно, для получения информации о потомках можно использовать итерацию.\n",
    "\n",
    "Задание. Напишите код, который выводит на печать информацию о потомках корня XML-дерева с помощью итерации."
   ]
  },
  {
   "cell_type": "code",
   "execution_count": 8,
   "metadata": {},
   "outputs": [],
   "source": [
    "# Ваш код здесь\n"
   ]
  },
  {
   "cell_type": "markdown",
   "metadata": {},
   "source": [
    "Таким образом, мы можем работать с деревом XML как со списком, если мы используем ElementTree. Каждый узел будет являться списком, в котором находятся его узлы-дети."
   ]
  },
  {
   "cell_type": "code",
   "execution_count": 10,
   "metadata": {},
   "outputs": [
    {
     "name": "stdout",
     "output_type": "stream",
     "text": [
      "<Element 'dish' at 0x000001E3A9EAB4A8>\n",
      "<Element 'dish' at 0x000001E3A9EAB7C8>\n"
     ]
    }
   ],
   "source": [
    "root=tree.getroot()\n",
    "print(root[0])\n",
    "print(root[1])"
   ]
  },
  {
   "cell_type": "markdown",
   "metadata": {},
   "source": [
    "Ранее мы видели, что у узлов могут быть параметры (атрибуты). Например, у узлов dish мы видели атрибут name. Мы можем обратиться к атрибутам объекта с помощью команды attrib."
   ]
  },
  {
   "cell_type": "code",
   "execution_count": 12,
   "metadata": {},
   "outputs": [
    {
     "data": {
      "text/plain": [
       "{'name': 'Греча'}"
      ]
     },
     "execution_count": 12,
     "metadata": {},
     "output_type": "execute_result"
    }
   ],
   "source": [
    "root[1].attrib"
   ]
  }
 ],
 "metadata": {
  "kernelspec": {
   "display_name": "Python 3",
   "language": "python",
   "name": "python3"
  },
  "language_info": {
   "codemirror_mode": {
    "name": "ipython",
    "version": 3
   },
   "file_extension": ".py",
   "mimetype": "text/x-python",
   "name": "python",
   "nbconvert_exporter": "python",
   "pygments_lexer": "ipython3",
   "version": "3.7.6"
  }
 },
 "nbformat": 4,
 "nbformat_minor": 4
}
