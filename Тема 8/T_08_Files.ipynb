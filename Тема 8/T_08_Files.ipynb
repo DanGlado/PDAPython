{
 "cells": [
  {
   "cell_type": "markdown",
   "metadata": {},
   "source": [
    "<img src=\"../Img/banner-fa-49-2.png\">\n",
    "\n",
    "<p style=\"font-size:125%; text-align:center\">Финансовый университет</p>\n",
    "\n",
    "<p style=\"font-size:150%; text-align:center\">Тема 8. Работа с файлами</p>\n",
    "<p style=\"font-size:125%; text-align:center\">Конспект лекции</p>\n",
    "\n",
    "<p>26 октября 2021 года<br>\n",
    "ВМ/451 (ул. Верхняя Масловка, д. 15)</p>\n",
    "\n",
    "Студенты: Поток:УЦИ20-1<br>\n",
    "Преподаватель: Смирнов Михаил Викторович, доцент Департамента Анализа данных и машинного обучения Финансового университета при Правительстве Российской Федерации"
   ]
  },
  {
   "cell_type": "markdown",
   "metadata": {},
   "source": [
    "## Введение"
   ]
  },
  {
   "cell_type": "markdown",
   "metadata": {},
   "source": [
    "Модуль _JSON_ стандартной библиотеки _Python_\n",
    "<br>https://docs.python.org/3/library/json.html\n",
    "\n",
    "Модуль _read_excel_ библиотеки _Pandas_\n",
    "<br>http://pandas.pydata.org/pandas-docs/stable/reference/api/pandas.read_excel.html\n",
    "\n",
    "Модуль _xml.etree.ElementTree_ стандартной библиотеки _Python_\n",
    "<br>https://docs.python.org/3.7/library/xml.etree.elementtree.html\n",
    "\n",
    "Статья о множествах: https://python-scripts.com/sets\n",
    "\n",
    "Набор данных\n",
    "- сокращенная версия ..Data/recipes.json\n",
    "- полная версия https://www.kaggle.com/c/whats-cooking/data\n",
    "\n",
    "При подготовке занятия использовались учебные материалы <a href=\"https://skillfactory.ru\">ООО \"СКИЛФЭКТОРИ\"</a>"
   ]
  },
  {
   "cell_type": "markdown",
   "metadata": {},
   "source": [
    "# 1. Файлы JSON\n",
    "\n",
    "## 1.1. Получение данных в формате JSON"
   ]
  },
  {
   "cell_type": "code",
   "execution_count": null,
   "metadata": {},
   "outputs": [],
   "source": [
    "import json\n",
    "from pprint import pprint # Из модуля pprint функцию pprint"
   ]
  },
  {
   "cell_type": "markdown",
   "metadata": {},
   "source": [
    "Десериализация с помощью *json.load()*"
   ]
  },
  {
   "cell_type": "code",
   "execution_count": null,
   "metadata": {
    "scrolled": true
   },
   "outputs": [],
   "source": [
    "with open('../Data/recipes.json') as f:\n",
    "    recipes=json.load(f)"
   ]
  },
  {
   "cell_type": "markdown",
   "metadata": {},
   "source": [
    "Распечатаем первый рецепт"
   ]
  },
  {
   "cell_type": "code",
   "execution_count": null,
   "metadata": {},
   "outputs": [],
   "source": [
    "pprint(recipes[0])"
   ]
  },
  {
   "cell_type": "code",
   "execution_count": null,
   "metadata": {},
   "outputs": [],
   "source": [
    "len(recipes)"
   ]
  },
  {
   "cell_type": "markdown",
   "metadata": {},
   "source": [
    "После того как мы провели десериализацию данных из JSON-файла, мы можем работать с полученным объектом, как с обычным словарём.\n",
    "\n",
    "К какой кухне относится блюдо с id=13121?"
   ]
  },
  {
   "cell_type": "code",
   "execution_count": null,
   "metadata": {
    "scrolled": true
   },
   "outputs": [],
   "source": [
    "for r in recipes:\n",
    "    if r['id']==13121:\n",
    "        break\n",
    "pprint(r)"
   ]
  },
  {
   "cell_type": "markdown",
   "metadata": {},
   "source": [
    "### Задание 1.1.1\n",
    "Какую кухню (ключ 'cuisine') представляет последнее блюдо в списке _recipes?_"
   ]
  },
  {
   "cell_type": "code",
   "execution_count": null,
   "metadata": {},
   "outputs": [],
   "source": [
    "# Ваш код здесь\n",
    "\n",
    "print(recipes[-1][\"cuisine\"])"
   ]
  },
  {
   "cell_type": "markdown",
   "metadata": {},
   "source": [
    "### Задание 1.1.2\n",
    "Сколько ингредиентов входит в состав этого блюда?"
   ]
  },
  {
   "cell_type": "code",
   "execution_count": null,
   "metadata": {},
   "outputs": [],
   "source": [
    "# Ваш код здесь\n",
    "\n",
    "print(len(recipes[-1][\"ingredients\"]))"
   ]
  },
  {
   "cell_type": "markdown",
   "metadata": {},
   "source": [
    "### Задание 1.1.3\n",
    "Какие из перечисленных ингредиентов присутствуют в блюде с id = 17636?\n",
    "```\n",
    "['tomato sauce','spinach','italian seasoning',\n",
    "'broccoli','chopped onion','skinless chicken thighs','chopped green bell pepper']\n",
    "```"
   ]
  },
  {
   "cell_type": "code",
   "execution_count": null,
   "metadata": {},
   "outputs": [],
   "source": [
    "# Ваш код здесь\n",
    "\n",
    "set1=set(['tomato sauce','spinach','italian seasoning','broccoli',\n",
    "          'chopped onion','skinless chicken thighs','chopped green bell pepper'])\n",
    "\n",
    "for r in recipes:\n",
    "    if r[\"id\"]==17636:\n",
    "        break\n",
    "set2=set(r[\"ingredients\"])\n",
    "\n",
    "print(set1 & set2)"
   ]
  },
  {
   "cell_type": "markdown",
   "metadata": {},
   "source": [
    "### Задание 1.1.4\n",
    "Сколько ингредиентов входит в состав рецепта для приготовления блюда с id = 42013?"
   ]
  },
  {
   "cell_type": "code",
   "execution_count": null,
   "metadata": {},
   "outputs": [],
   "source": [
    "# Ваш код здесь\n",
    "\n",
    "for r in recipes:\n",
    "    if r[\"id\"]==42013:\n",
    "        break\n",
    "print(len(r[\"ingredients\"]))"
   ]
  },
  {
   "cell_type": "markdown",
   "metadata": {},
   "source": [
    "### Задание 1.1.5\n",
    "Какие из перечисленных ингредиентов\n",
    "```\n",
    "'olive oil', 'eggs', 'dry vermouth', 'black olives', 'black beans', 'chicken livers'\n",
    "```\n",
    "отсутствуют в блюде с id = 23629?"
   ]
  },
  {
   "cell_type": "code",
   "execution_count": null,
   "metadata": {},
   "outputs": [],
   "source": [
    "# Ваш код здесь\n",
    "\n",
    "set1=set(['olive oil', 'eggs', 'dry vermouth', 'black olives', 'black beans', 'chicken livers'])\n",
    "for r in recipes:\n",
    "    if r[\"id\"]==23629:\n",
    "        break\n",
    "set2=set(r[\"ingredients\"])\n",
    "print(set1-set2)"
   ]
  },
  {
   "cell_type": "markdown",
   "metadata": {},
   "source": [
    "## 1.2. Группировка данных\n",
    "\n",
    "### Кейс №1: Какое количество кухонь представлено в наборе данных?"
   ]
  },
  {
   "cell_type": "code",
   "execution_count": null,
   "metadata": {},
   "outputs": [],
   "source": [
    "cuisines=[]\n",
    "for recipe in recipes:\n",
    "    if not recipe['cuisine'] in cuisines:\n",
    "        cuisines.append(recipe['cuisine'])\n",
    "print(len(cuisines))"
   ]
  },
  {
   "cell_type": "markdown",
   "metadata": {},
   "source": [
    "### Задание 1.2.1\n",
    "Сколько ингредиентов включено в состав всех блюд, описанных в наборе данных?\n",
    "\n",
    "Подсказка: для добавления в список или множество нового ингредиента организуйте перебор ингредиентов каждого блюда в отдельном вложенном цикле."
   ]
  },
  {
   "cell_type": "code",
   "execution_count": null,
   "metadata": {},
   "outputs": [],
   "source": [
    "# Ваш код здесь\n",
    "\n",
    "ingredients=set()\n",
    "for r in recipes:\n",
    "    for i in r[\"ingredients\"]:\n",
    "        ingredients.add(i)\n",
    "print(len(ingredients))"
   ]
  },
  {
   "cell_type": "markdown",
   "metadata": {},
   "source": [
    "### Задание 1.2.2\n",
    "Сколько ингредиентов встречается в рецептах блюд итальянской кухни _('cuisine' = italian)?_"
   ]
  },
  {
   "cell_type": "code",
   "execution_count": null,
   "metadata": {},
   "outputs": [],
   "source": [
    "# Ваш код здесь\n",
    "\n",
    "italian_ingredients=set()\n",
    "\n",
    "for r in recipes:\n",
    "    if r[\"cuisine\"]==\"italian\":\n",
    "        for i in r[\"ingredients\"]:\n",
    "            italian_ingredients.add(i)\n",
    "print(len(italian_ingredients))"
   ]
  },
  {
   "cell_type": "markdown",
   "metadata": {},
   "source": [
    "### Задание 1.2.3\n",
    "Какие ингредиенты из перечисленных\n",
    "```\n",
    "'bacon,bread slices,buttermilk,red beets,mozzarella cheese,carrots'\n",
    "```\n",
    "не встречаются в рецептах блюд русской кухни _('cuisine' = 'russian')?_"
   ]
  },
  {
   "cell_type": "code",
   "execution_count": null,
   "metadata": {
    "scrolled": true
   },
   "outputs": [],
   "source": [
    "# Ваш код здесь\n",
    "\n",
    "russian_ingredients=set()\n",
    "for r in recipes:\n",
    "    if r[\"cuisine\"]==\"russian\":\n",
    "        for i in r[\"ingredients\"]:\n",
    "            russian_ingredients.add(i)\n",
    "\n",
    "some_ingredients=set('bacon,bread slices,buttermilk,red beets,mozzarella cheese,carrots'.split(\",\"))\n",
    "\n",
    "print(some_ingredients-russian_ingredients)"
   ]
  },
  {
   "cell_type": "markdown",
   "metadata": {},
   "source": [
    "### Кейс №2: Оцениваем популярность ингредиентов\n",
    "Нам необходимо оценить, какие продукты используются в приготовлении блюд чаще, а какие - реже. \n",
    "\n",
    "Способ 1. Преобразовать JSON-структуру в датафрейм и найти количество ненулевых значений для каждого ингредиента. Этот способ рассмотрим позже.\n",
    "\n",
    "Способ 2. Создать словарь, в котором ключами будут названия ингредиентов, аnзначениями — количество рецептов, в которых встречается каждый ингредиент.\n",
    "\n",
    "Для создания словаря нам понадобится список или множество, содержащие перечень всех ингредиентов из описанных в наборе данных рецептов. Такой список вы уже составили. Воспользуйтесь вашим кодом для решения этой задачи ещё раз, но при этом назовите список (или множество, это не будет иметь значения в коде, который мы собираемся создавать) именем *ingredients*.\n",
    "\n",
    "План решения задачи:\n",
    "\n",
    "1. Для хранения информации о частоте встречаемости ингредиентов мы создадим пустой словарь *food*.\n",
    "2. Заполним словарь *food* ключами, соответствующими названиям ингредиентов. В качестве значений по каждому ключу установим 0.\n",
    "3. Организуем вложенный цикл, в котором будем перебирать рецепты (внешний цикл) и ингредиенты, использующиеся в каждом рецепте (внутренний цикл). При каждом появлении очередного ингредиента мы будем увеличивать значение соответствующего элемента словаря *food* на единицу."
   ]
  },
  {
   "cell_type": "code",
   "execution_count": null,
   "metadata": {},
   "outputs": [],
   "source": [
    "ingredients=set()\n",
    "\n",
    "for r in recipes:\n",
    "    for i in r[\"ingredients\"]:\n",
    "        ingredients.add(i)\n",
    "    \n",
    "food={}\n",
    "\n",
    "for i in ingredients:\n",
    "    food[i]=0\n",
    "\n",
    "for r in recipes:\n",
    "    for i in r['ingredients']:\n",
    "        food[i] += 1"
   ]
  },
  {
   "cell_type": "code",
   "execution_count": null,
   "metadata": {},
   "outputs": [],
   "source": [
    "len(food)"
   ]
  },
  {
   "cell_type": "code",
   "execution_count": null,
   "metadata": {},
   "outputs": [],
   "source": [
    "food['sugar'], food['eggs'], food['salt']"
   ]
  },
  {
   "cell_type": "markdown",
   "metadata": {},
   "source": [
    "### Задание 1.2.4\n",
    "Какие ингредиенты входят в состав более чем 20% блюд, представленных в наборе данных?"
   ]
  },
  {
   "cell_type": "code",
   "execution_count": null,
   "metadata": {},
   "outputs": [],
   "source": [
    "# Ваш код здесь\n",
    "\n",
    "more_than_20=[]\n",
    "\n",
    "for key, value in food.items():\n",
    "    if value > len(recipes)*.2:\n",
    "        more_than_20.append(key)\n",
    "\n",
    "print(more_than_20)"
   ]
  },
  {
   "cell_type": "markdown",
   "metadata": {},
   "source": [
    "### Задание 1.2.5\n",
    "Какой ингредиент входит в состав самого большого количества блюд?"
   ]
  },
  {
   "cell_type": "code",
   "execution_count": null,
   "metadata": {},
   "outputs": [],
   "source": [
    "# Ваш код здесь\n",
    "\n",
    "food_values=[]\n",
    "max_ingredients=[]\n",
    "\n",
    "for value in food.values():\n",
    "    food_values.append(value)\n",
    "\n",
    "food_values.sort()\n",
    "\n",
    "for key, value in food.items():\n",
    "    if value==food_values[-1]:\n",
    "        max_ingredients.append(key)\n",
    "\n",
    "print(max_ingredients)"
   ]
  },
  {
   "cell_type": "markdown",
   "metadata": {},
   "source": [
    "### Задание 1.2.6\n",
    "Сколько ингредиентов входит в состав только одного блюда?"
   ]
  },
  {
   "cell_type": "code",
   "execution_count": null,
   "metadata": {},
   "outputs": [],
   "source": [
    "# Ваш код здесь\n",
    "\n",
    "one_plate_ingredients=[]\n",
    "\n",
    "for key, value in food.items():\n",
    "    if value==1:\n",
    "        one_plate_ingredients.append(key)\n",
    "\n",
    "print(len(one_plate_ingredients))"
   ]
  },
  {
   "cell_type": "markdown",
   "metadata": {},
   "source": [
    "## 1.3. Создание датафрейма на основе JSON-файла\n",
    "\n",
    "Для решения многих задач нужна возможность работать с данными в форме таблицы."
   ]
  },
  {
   "cell_type": "code",
   "execution_count": null,
   "metadata": {},
   "outputs": [],
   "source": [
    "import pandas as pd"
   ]
  },
  {
   "cell_type": "code",
   "execution_count": null,
   "metadata": {
    "scrolled": false
   },
   "outputs": [],
   "source": [
    "df=pd.DataFrame(recipes)\n",
    "df"
   ]
  },
  {
   "cell_type": "markdown",
   "metadata": {},
   "source": [
    "### Задание 1.3.1\n",
    "\n",
    "Какая часть набора данных была использована в качестве заголовков столбцов при создании датафрейма с помощью команды df = pd.DataFrame(recipes)?\n",
    "\n",
    "- индексы элементов списка\n",
    "- ключи словарей \n",
    "- значения словарей\n",
    "- самые часто встречающиеся значения словарей "
   ]
  },
  {
   "cell_type": "markdown",
   "metadata": {},
   "source": [
    "### Задание 1.3.2\n",
    "\n",
    "Какая часть набора данных была использована в качестве индексов строк при создании датафрейма с помощью команды df = pd.DataFrame(recipes)?\n",
    "- id блюд\n",
    "- ключи словарей\n",
    "- значения словарей\n",
    "- индексы были сгенерированы автоматически\n"
   ]
  },
  {
   "cell_type": "markdown",
   "metadata": {},
   "source": [
    "### Готовим данные для анализа\n",
    "\n",
    "Множество всех  ингредиентов"
   ]
  },
  {
   "cell_type": "code",
   "execution_count": null,
   "metadata": {},
   "outputs": [],
   "source": [
    "def find_ingr(lst):\n",
    "    if ingr in lst:\n",
    "        return 1\n",
    "    return 0"
   ]
  },
  {
   "cell_type": "code",
   "execution_count": null,
   "metadata": {},
   "outputs": [],
   "source": [
    "for ingr in ingredients:\n",
    "    df[ingr]=df['ingredients'].apply(find_ingr)"
   ]
  },
  {
   "cell_type": "markdown",
   "metadata": {},
   "source": [
    "В завершение изменим значение столбца *ingredients*, заполнив его данными о количестве ингредиентов в каждом рецепте"
   ]
  },
  {
   "cell_type": "code",
   "execution_count": null,
   "metadata": {},
   "outputs": [],
   "source": [
    "df['ingredients']=df['ingredients'].apply(lambda x: len(x))"
   ]
  },
  {
   "cell_type": "code",
   "execution_count": null,
   "metadata": {
    "scrolled": true
   },
   "outputs": [],
   "source": [
    "df.head()"
   ]
  },
  {
   "cell_type": "markdown",
   "metadata": {},
   "source": [
    "###  Задание 1.3.3\n",
    "\n",
    "Определите тип переменной *lst*, которую принимает на входе функция *find_ingr:*\n",
    "- строка\n",
    "- список\n",
    "- словарь\n",
    "- JSON "
   ]
  },
  {
   "cell_type": "markdown",
   "metadata": {},
   "source": [
    "###  Задание 1.3.4\n",
    "\n",
    "Отметьте верные утверждения о переменной *ingr*, которая используется в коде функции *find_ingr:*\n",
    "- в переменной хранится название какого-либо ингредиента \n",
    "- в переменной хранится название ингредиента, входящего в состав рецепта для приготовления текущего блюда\n",
    "- значение переменной устанавливается за пределами функции \n",
    "- значение переменной не меняется при выполнении функции "
   ]
  },
  {
   "cell_type": "markdown",
   "metadata": {},
   "source": [
    "###  Задание 1.3.5\n",
    "\n",
    "Причина, по которой мы сначала заполнили столбцы с данными о наличии или отсутствии каждого ингредиента, а после этого заполнили столбец данными о количестве ингредиентов в рецепте:\n",
    "\n",
    "- Это был случайный выбор. На самом деле порядок выполнения этих действий не влияет на результат.\n",
    "- Столбцы датафрейма нужно заполнять в том порядке, в котором они расположены в датафрейме.\n",
    "- При заполнении столбцов с данными о наличии или отсутствии каждого ингредиента мы использовали информацию из столбца *ingredients*. Если бы мы заменили список, хранящийся в этом столбце изначально, на данные о количестве ингредиентов, мы бы потеряли информацию, необходимую для создания столбцов, посвящённых каждому ингредиенту в отдельности."
   ]
  },
  {
   "cell_type": "markdown",
   "metadata": {},
   "source": [
    "### Задание 1.3.6 \n",
    "\n",
    "Объедините все действия, начиная с чтения файла в JSON-формате (recipes.json) и заканчивая созданием итогового датафрейма, в единый код. Используйте множество (set) для хранения названий ингредиентов блюд. Полученный в результате работы кода датафрейм должен иметь имя *df*."
   ]
  },
  {
   "cell_type": "code",
   "execution_count": null,
   "metadata": {},
   "outputs": [],
   "source": [
    "# Ваш код здесь"
   ]
  },
  {
   "cell_type": "markdown",
   "metadata": {},
   "source": [
    "### Сохраняем датафрейм в CSV-файле"
   ]
  },
  {
   "cell_type": "code",
   "execution_count": null,
   "metadata": {},
   "outputs": [],
   "source": [
    "df.to_csv('recipes.csv', index = False)"
   ]
  },
  {
   "cell_type": "markdown",
   "metadata": {},
   "source": [
    "## 1.4. Создание JSON-файла\n",
    "\n",
    "### Из Pandas в JSON\n",
    "\n",
    "В завершающей части этого блока мы решим обратную задачу и создадим JSON-файл из CSV-файла, который получили в конце предыдущего этапа. "
   ]
  },
  {
   "cell_type": "code",
   "execution_count": null,
   "metadata": {},
   "outputs": [],
   "source": [
    "df=pd.read_csv('recipes.csv')"
   ]
  },
  {
   "cell_type": "markdown",
   "metadata": {},
   "source": [
    "Теперь, используя только данные из этого файла, нам нужно в точности воссоздать структуру исходного JSON-файла. Начнём с создания списка, содержащего перечень ингредиентов, встречающихся в рецептах, а также списка, содержащего перечень *id* всех блюд."
   ]
  },
  {
   "cell_type": "code",
   "execution_count": null,
   "metadata": {},
   "outputs": [],
   "source": [
    "df.head()"
   ]
  },
  {
   "cell_type": "markdown",
   "metadata": {},
   "source": [
    "### Задание 1.4.1\n",
    "\n",
    "Напишите код для создания списка *id* всех блюд, представленных в датафрейме.\n",
    "\n",
    "Обратите внимание на следующие моменты:\n",
    "\n",
    "1. Тип структуры, в которой должны храниться id блюд - список (list).\n",
    "2. Имя переменной, в которой будет храниться список - *ids*.\n",
    "3. Порядок *id* в списке не имеет значения.\n",
    "4. Код должен начинаться с чтения файла *recipes.csv*\n"
   ]
  },
  {
   "cell_type": "code",
   "execution_count": null,
   "metadata": {},
   "outputs": [],
   "source": [
    "# Ваш код здесь\n",
    "\n",
    "df=pd.read_csv('recipes.csv')\n",
    "ids=list(df['id'])"
   ]
  },
  {
   "cell_type": "markdown",
   "metadata": {},
   "source": [
    "###  Задание 1.4.2\n",
    "\n",
    "Напишите код для создания списка ингредиентов всех блюд, представленных в датафрейме.\n",
    "\n",
    "Обратите внимание на следующие моменты:\n",
    "\n",
    "1. Тип структуры, в которой должны храниться названия ингредиентов блюд, — список (list).\n",
    "2. Имя переменной, в которой будет храниться список, — *ingredients*.\n",
    "3. Порядок ингредиентов в списке не имеет значения.\n",
    "4. Код должен начинаться с чтения файла *recipes.csv*\n",
    "\n",
    "Подсказка: поскольку названия ингредиентов используются как названия столбцов датафрейма, вы можете воспользоваться командой *df.columns* для получения перечня всех названий столбцов, после чего превратить перечень в список и извлечь из него нужные данные.\n"
   ]
  },
  {
   "cell_type": "code",
   "execution_count": null,
   "metadata": {},
   "outputs": [],
   "source": [
    "# Ваш код здесь\n",
    "\n",
    "df=pd.read_csv('recipes.csv')\n",
    "ingredients=list(df.columns)[3:]"
   ]
  },
  {
   "cell_type": "markdown",
   "metadata": {},
   "source": [
    "### Сохранение итоговой структуры\n",
    "\n",
    "Как вы помните, после десериализации JSON-файла мы получили структуру, представляющую собой список, состоящий из словарей. Каждый словарь состоял из трёх пар \"ключ-значение\", при этом в качестве значений выступали целое число (id), строковая величина (тип кухни) и список строковых величин (перечень ингредиентов). Сейчас нам предстоит воссоздать эту структуру, извлекая данные из датафрейма. Для хранения итоговой структуры создадим пустой список *new_recipes*. Также создадим списки для хранения *id* всех блюд и названий всех ингредиентов с помощью кода из упражнений 1.4.1 и 1.4.2:"
   ]
  },
  {
   "cell_type": "code",
   "execution_count": null,
   "metadata": {},
   "outputs": [],
   "source": [
    "new_recipes=[]\n",
    "ids=list(df['id'])\n",
    "ingredients=list(df.columns)[3:]"
   ]
  },
  {
   "cell_type": "markdown",
   "metadata": {},
   "source": [
    "Стратегия действий:\n",
    "1. Организуем цикл с параметром, в котором будем перебирать элементы списка *ids*. В результате в процессе прохождения цикла параметр постепенно примет значение *id* каждого блюда.\n",
    "2. На каждом шаге цикла создадим словарь, содержащий три пары \"ключ-значение\". Ключу \"id\" мы присвоим значение параметра цикла, ключу \"cuisine\" — значение соответствующей кухни, которое мы получим, применив фильтр по *id* к датафрейму *df*.\n",
    "3. Для заполнения значения (списка) по ключу \"ingredients\" воспользуемся функцией, код которой обсудим чуть позже. Каждый созданный словарь мы будем добавлять к списку *new_recipes:*\n",
    "```\n",
    "for current_id in ids:\n",
    "    cuisine=df[df['id']==current_id]['cuisine'].iloc[0]\n",
    "    current_ingredients=make_list(df[df['id']==current_id])\n",
    "    current_recipe={'cuisine':cuisine, 'id':current_id, 'ingredients':current_ingredients}\n",
    "    new_recipes.append(current_recipe)\n",
    "```"
   ]
  },
  {
   "cell_type": "markdown",
   "metadata": {},
   "source": [
    "<p style=\"font-size:130%\"> Задание 1.4.3</p>\n",
    "\n",
    "Напишите код функции *make_list()*, которая принимает строку датафрейма *df*, содержащую данные об одном рецепте, и возвращает перечень ингредиентов этого блюда в виде списка.\n",
    "\n",
    "Обратите внимание на следующие моменты:\n",
    "\n",
    "1. Тип структуры, котоую должна вернуть функция в результате работы, — список (list).\n",
    "2. В процессе работы функция должна обращаться к списку, в котором хранятся названия всех ингредиентов. Используйте имя переменной *ingredients* для списка.\n",
    "3. Добавьте код для чтения файла *recipes.csv* и создания списка *ingredients* перед кодом функции.\n",
    "4. Порядок ингредиентов в возвращаемом списке не имеет значения.\n"
   ]
  },
  {
   "cell_type": "code",
   "execution_count": null,
   "metadata": {},
   "outputs": [],
   "source": [
    "# Ваш код здесь. Способ 1.\n",
    "\n",
    "import numpy as np\n",
    "\n",
    "df=pd.read_csv(\"recipes.csv\")\n",
    "ingredients=list(df.columns)[3:]\n",
    "\n",
    "def make_list(s):\n",
    "    arr_filter=np.array(list(s.iloc[0,3:]), dtype=bool)\n",
    "    arr_ingr_names=np.array(ingredients)\n",
    "    return arr_ingr_names[arr_filter]"
   ]
  },
  {
   "cell_type": "code",
   "execution_count": null,
   "metadata": {},
   "outputs": [],
   "source": [
    "# Ваш код здесь. Способ 2 - без использования списка ingredients\n",
    "\n",
    "df=pd.read_csv(\"recipes.csv\")\n",
    "\n",
    "def make_list(s):\n",
    "    series=s.iloc[0,3:]\n",
    "    series=series[series==1]\n",
    "    return list(series.index)"
   ]
  },
  {
   "cell_type": "code",
   "execution_count": null,
   "metadata": {},
   "outputs": [],
   "source": [
    "# Ваш код здесь. Способ 3 - с помощью перебора значений\n",
    "\n",
    "df=pd.read_csv(\"recipes.csv\")\n",
    "\n",
    "def make_list(s):\n",
    "    curr_ingredients=[]\n",
    "    for k, value in enumerate(s.iloc[0,3:]):\n",
    "        if value==1:\n",
    "            curr_ingredients.append(ingredients[k])\n",
    "    return curr_ingredients"
   ]
  },
  {
   "cell_type": "markdown",
   "metadata": {},
   "source": [
    "Теперь все готово для создания словаря *new_recipes*"
   ]
  },
  {
   "cell_type": "code",
   "execution_count": null,
   "metadata": {},
   "outputs": [],
   "source": [
    "for current_id in ids:\n",
    "    cuisine=df[df['id']==current_id]['cuisine'].iloc[0]\n",
    "    current_ingredients=make_list(df[df['id']==current_id])\n",
    "    current_recipe={'cuisine':cuisine, 'id':current_id, 'ingredients':current_ingredients}\n",
    "    new_recipes.append(current_recipe)"
   ]
  },
  {
   "cell_type": "markdown",
   "metadata": {},
   "source": [
    "В завершающей части данного блока мы выполним сериализацию списка *new_recipes* и запишем полученные данные в файл. Для сериализации мы будем использовать функцию *dumps()*, которой в качестве параметра передадим список *new_recipes*. Запись в файл осуществляется с помощью метода *write()*. Предварительно файл нужно будет открыть для записи с помощью функции *open* и параметра 'w':"
   ]
  },
  {
   "cell_type": "code",
   "execution_count": null,
   "metadata": {},
   "outputs": [],
   "source": [
    "import json"
   ]
  },
  {
   "cell_type": "code",
   "execution_count": null,
   "metadata": {
    "scrolled": true
   },
   "outputs": [],
   "source": [
    "with open(\"new_recipes.json\", \"w\") as f:\n",
    "    json.dump(new_recipes, f)"
   ]
  },
  {
   "cell_type": "markdown",
   "metadata": {},
   "source": [
    "<img src=\"../Img/banner-fa-49-2.png\">\n",
    "\n",
    "<p style=\"font-size:125%; text-align:center\">Финансовый университет</p>\n",
    "\n",
    "<p style=\"font-size:150%; text-align:center\">Тема 8. Работа с файлами - продолжение</p>\n",
    "<p style=\"font-size:125%; text-align:center\">Конспект лекции</p>\n",
    "\n",
    "<p>16 ноября 2021 года; вебинар</p>\n",
    "\n",
    "Студенты: Поток:УЦИ20-1<br>\n",
    "Преподаватель: Смирнов Михаил Викторович, доцент Департамента Анализа данных и машинного обучения Финансового университета при Правительстве Российской Федерации"
   ]
  },
  {
   "cell_type": "markdown",
   "metadata": {},
   "source": [
    "## 2. Обработка данных в формате XLSX (Excel)\n",
    "\n",
    "## 2.1. Файлы XLSX\n",
    "\n",
    "Excel-файлы — это таблицы с данными, которые имеют формат *.xls* и *.xlsx*.\n",
    "\n",
    "Инструменты для работы с Excel\n",
    "\n",
    "Сейчас практически любой текстовый процессор может работать с Excel-файлами. Изначально использовались .xls файлы, которые обрабатывались с помощью Microsoft Excel. Позже, начиная с версии Excel 2007, появился более продвинутый формат .xlsx. Для нашей работы разницы между ними нет, это те же самые табличные документы.\n",
    "\n",
    "Инструменты для работы с Excel:\n",
    "\n",
    "- Excel.\n",
    "- Google Sheets: редактирование файлов онлайн, создать новый документ можно с помощью sheets.new.\n",
    "- OpenOffice — открытый набор инструментов, в который входит приложение Calc, портирован на многие платформы.\n",
    "- Pandas.\n",
    "\n",
    "В данном блоке мы будем работать именно с Pandas: научимся читать и изменять Excel-файлы. Преимущество этого инструмента в том, что он позволяет работать со множеством однотипных документов и автоматизировать обработку."
   ]
  },
  {
   "cell_type": "code",
   "execution_count": null,
   "metadata": {},
   "outputs": [],
   "source": [
    "import pandas as pd\n",
    "import numpy as np\n",
    "import json"
   ]
  },
  {
   "cell_type": "markdown",
   "metadata": {},
   "source": [
    "Используем функцию *pandas.read_excel()* для обработки ведомости в формате Excel результатов тестирования студентов по русскому языку.\n",
    "\n",
    "*Примечание. Все имена студентов в ведомости являются вымышленными, любое совпадение случайно.*"
   ]
  },
  {
   "cell_type": "code",
   "execution_count": null,
   "metadata": {
    "scrolled": true
   },
   "outputs": [],
   "source": [
    "rus=pd.read_excel(\"../Data/ВедомостьРусский.xlsx\",\n",
    "                      sheet_name=\"Отчёт\", header=9,\n",
    "                      usecols=\"B:F\", nrows=46)\n",
    "rus.head()"
   ]
  },
  {
   "cell_type": "markdown",
   "metadata": {},
   "source": [
    "Удалим строки с пустыми значениями."
   ]
  },
  {
   "cell_type": "code",
   "execution_count": null,
   "metadata": {
    "scrolled": true
   },
   "outputs": [],
   "source": [
    "rus.dropna(axis=0, how=\"any\", inplace=True)\n",
    "rus.info()"
   ]
  },
  {
   "cell_type": "markdown",
   "metadata": {},
   "source": [
    "Результат тестирования содержится в столбце \"1\". Это столбец типа \"object\". В столбцах такого типа могут содержаться значения разных типов, покажем это на примере. Распечатаем 12-ю строку."
   ]
  },
  {
   "cell_type": "code",
   "execution_count": null,
   "metadata": {
    "scrolled": true
   },
   "outputs": [],
   "source": [
    "rus.iloc[12]"
   ]
  },
  {
   "cell_type": "markdown",
   "metadata": {},
   "source": [
    "Мы видим, что результат студента Иванова 50 баллов. Какого типа это значение?"
   ]
  },
  {
   "cell_type": "code",
   "execution_count": null,
   "metadata": {},
   "outputs": [],
   "source": [
    "type(rus.iloc[12, 4])"
   ]
  },
  {
   "cell_type": "markdown",
   "metadata": {},
   "source": [
    "Это целое число. Теперь изучим значение этого же атрибута в 11-й строке."
   ]
  },
  {
   "cell_type": "code",
   "execution_count": null,
   "metadata": {},
   "outputs": [],
   "source": [
    "print(rus.iloc[11])\n",
    "print(type(rus.iloc[11,4]))"
   ]
  },
  {
   "cell_type": "markdown",
   "metadata": {},
   "source": [
    "Это строка.\n",
    "\n",
    "Упражнение. <br>\n",
    "Получите значение атрибута \"1\" в 13-й строке. Какого оно типа?"
   ]
  },
  {
   "cell_type": "markdown",
   "metadata": {},
   "source": [
    "## 2.2. Перевод результатов в формат JSON\n",
    "Решим задачу перевода содержимого таблицы c результатами тестирования в файл формата JSON. С этой целью желательно, чтобы все значения столбца \"1\" были одного типа. Приведем их к текстовому типу."
   ]
  },
  {
   "cell_type": "code",
   "execution_count": null,
   "metadata": {},
   "outputs": [],
   "source": [
    "rus[\"1\"]=rus[\"1\"].astype(str)"
   ]
  },
  {
   "cell_type": "markdown",
   "metadata": {},
   "source": [
    "Проверим теперь, в каком виде хранится значение результата студента Иванова."
   ]
  },
  {
   "cell_type": "code",
   "execution_count": null,
   "metadata": {},
   "outputs": [],
   "source": [
    "rus.iloc[12, 4], type(rus.iloc[12, 4])"
   ]
  },
  {
   "cell_type": "markdown",
   "metadata": {},
   "source": [
    "Это строка. Создадим список словарей в формате JSON"
   ]
  },
  {
   "cell_type": "code",
   "execution_count": null,
   "metadata": {},
   "outputs": [],
   "source": [
    "rus.index"
   ]
  },
  {
   "cell_type": "code",
   "execution_count": null,
   "metadata": {},
   "outputs": [],
   "source": [
    "json_list=[]\n",
    "for ind in rus.index:\n",
    "    dict1=rus.loc[ind].to_dict()\n",
    "    json_list.append(dict1)\n",
    "\n",
    "json_list[11:14]"
   ]
  },
  {
   "cell_type": "markdown",
   "metadata": {},
   "source": [
    "Проведём сериализацию."
   ]
  },
  {
   "cell_type": "code",
   "execution_count": null,
   "metadata": {},
   "outputs": [],
   "source": [
    "with open(\"ВедомостьРусский.json\", \"w\", encoding='utf-8') as f:\n",
    "    json.dump(json_list, f, ensure_ascii=False)"
   ]
  },
  {
   "cell_type": "markdown",
   "metadata": {},
   "source": [
    "## 2.3. Перевод результатов в формат XLSX\n",
    "\n",
    "### 2.3.1. Запись в Excel-файл с помощью pandas.read_excel()\n",
    "\n",
    "В столбце \"1\" таблицы *rus* содержатся баллы и пояснения, такие как \"неявка\". Оставим только информацию о баллах, удалив строки таблицы, содержащие пояснения."
   ]
  },
  {
   "cell_type": "code",
   "execution_count": null,
   "metadata": {
    "scrolled": true
   },
   "outputs": [],
   "source": [
    "print(rus.shape)\n",
    "rus=rus[~rus[\"1\"].str.contains(\"неявка\")]\n",
    "print(rus.shape)"
   ]
  },
  {
   "cell_type": "markdown",
   "metadata": {},
   "source": [
    "Сохраним эти данные в формате *.xlsx*"
   ]
  },
  {
   "cell_type": "code",
   "execution_count": null,
   "metadata": {},
   "outputs": [],
   "source": [
    "rus.to_excel(\"ВедомостьНовая.xlsx\", index=False)"
   ]
  },
  {
   "cell_type": "markdown",
   "metadata": {},
   "source": [
    "### 2.3.2. Форматирование Excel-файлов с помощью pandas.ExcelWriter()\n",
    "\n",
    "Для форматирования содержимого Excel-файлов создадим объект pandas.ExcelWriter()."
   ]
  },
  {
   "cell_type": "code",
   "execution_count": null,
   "metadata": {},
   "outputs": [],
   "source": [
    "writer=pd.ExcelWriter(\"ВедомостьНоваяФорматированная.xlsx\")\n",
    "rus.to_excel(writer, index=False, sheet_name='Отчёт')"
   ]
  },
  {
   "cell_type": "markdown",
   "metadata": {},
   "source": [
    "Мы все равно использовали метод to_excel(), но вместо пути к будущему файлу передали объект типа ExcelWriter, который создали на первой строке. \n",
    "\n",
    "Теперь добавми форматирование. Если мы хотим добавить форматирование, нужно выбрать объекты *workbook* книги и *worksheet* страницы."
   ]
  },
  {
   "cell_type": "code",
   "execution_count": null,
   "metadata": {},
   "outputs": [],
   "source": [
    "workbook=writer.book\n",
    "worksheet=writer.sheets[\"Отчёт\"]\n",
    "\n",
    "border_format=workbook.add_format({'border': True})\n",
    "worksheet.set_column(\"A:E\", 1, border_format)\n",
    "writer.save()\n",
    "writer.close()"
   ]
  },
  {
   "cell_type": "markdown",
   "metadata": {},
   "source": [
    "Какие параметры можно попробовать:\n",
    "\n",
    "    border отвечает за границы столбца и может быть равен True или False;\n",
    "    bold - полужирное начертание;\n",
    "    italic - курсив;\n",
    "    align отвечает за расположение данных внутри ячеек, например, center для настройки выравнивания по центру; \n",
    "    fg_color отвечает за цвет фона, например, 'green', хотя можно передать и шестнадцатиричное значение, например, '#D7E4BC'.\n",
    "\n",
    "Подробнее в документации:\n",
    "https://xlsxwriter.readthedocs.io/index.html"
   ]
  },
  {
   "cell_type": "markdown",
   "metadata": {},
   "source": [
    "## 2.4. Чтение XLSX-файлов по ссылке\n",
    "\n",
    "Если Excel-файл в Интернете, его необязательно загружать на диск, в методе *pandas.read_excel()* можно использовать ссылку.\n",
    "\n",
    "<img src=\"../Img/YandexSearch.png\" style=\"width:60%\">\n",
    "\n",
    "Загрузим отчет в формате Excel \"Среднедушевые денежные доходы населения по субъектам Российской федерации\" по ссылке https://rosstat.gov.ru/storage/mediabank/urov_11sub-nm.xlsx"
   ]
  },
  {
   "cell_type": "code",
   "execution_count": null,
   "metadata": {
    "scrolled": false
   },
   "outputs": [],
   "source": [
    "income=pd.read_excel(\"https://rosstat.gov.ru/storage/mediabank/urov_11sub-nm.xlsx\", header=3)\n",
    "income.sample(5)"
   ]
  },
  {
   "cell_type": "markdown",
   "metadata": {},
   "source": [
    "## 3. Обработка данных в формате XML\n",
    "\n",
    "## 3.1. О формате XML\n",
    "\n",
    "<p style=\"font-size:120%; color:green\">Вот так выглядит XML файл:</p>\n",
    "\n",
    "```\n",
    "<data>      \n",
    "    <items>    \n",
    "        <item name=\"item1\">item1abc</item>    \n",
    "        <item name=\"item2\">item2abc</item>    \n",
    "    </items>    \n",
    "</data>  \n",
    "```\n",
    "XML похож на HTML.\n",
    "\n",
    "XML расшифровывается как eXtensible Markup Language — расширяемый язык разметки. Он позволяет описывать документы, используя теги. В отличие от HTML, где теги заранее четко заданы, в XML мы можем задавать теги сами.\n",
    "\n",
    "Например, если мы хотим описать меню в ресторане, мы можем слегка изменить код выше:\n",
    "\n",
    "```\n",
    "<menu>    \n",
    "    <dish name=\"Курятина\">  \n",
    "        <price>40</price>  \n",
    "        <weight>300</weight>  \n",
    "        <class>Мясо</class>  \n",
    "    </dish>\n",
    "    <dish name=\"Гречка\">  \n",
    "        <price>20</price>  \n",
    "        <weight>200</weight>  \n",
    "        <class>Крупа</class>  \n",
    "    </dish>\n",
    "</menu>  \n",
    "```\n",
    "\n",
    "В примере выше довольно жесткая структура: у нас есть меню, в нём — объекты, помеченные тегом `<dish>`, у каждого из которых есть параметр *name*, в котором прописано имя объекта. В данном случае можно считать, что *dish* — это класс этого объекта.\n",
    "\n",
    "Внутри каждого объекта находится набор значений, которые тоже задаются тегами. Например, внутри тега `<price>` находится значение 20, означающее цену данного блюда. Тег `<price>` и другие теги внутри `<dish>` можно рассматривать как атрибуты класса dish.\n",
    "\n",
    "Файлы XML не всегда имеют жесткую структуру и не обязаны ее иметь, но чаще всего какая-то структура внутри файла будет. Почему? Потому что обычно XML не пишут вручную. Такие файлы генерируются кодом, и читаются тоже кодом. Поэтому при наличии понятной структуры обработка файла становится намного проще.\n",
    "\n",
    "\n",
    "### Как работают с XML?\n",
    "\n",
    "XML-файлы имеют древовидную структуру. Это значит, что в файле используется набор тегов, внутри которых могут находиться другие теги со своими значениями.\n",
    "\n",
    "В каком-то смысле XML похож на JSON или даже просто на словарь со значениями. Чуть позже вы увидите, как можно превратить XML-файл в JSON и в Python-словарь. После этого вы сможете пользоваться стандартными средствами языка Python для работы с этими данными, не задумываясь о том, в каком формате они к вам пришли.\n",
    "\n",
    "Это не единственный способ работать с XML в Python. В стандартной библиотеке языка есть пакет, который позволяет работать с XML напрямую. В дальнейшем мы разберём его подробнее и сможем читать, модифицировать и записывать файлы XML.\n",
    "    \n",
    "Если у вас нет времени разбираться с программированием, вам прислали XML-файл, и вы просто хотите посмотреть на него или превратить его в JSON, можно воспользоваться любым из многочисленных онлайн-сервисов, например, https://codebeautify.org/xmlviewer\n",
    "\n",
    "### Result : XML to JSON\n",
    "```\n",
    "{\n",
    "\t\"menu\": {\n",
    "\t\t\"dish\": [\n",
    "\t\t\t{\n",
    "\t\t\t\t\"price\": \"40\",\n",
    "\t\t\t\t\"weight\": \"300\",\n",
    "\t\t\t\t\"class\": \"Мясо\",\n",
    "\t\t\t\t\"_name\": \"Кура\"\n",
    "\t\t\t},\n",
    "\t\t\t{\n",
    "\t\t\t\t\"price\": \"20\",\n",
    "\t\t\t\t\"weight\": \"200\",\n",
    "\t\t\t\t\"class\": \"Крупа\",\n",
    "\t\t\t\t\"_name\": \"Греча\"\n",
    "\t\t\t}\n",
    "\t\t]\n",
    "\t}\n",
    "}\n",
    "```\n",
    "\n",
    "\n",
    "<p style=\"font-size:130%\"> Задание 3.1.1</p>\n",
    "\n",
    "Какой код можно использовать для получения информации о стоимости гречи после десериализации объекта, структура которого показана на рисунке выше? Предположим, что данные хранятся в переменной с именем food.\n",
    "- food['menu']['dish']['Греча']\n",
    "- food['menu']['dish']['_name' == 'Греча']\n",
    "- food['menu']['dish']['price']\n",
    "- food['menu']['dish'][1]['price']\n",
    "- food['menu']['dish']['_name' == 'Греча']['price']\n",
    "\n"
   ]
  },
  {
   "cell_type": "code",
   "execution_count": null,
   "metadata": {},
   "outputs": [],
   "source": [
    "food={\n",
    "    \"menu\": {\n",
    "        \"dish\": [\n",
    "            {\n",
    "                \"price\": \"40\",\n",
    "                \"weight\": \"300\",\n",
    "                \"class\": \"Мясо\",\n",
    "                \"_name\": \"Кура\"\n",
    "            },\n",
    "            {\n",
    "                \"price\": \"20\",\n",
    "                \"weight\": \"200\",\n",
    "                \"class\": \"Крупа\",\n",
    "                \"_name\": \"Греча\"\n",
    "            }\n",
    "        ]\n",
    "    }\n",
    "}"
   ]
  },
  {
   "cell_type": "code",
   "execution_count": null,
   "metadata": {},
   "outputs": [],
   "source": [
    "food['menu'][\"dish\"][1]['price']"
   ]
  },
  {
   "cell_type": "markdown",
   "metadata": {},
   "source": [
    "## 3.2. Извлечение данных из XML-файла\n",
    "\n",
    "Как мы увидели выше, данные в формате *XML* имеют древовидную структуру. \n",
    "\n",
    "Дерево — это структура, которая имеет узлы и связи между ними. Самый верхнеуровневый узел называется корнем, а всё, что находится в самом низу, называется листьями. В примере выше корнем является `<menu>`, а листьями, например, `<price>` и `<weight>`. \n",
    "\n",
    "У `<menu>` есть дети (потомки) — это два узла `<dish>`, имеющие разный атрибут *name*.\n",
    "\n",
    "Мы будем пользоваться модулем *ElementTree*, входящим в стандартный пакет *xml*. Этот модуль позволит нам ходить по дереву *XML* и смотреть, что находится в каждом его узле, начиная с корня и заканчивая листьями. Импортируем модуль:"
   ]
  },
  {
   "cell_type": "code",
   "execution_count": null,
   "metadata": {},
   "outputs": [],
   "source": [
    "import xml.etree.ElementTree as ET"
   ]
  },
  {
   "cell_type": "markdown",
   "metadata": {},
   "source": [
    "<p style=\"font-size:130%\">Задание 3.2.1</p>\n",
    "\n",
    "Сколько корней может быть у дерева, описывающего структуру XML-документа?\n",
    "- Ноль\n",
    "- Один\n",
    "- Сколько угодно\n",
    "- У дерева нет корней "
   ]
  },
  {
   "cell_type": "markdown",
   "metadata": {},
   "source": [
    "### Чтение файла"
   ]
  },
  {
   "cell_type": "code",
   "execution_count": null,
   "metadata": {
    "scrolled": true
   },
   "outputs": [],
   "source": [
    "tree=ET.parse('../Data/menu.xml')\n",
    "root=tree.getroot()"
   ]
  },
  {
   "cell_type": "markdown",
   "metadata": {},
   "source": [
    "Здесь в переменной *tree* мы читаем всё дерево из XML файла. После этого в переменную *root* записываем корневой узел дерева *tree*. Давайте посмотрим, как выглядит *root*."
   ]
  },
  {
   "cell_type": "code",
   "execution_count": null,
   "metadata": {
    "scrolled": true
   },
   "outputs": [],
   "source": [
    "print(root)"
   ]
  },
  {
   "cell_type": "markdown",
   "metadata": {},
   "source": [
    "Мы видим, что в корне находится 'menu'. Всё правильно, мы хотели увидеть именно это. Какой тип у этого объекта? "
   ]
  },
  {
   "cell_type": "code",
   "execution_count": null,
   "metadata": {},
   "outputs": [],
   "source": [
    "type(root)"
   ]
  },
  {
   "cell_type": "markdown",
   "metadata": {},
   "source": [
    "Как посмотреть список детей (потомков) этого узла? Используем функцию *list()*."
   ]
  },
  {
   "cell_type": "code",
   "execution_count": null,
   "metadata": {
    "scrolled": true
   },
   "outputs": [],
   "source": [
    "list(root)"
   ]
  },
  {
   "cell_type": "markdown",
   "metadata": {},
   "source": [
    "Кроме того, *tree.getroot()* - итерируемый объект."
   ]
  },
  {
   "cell_type": "code",
   "execution_count": null,
   "metadata": {},
   "outputs": [],
   "source": [
    "for item in root:\n",
    "    print(root)"
   ]
  },
  {
   "cell_type": "markdown",
   "metadata": {},
   "source": [
    "Если у узла нет детей, список *list(root)* окажется пустым."
   ]
  },
  {
   "cell_type": "markdown",
   "metadata": {},
   "source": [
    "<p style=\"font-size:130%\">Задание 3.2.2</p>\n",
    "\n",
    "Допустим, у узла *X* один ребёнок. Объект какого типа вернет функция *list(X)?*\n",
    "\n",
    "- xml.etree.ElementTree\n",
    "- xml.etree.ElementTree.Element\n",
    "- list\n",
    "- Зависит от ребёнка\n",
    "\n",
    "### Работа с ElementTree в Python\n",
    "\n",
    "Таким образом, можно работать с деревом *XML* как со списком, если мы используем *ElementTree*. Каждый узел будет являться списком, в котором находятся его узлы-дети. Это значит, что код:"
   ]
  },
  {
   "cell_type": "code",
   "execution_count": null,
   "metadata": {},
   "outputs": [],
   "source": [
    "root[0]"
   ]
  },
  {
   "cell_type": "markdown",
   "metadata": {},
   "source": [
    "открывает нам доступ к первому (с индексом 0) потомку корня XML-файла. Этот потомок также является итерируемым объектом."
   ]
  },
  {
   "cell_type": "code",
   "execution_count": null,
   "metadata": {},
   "outputs": [],
   "source": [
    "for item in root[0]:\n",
    "    print(item)"
   ]
  },
  {
   "cell_type": "markdown",
   "metadata": {},
   "source": [
    "Ранее мы видели, что у узлов могут быть атрибуты.  Например, у узлов *dish* есть атрибут *name*. С помощью команды *.attrib* мы получаем словарь, ключом которого являются имена, а значениями — значения атрибутов узлового элемента."
   ]
  },
  {
   "cell_type": "code",
   "execution_count": null,
   "metadata": {},
   "outputs": [],
   "source": [
    "print(root[0].attrib)"
   ]
  },
  {
   "cell_type": "markdown",
   "metadata": {},
   "source": [
    "### Чтение значений узлов\n",
    "\n",
    "В тегах XML часто заключены количественные показатели. Эти показатели хранятся в виде текста, и прочитать их можно, обратившись к свойству *.text* соответствующего объекта типа *ElementTree.Element*. Например, возьмем тег *price* и обратимся к его свойству *text:*"
   ]
  },
  {
   "cell_type": "code",
   "execution_count": null,
   "metadata": {
    "scrolled": true
   },
   "outputs": [],
   "source": [
    "print(root[0][0])\n",
    "\n",
    "print(root[0][0].text)"
   ]
  },
  {
   "cell_type": "markdown",
   "metadata": {},
   "source": [
    "Таким образом можно пройтись по всему дереву XML и прочитать значения в листьях. Если файл имеет четкую структуру, его во многих случаях можно превратить в таблицу и работать с ней уже в *pandas*. Об этом мы поговорим позже.\n",
    "\n",
    "Заметьте, что значение '40' представлено строкой. Все значения в XML хранятся как строки, поэтому преобразовывать их к нужному типу вам нужно самим. Например, в данном случае можно передать значение стоимости в *int()* или *float()*.\n",
    "\n",
    "Если вы хотите прочитать название тега, можно использовать свойство *tag*, например:"
   ]
  },
  {
   "cell_type": "code",
   "execution_count": null,
   "metadata": {},
   "outputs": [],
   "source": [
    "print(root[0][0].tag)"
   ]
  },
  {
   "cell_type": "markdown",
   "metadata": {},
   "source": [
    "<p style=\"font-size:130%; color:green\">Задание 3.2.3</p>\n",
    "\n",
    "Какое имя тега у листа root[0][1]?\n",
    "\n",
    "### Использование циклов\n",
    "Так как к узлам можно обращаться как к спискам, можно использовать циклы для итерации по детям узлов.\n",
    "\n",
    "Например, если мы хотим напечатать все значения в листьях, то есть название блюда, название параметра этого блюда и значение параметра, то поможет следующий код:"
   ]
  },
  {
   "cell_type": "code",
   "execution_count": null,
   "metadata": {},
   "outputs": [],
   "source": [
    "for item in root:\n",
    "    print(item.attrib)\n",
    "    for jtem in item:\n",
    "        print(\"\\t\", jtem.tag, jtem.text)"
   ]
  },
  {
   "cell_type": "markdown",
   "metadata": {},
   "source": [
    "Если вы хотите узнать, сколько детей у данного узла, можно воспользоваться методом *len()* и передать в него интересующий вас узел. Например, *len(root)* вернет 2, так как у него два ребенка — два объекта *dish*."
   ]
  },
  {
   "cell_type": "code",
   "execution_count": null,
   "metadata": {},
   "outputs": [],
   "source": [
    "len(root), len(root[0]), len(root[1])"
   ]
  },
  {
   "cell_type": "markdown",
   "metadata": {},
   "source": [
    "<p style=\"font-size:130%\">Задание 3.2.4</p>\n",
    "\n",
    "Посчитайте, сколько детей у второго объекта *dish*.\n",
    "\n",
    "\n",
    "## 3.3. Создание DataFrame и JSON из XML\n",
    "\n",
    "### Превращение XML в pandas.DataFrame "
   ]
  },
  {
   "cell_type": "code",
   "execution_count": null,
   "metadata": {},
   "outputs": [],
   "source": [
    "import pandas as pd\n",
    "df_index = ['name', 'price', 'weight', 'class']\n",
    "df = pd.DataFrame(columns=df_index)\n",
    "for elem in root:\n",
    "    elements = [elem.get('name'), elem[0].text, elem[1].text, elem[2].text]\n",
    "    df = df.append(pd.Series(elements, index=df_index), ignore_index=True)\n",
    "df"
   ]
  },
  {
   "cell_type": "markdown",
   "metadata": {},
   "source": [
    "**Что здесь произошло?**\n",
    "\n",
    "Мы задали названия столбцов в новой таблице и создали пустой DataFrame.\n",
    "\n",
    "Затем мы прошлись по всем детям из корня нашего дерева и составили строки (pd.Series), состоящие из содержимого этих элементов: взяли атрибут name у узла и значения всех его детей, которые содержат нужные нам данные. Можно заметить, что для получения названия продукта мы использовали метод *get()*. Это можно делать, так как атрибуты узла хранятся в виде словаря и *get()* — один из способов получить значения словаря, зная соответствующие ключи.\n",
    "\n",
    "После этого мы добавили новую строку в DataFrame с помощью метода *append()*.\n",
    "\n",
    "Таким образом мы можем трансформировать XML в DataFrame. К сожалению, стандартных средств для этого превращения не существует, но если XML файл содержит чёткую структуру, сделать это средствами Python очень просто, как Вы увидели выше.\n",
    "\n",
    "<p style=\"font-size:130%\"> Задание 3.3.1</p>\n",
    "\n",
    "Можем ли мы использовать метод get(), чтобы получить значения, лежащие внутри объектов dish? То есть, значения дочерних узлов у узла dish. Например, значение \"Крупа\".\n",
    "\n",
    "- Да, потому что дочерние узлы хранятся в виде словаря\n",
    "- Нет, потому что дочерние узлы хранятся в виде списка\n",
    "\n",
    "### Превращение XML в JSON\n",
    "\n",
    "Ранее вы могли обратить внимание, что XML похож на JSON. Для Python есть несколько сторонних библиотек, которые позволяют трансформировать XML в JSON. Одна из таких библиотек (пакетов) — <a href=\"https://pypi.org/project/xmljson/\">xmljson</a>. Есть несколько принятых соглашений (conventions) по превращению XML в JSON. Рассмотрим простой пример (пример был взят <a href=\"https://stackoverflow.com/questions/191536/converting-xml-to-json-using-python\"> отсюда</a>), прежде чем поработать с нашими данными. Допустим, наши данные выглядят так:\n",
    "\n",
    "```\n",
    "<p id=\"1\">text</p>  \n",
    "```\n",
    "\n",
    "Тогда для соглашения <a href=\"http://www.sklar.com/badgerfish/\">badgerfish</a> данные будут выглядеть так:\n",
    "\n",
    "    {  \n",
    "      'p': {  \n",
    "        '@id': 1,  \n",
    "        '$': 'text'  \n",
    "      }  \n",
    "    } \n",
    "\n",
    "Названия атрибутов предваряются символом @, значения помечаются символом $.\n",
    "\n",
    "Соглашение <a href=\"http://wiki.open311.org/JSON_and_XML_Conversion/#the-gdata-convention\">gdata</a>:\n",
    "\n",
    "\n",
    "    {  \n",
    "      'p': {  \n",
    "        '$t': 'text'  \n",
    "      }  \n",
    "    }  \n",
    "\n",
    "Это соглашение не поддерживает атрибуты. Значение помечено как $t.\n",
    "\n",
    "Соглашение <a href=\"https://developer.mozilla.org/en-US/docs/JXON#The_Parker_Convention\">parker</a>:\n",
    "\n",
    "    {  \n",
    "      'p': 'text'  \n",
    "    }  \n",
    "\n",
    "Атрибуты также не поддерживаются. Видно, что это самый простой способ представить XML в виде JSON: значение тега записывается как значение в словаре, где ключ — название тега. Переведем наши данные в JSON с помощью соглашения *parker:*"
   ]
  },
  {
   "cell_type": "code",
   "execution_count": null,
   "metadata": {},
   "outputs": [],
   "source": [
    "pip install xmljson"
   ]
  },
  {
   "cell_type": "code",
   "execution_count": null,
   "metadata": {},
   "outputs": [],
   "source": [
    "import xmljson\n",
    "xmljson.parker.data(root)"
   ]
  },
  {
   "cell_type": "markdown",
   "metadata": {},
   "source": [
    "Значения хранятся в формате OrderedDict. Почему не просто в dict? Потому что в XML значения хранятся упорядоченно, в отличие просто от словаря.\n",
    "\n",
    "Что здесь произошло?\n",
    "\n",
    "Импортировали пакет xmljson.\n",
    "Вызвали метод data() класса parker, который находится в пакете. В метод передали корень нашего дерева XML.\n",
    "Если вы захотите использовать другое соглашение, просто замените в коде название одного соглашения на название другого. Например,\n",
    "\n",
    "```\n",
    "xmljson.gdata.data(root)\n",
    "```\n",
    "\n",
    "Как превратить JSON обратно в XML? Использовать метод etree() у класса-соглашения:"
   ]
  },
  {
   "cell_type": "code",
   "execution_count": null,
   "metadata": {},
   "outputs": [],
   "source": [
    "parker_json = xmljson.parker.data(root)  \n",
    "back_to_xml = xmljson.parker.etree(parker_json)"
   ]
  },
  {
   "cell_type": "raw",
   "metadata": {},
   "source": [
    "В переменной back_to_xml будет храниться наш изначальный XML-файл в формате списка, содержащего дочерние узлы корня дерева:"
   ]
  },
  {
   "cell_type": "code",
   "execution_count": null,
   "metadata": {},
   "outputs": [],
   "source": [
    "back_to_xml"
   ]
  },
  {
   "cell_type": "code",
   "execution_count": null,
   "metadata": {},
   "outputs": [],
   "source": [
    "for item in back_to_xml:\n",
    "    print(item.get(\"name\"))\n",
    "    for jtem in item:\n",
    "        print(f\"\\t {jtem.tag} : {jtem.text}\")"
   ]
  },
  {
   "cell_type": "markdown",
   "metadata": {},
   "source": [
    "## 3.4 Запись в XML-файл\n",
    "\n",
    "Осталось самое последнее — научиться создавать свои XML файлы.\n",
    "\n",
    "Чтобы создать корень дерева, нужно использовать метод Element() из класса ElementTree:"
   ]
  },
  {
   "cell_type": "code",
   "execution_count": null,
   "metadata": {},
   "outputs": [],
   "source": [
    "new_root=ET.Element('menu')"
   ]
  },
  {
   "cell_type": "markdown",
   "metadata": {},
   "source": [
    "Теперь мы можем добавлять новые узлы в дерево, используя метод SubElement из того же класса:"
   ]
  },
  {
   "cell_type": "code",
   "execution_count": null,
   "metadata": {},
   "outputs": [],
   "source": [
    "dish_1 = ET.SubElement(new_root, 'dish')\n",
    "dish_2 = ET.SubElement(new_root, 'dish')\n",
    "list(new_root)"
   ]
  },
  {
   "cell_type": "markdown",
   "metadata": {},
   "source": [
    "Ровно то, что мы ожидали увидеть. \n",
    "\n",
    "Атрибуты можно добавить с помощью метода set(), передав первым параметром название атрибута, а вторым его значение:"
   ]
  },
  {
   "cell_type": "code",
   "execution_count": null,
   "metadata": {},
   "outputs": [],
   "source": [
    "dish_1.set('name', 'Кура')"
   ]
  },
  {
   "cell_type": "markdown",
   "metadata": {},
   "source": [
    "Значение тега можно задать через уже знакомый вам параметр text:"
   ]
  },
  {
   "cell_type": "code",
   "execution_count": null,
   "metadata": {},
   "outputs": [],
   "source": [
    "dish_1.text = 'Белок'"
   ]
  },
  {
   "cell_type": "markdown",
   "metadata": {},
   "source": [
    "Теперь запишем получившийся XML файл на диск, используя стандартные средства Python. Сначала превратим объект типа ElementTree.Element в строку (str) c помощью метода *tostring()*, передав наше новое дерево как аргумент:"
   ]
  },
  {
   "cell_type": "code",
   "execution_count": null,
   "metadata": {},
   "outputs": [],
   "source": [
    "new_root_string = ET.tostring(new_root)"
   ]
  },
  {
   "cell_type": "markdown",
   "metadata": {},
   "source": [
    "Теперь запишем строку на диск:"
   ]
  },
  {
   "cell_type": "code",
   "execution_count": null,
   "metadata": {},
   "outputs": [],
   "source": [
    "with open(\"new_menu.xml\", \"wb\") as f:\n",
    "    f.write(new_root_string)"
   ]
  },
  {
   "cell_type": "markdown",
   "metadata": {},
   "source": [
    "ElementTree вернул нам строку в байтовом представлении. Мы создали новый файл new_menu.xml и записали в него результат.\n",
    "\n",
    "Откроем и посмотрим, что получилось:\n",
    "```\n",
    "<menu><dish name=\"&#1050;&#1091;&#1088;&#1072;\">\n",
    "    &#1041;&#1077;&#1083;&#1086;&#1082;\n",
    "    </dish>\n",
    "    <dish />\n",
    "</menu>\n",
    "```"
   ]
  },
  {
   "cell_type": "markdown",
   "metadata": {},
   "source": [
    "Почему так получилось? Потому что мы не указали кодировку для записи. Но для bytes-формата нет возможности указать кодировку при записи. Что делать? Можно записать файл, используя сам класс ElementTree:"
   ]
  },
  {
   "cell_type": "code",
   "execution_count": null,
   "metadata": {},
   "outputs": [],
   "source": [
    "ET.ElementTree(new_root).write('new_menu_good.xml', encoding=\"utf-8\")  "
   ]
  },
  {
   "cell_type": "markdown",
   "metadata": {},
   "source": [
    "Теперь все хорошо :)\n",
    "\n",
    "\n",
    "<p style=\"font-size:130%\"> Задание 3.4.1</p>\n",
    "\n",
    "Выберите верные утверждения.\n",
    "\n",
    "- С помощью ElementTree.Element() можно создать корень дерева\n",
    "- С помощью ElementTree.Element() можно создать 10 корней для десяти разных деревьев\n",
    "- С помощью ElementTree.SubElement() можно создать узел-потомок только у корня\n",
    "- С помощью ElementTree.SubElement() можно создать узел-потомок у любого узла\n",
    "- С помощью ElementTree.SubElement() можно создать корень дерева\n",
    "\n",
    "\n",
    "<p style=\"font-size:130%\"> Задание 3.4.2\n",
    "\n",
    "Как записать XML файл в нужной нам кодировке на диск?\n",
    "\n",
    "- С помощью стандартных средств Python: open() и write()\n",
    "- С помощью метода ElementTree.write()\n",
    "- Оба варианты верны\n",
    "- Оба варианта неверны\n",
    "\n",
    "\n",
    "<p style=\"font-size:130%\"> Задание 3.4.3</p>\n",
    "\n",
    "Можно ли создать корень дерева, добавить ему два узла-потомка и каждому из них задать разные наборы атрибутов?\n",
    "\n",
    "- Да\n",
    "- Нет\n",
    "\n",
    "\n",
    "## 4. Пройдите тестирование\n",
    "\n",
    "<p style=\"font-size:130%\"> Задание 4.1</p>\n",
    "\n",
    "JSON-файл — это файл, написанный на языке Java Script:\n",
    "- верно\n",
    "- неверно\n",
    "\n",
    "\n",
    "<p style=\"font-size:130%\"> Задание 4.2</p>\n",
    "\n",
    "После десериализации JSON-файл в Python автоматически преобразуется в\n",
    "- список\n",
    "- словарь\n",
    "- строку\n",
    "- Pandas DataFrame\n",
    "- ndarray\n",
    "\n",
    "\n",
    "<p style=\"font-size:130%\"> Задание 4.3</p>\n",
    "\n",
    "Для преобразования словаря или списка в формат JSON можно использовать метод:\n",
    "- dump()\n",
    "- dumps()\n",
    "- оба метода\n",
    "- ни один из названных методов\n",
    "\n",
    "\n",
    "<p style=\"font-size:130%\"> Задание 4.4</p>\n",
    "\n",
    "Если вы прочитали Excel файл с помощью pd.read_excel(), какого типа будет получившийся объект?\n",
    "- np.ndarray\n",
    "- np.array\n",
    "- pd.DataFrame\n",
    "- pd.Series\n",
    "- pd.ExcelFile\n",
    "\n",
    "\n",
    "<p style=\"font-size:130%\"> Задание 4.5</p>\n",
    "\n",
    "С помощью чего можно прочитать Excel файл по ссылке (если он находится в интернете)?\n",
    "- Только pd.read_excel()\n",
    "- pd.read_html()\n",
    "- pd.read_link() совместно с pd.read_excel()\n",
    "- Только pd.read_link()\n",
    "\n",
    "\n",
    "<p style=\"font-size:130%\"> Задание 4.6</p>\n",
    "\n",
    "Выберите верное утверждение:\n",
    "- Добавить форматирование при записи Excel-файла можно с помощью метода to_excel()\n",
    "- Добавить форматирование при записи Excel-файла можно с помощью метода to_excel() совместно с - ExcelWriter()\n",
    "- Форматирование можно добавить только в CSV-файл\n",
    "\n",
    "\n",
    "<p style=\"font-size:130%\"> Задание 4.7</p>\n",
    "\n",
    "Выберите неверные утверждения:\n",
    "- XML — один из способов представления табличных данных\n",
    "- XML имеет жесткую структуру\n",
    "- XML, как и CSV, — формат представления данных в виде дерева\n",
    "- Средства работы с XML есть в стандартной библиотеке Python\n",
    "- Максимальное количество корней в XML файле не ограничено\n",
    "\n",
    "\n",
    "<p style=\"font-size:130%\"> Задание 4.8</p>\n",
    "\n",
    "Выберите корректный ответ:\n",
    "- Любой XML файл можно превратить в pd.DataFrame\n",
    "- Любой XML файл можно превратить в JSON\n",
    "- Оба утверждения верны\n",
    "- Оба утверждения неверны\n",
    "\n",
    "\n",
    "<p style=\"font-size:130%\"> Задание 4.9</p>\n",
    "\n",
    "Выберите верный ответ:\n",
    "- Значения в XML хранятся упорядоченно, их можно представить в виде OrderedDict\n",
    "- Значения в XML хранятся неупорядоченно, их нельзя представить в виде OrderedDict\n",
    "\n",
    "\n",
    "<p style=\"font-size:130%\"> Задание 4.10</p>\n",
    "\n",
    "Выберите верные утверждения:\n",
    "- Новое дерево XML можно построить с помощью методов ElementTree.Element() и ElementTree.SubElement()\n",
    "- Новое дерево XML можно построить с помощью метода ElementTree.SubElement()\n",
    "- В дереве XML может быть несколько корней и один лист\n",
    "- Дерево XML может иметь несколько листьев, но должно иметь один корень\n",
    "- Дерево XML можно записать на диск с помощью одного из методов класса Element"
   ]
  },
  {
   "cell_type": "markdown",
   "metadata": {},
   "source": [
    "<img src=\"../Img/banner-fa-49-2.png\">\n",
    "\n",
    "<p style=\"font-size:125%; text-align:center\">Финансовый университет</p>\n",
    "\n",
    "<p style=\"font-size:150%; text-align:center\">Тема 8. Работа с файлами - продолжение</p>\n",
    "<p style=\"font-size:125%; text-align:center\">Вебинар</p>\n",
    "\n",
    "<p>23 ноября 2021 года; вебинар</p>\n",
    "\n",
    "Студенты: Поток:УЦИ20-1<br>\n",
    "Преподаватель: Смирнов Михаил Викторович, доцент Департамента Анализа данных и машинного обучения Финансового университета при Правительстве Российской Федерации"
   ]
  },
  {
   "cell_type": "markdown",
   "metadata": {},
   "source": [
    "Кейс: Фильмотека\n",
    "\n",
    "На данном занятии изучим парсинг структурированных текстовых данных на примере фильмотеки movies.xml\n",
    "\n",
    "Изучим:\n",
    "\n",
    "- Использование функций пакета ElementTree\n",
    "- Редактирование XML\n",
    "- Создание XML\n",
    "\n",
    "Фрагмент XML-файла фильмотеки\n",
    "\n",
    "```\n",
    "<?xml version=\"1.0\"?>\n",
    "<collection>\n",
    "    <genre category=\"Action\">\n",
    "        <decade years=\"1980s\">\n",
    "            <movie favorite=\"True\" title=\"Indiana Jones: The raiders of the lost Ark\">\n",
    "                <format multiple=\"No\">DVD</format>\n",
    "                <year>1981</year>\n",
    "                <rating>PG</rating>\n",
    "                <description>\n",
    "                'Archaeologist and adventurer Indiana Jones \n",
    "                is hired by the U.S. government to find the Ark of the \n",
    "                Covenant before the Nazis.'\n",
    "                </description>\n",
    "            </movie>\n",
    "               <movie favorite=\"True\" title=\"THE KARATE KID\">\n",
    "               <format multiple=\"Yes\">DVD,Online</format>\n",
    "               <year>1984</year>\n",
    "               <rating>PG</rating>\n",
    "               <description>None provided.</description>\n",
    "            </movie>\n",
    "            <movie favorite=\"False\" title=\"Back 2 the Future\">\n",
    "               <format multiple=\"False\">Blu-ray</format>\n",
    "               <year>1985</year>\n",
    "               <rating>PG</rating>\n",
    "               <description>Marty McFly</description>\n",
    "            </movie>\n",
    "        </decade>\n",
    "        <decade years=\"1990s\">\n",
    "            <movie favorite=\"False\" title=\"X-Men\">\n",
    "               <format multiple=\"Yes\">dvd, digital</format>\n",
    "               <year>2000</year>\n",
    "               <rating>PG-13</rating>\n",
    "               <description>Two mutants come to a private academy for their kind whose resident superhero team must \n",
    "               oppose a terrorist organization with similar powers.</description>\n",
    "            </movie>\n",
    "\n",
    "```\n",
    "\n",
    "\n",
    "Ответьте на вопросы:\n",
    "\n",
    "- что является корнем\n",
    "- какие атрибуты содржит тег `<movie>`?\n",
    "- какие потомки у тега `<movie>`?\n"
   ]
  },
  {
   "cell_type": "code",
   "execution_count": 1,
   "metadata": {},
   "outputs": [],
   "source": [
    "# импортируем библиотеку\n",
    "import xml.etree.ElementTree as ET"
   ]
  },
  {
   "cell_type": "markdown",
   "metadata": {},
   "source": [
    "# Парсинг XML\n",
    "\n",
    "Сначала прочтем XML-файл"
   ]
  },
  {
   "cell_type": "code",
   "execution_count": 2,
   "metadata": {},
   "outputs": [],
   "source": [
    "tree = ET.parse('../Data/movies.xml')\n",
    "root = tree.getroot()"
   ]
  },
  {
   "cell_type": "markdown",
   "metadata": {},
   "source": [
    "Получим доступ к тегам и их атрибутам"
   ]
  },
  {
   "cell_type": "code",
   "execution_count": 3,
   "metadata": {},
   "outputs": [
    {
     "name": "stdout",
     "output_type": "stream",
     "text": [
      "collection\n",
      "{}\n"
     ]
    }
   ],
   "source": [
    "print(root.tag)\n",
    "print(root.attrib)"
   ]
  },
  {
   "cell_type": "markdown",
   "metadata": {},
   "source": [
    "Ответьте на вопрос:\n",
    "- Сколько атрибутов у корня?"
   ]
  },
  {
   "cell_type": "markdown",
   "metadata": {},
   "source": [
    "## Итерация элеметов XML-файла\n",
    "\n",
    "Элементы и вложенные элементы XML-файла являются итерируемыми объектами"
   ]
  },
  {
   "cell_type": "code",
   "execution_count": 4,
   "metadata": {},
   "outputs": [
    {
     "name": "stdout",
     "output_type": "stream",
     "text": [
      "genre {'category': 'Action'}\n",
      "genre {'category': 'Thriller'}\n",
      "genre {'category': 'Comedy'}\n"
     ]
    }
   ],
   "source": [
    "for child in root:\n",
    "    print(child.tag, child.attrib)"
   ]
  },
  {
   "cell_type": "markdown",
   "metadata": {},
   "source": [
    "Функция `root.iter()` позволяет провести итерацию по всем элементам дерева"
   ]
  },
  {
   "cell_type": "code",
   "execution_count": 5,
   "metadata": {
    "scrolled": true
   },
   "outputs": [
    {
     "name": "stdout",
     "output_type": "stream",
     "text": [
      "['collection', 'genre', 'decade', 'movie', 'format', 'year', 'rating', 'description', 'movie', 'format', 'year', 'rating', 'description', 'movie', 'format', 'year', 'rating', 'description', 'decade', 'movie', 'format', 'year', 'rating', 'description', 'movie', 'format', 'year', 'rating', 'description', 'movie', 'format', 'year', 'rating', 'description', 'genre', 'decade', 'movie', 'format', 'year', 'rating', 'description', 'decade', 'movie', 'format', 'year', 'rating', 'description', 'movie', 'format', 'year', 'rating', 'description', 'genre', 'decade', 'movie', 'format', 'year', 'rating', 'description', 'decade', 'movie', 'format', 'year', 'rating', 'description', 'movie', 'format', 'year', 'rating', 'description', 'decade', 'movie', 'format', 'year', 'rating', 'description', 'decade', 'movie', 'format', 'year', 'rating', 'description']\n"
     ]
    }
   ],
   "source": [
    "xml_elements=[elem.tag for elem in root.iter()]\n",
    "print(xml_elements)"
   ]
  },
  {
   "cell_type": "markdown",
   "metadata": {},
   "source": [
    "Такой результат даёт нам общее продставление об элементах XML-дерева, но ничего не говорит нам об иерархии элементов."
   ]
  },
  {
   "cell_type": "markdown",
   "metadata": {},
   "source": [
    "Метод `.tostring()` позволяет прочесть весь документ. Необходимо указать параметры кодирования и декодирования `encoding` и `decode`."
   ]
  },
  {
   "cell_type": "code",
   "execution_count": 6,
   "metadata": {},
   "outputs": [
    {
     "name": "stdout",
     "output_type": "stream",
     "text": [
      "<?xml version='1.0' encoding='utf8'?>\n",
      "<collection>\n",
      "    <genre category=\"Action\">\n",
      "        <decade years=\"1980s\">\n",
      "            <movie favorite=\"True\" title=\"Indiana Jones: The raiders of the lost Ark\">\n",
      "                <format multiple=\"No\">DVD</format>\n",
      "                <year>1981</year>\n",
      "                <rating>PG</rating>\n",
      "                <description>\n",
      "                'Archaeologist and adventurer Indiana Jones \n",
      "                is hired by the U.S. government to find the Ark of the \n",
      "                Covenant before the Nazis.'\n",
      "                </description>\n",
      "            </movie>\n",
      "               <movie favorite=\"True\" title=\"THE KARATE KID\">\n",
      "               <format multiple=\"Yes\">DVD,Online</format>\n",
      "               <year>1984</year>\n",
      "               <rating>PG</rating>\n",
      "               <description>None provided.</description>\n",
      "            </movie>\n",
      "            <movie favorite=\"False\" title=\"Back 2 the Future\">\n",
      "               <format multiple=\"False\">Blu-ray</format>\n",
      "               <year>1985</year>\n",
      "               <rating>PG</rating>\n",
      "               <description>Marty McFly</description>\n",
      "            </movie>\n",
      "        </decade>\n",
      "        <decade years=\"1990s\">\n",
      "            <movie favorite=\"False\" title=\"X-Men\">\n",
      "               <format multiple=\"Yes\">dvd, digital</format>\n",
      "               <year>2000</year>\n",
      "               <rating>PG-13</rating>\n",
      "               <description>Two mutants come to a private academy for their kind whose resident superhero team must \n",
      "               oppose a terrorist organization with similar powers.</description>\n",
      "            </movie>\n",
      "            <movie favorite=\"True\" title=\"Batman Returns\">\n",
      "               <format multiple=\"No\">VHS</format>\n",
      "               <year>1992</year>\n",
      "               <rating>PG13</rating>\n",
      "               <description>NA.</description>\n",
      "            </movie>\n",
      "               <movie favorite=\"False\" title=\"Reservoir Dogs\">\n",
      "               <format multiple=\"No\">Online</format>\n",
      "               <year>1992</year>\n",
      "               <rating>R</rating>\n",
      "               <description>WhAtEvER I Want!!!?!</description>\n",
      "            </movie>\n",
      "        </decade>    \n",
      "    </genre>\n",
      "\n",
      "    <genre category=\"Thriller\">\n",
      "        <decade years=\"1970s\">\n",
      "            <movie favorite=\"False\" title=\"ALIEN\">\n",
      "                <format multiple=\"Yes\">DVD</format>\n",
      "                <year>1979</year>\n",
      "                <rating>R</rating>\n",
      "                <description>\"\"\"\"\"\"\"\"\"</description>\n",
      "            </movie>\n",
      "        </decade>\n",
      "        <decade years=\"1980s\">\n",
      "            <movie favorite=\"True\" title=\"Ferris Bueller's Day Off\">\n",
      "                <format multiple=\"No\">DVD</format>\n",
      "                <year>1986</year>\n",
      "                <rating>PG13</rating>\n",
      "                <description>Funny movie about a funny guy</description>\n",
      "            </movie>\n",
      "            <movie favorite=\"FALSE\" title=\"American Psycho\">\n",
      "                <format multiple=\"No\">blue-ray</format>\n",
      "                <year>2000</year>\n",
      "                <rating>Unrated</rating>\n",
      "                <description>psychopathic Bateman</description>\n",
      "            </movie>\n",
      "        </decade>\n",
      "    </genre>\n",
      "\t\n",
      "\t\n",
      "    <genre category=\"Comedy\">\n",
      "        <decade years=\"1960s\">\n",
      "            <movie favorite=\"False\" title=\"Batman: The Movie\">\n",
      "                <format multiple=\"Yes\">DVD,VHS</format>\n",
      "                <year>1966</year>\n",
      "                <rating>PG</rating>\n",
      "                <description>What a joke!</description>\n",
      "            </movie>\n",
      "        </decade>\n",
      "        <decade years=\"2010s\">\n",
      "            <movie favorite=\"True\" title=\"Easy A\">\n",
      "                <format multiple=\"No\">DVD</format>\n",
      "                <year>2010</year>\n",
      "                <rating>PG--13</rating>\n",
      "                <description>Emma Stone = Hester Prynne</description>\n",
      "            </movie>\n",
      "            <movie favorite=\"True\" title=\"Dinner for SCHMUCKS\">\n",
      "                <format multiple=\"Yes\">DVD,digital,Netflix</format>\n",
      "                <year>2011</year>\n",
      "                <rating>Unrated</rating>\n",
      "                <description>Tim (Rudd) is a rising executive\n",
      "                 who “succeeds” in finding the perfect guest, \n",
      "                 IRS employee Barry (Carell), for his boss’ monthly event, \n",
      "                 a so-called “dinner for idiots,” which offers certain \n",
      "                 advantages to the exec who shows up with the biggest buffoon.\n",
      "                 </description>\n",
      "            </movie>\n",
      "        </decade>\n",
      "        <decade years=\"1980s\">\n",
      "            <movie favorite=\"False\" title=\"Ghostbusters\">\n",
      "                <format multiple=\"No\">Online,VHS</format>\n",
      "                <year>1984</year>\n",
      "                <rating>PG</rating>\n",
      "                <description>Who ya gonna call?</description>\n",
      "            </movie>\n",
      "        </decade>\n",
      "        <decade years=\"1990s\">\n",
      "            <movie favorite=\"True\" title=\"Robin Hood: Prince of Thieves\">\n",
      "                <format multiple=\"No\">Blu_Ray</format>\n",
      "                <year>1991</year>\n",
      "                <rating>Unknown</rating>\n",
      "                <description>Robin Hood slaying</description>\n",
      "            </movie>\n",
      "        </decade>\n",
      "    </genre>\n",
      "</collection>\n"
     ]
    }
   ],
   "source": [
    "print(ET.tostring(root, encoding='utf8').decode('utf8'))"
   ]
  },
  {
   "cell_type": "markdown",
   "metadata": {},
   "source": [
    "После общего ознакомления с содержимым, мы можем использовать root.iter() для более подробного изучения конкретных элементов. Например, узнаем, какие атрибуты содержатся в тэгах `<movie>`."
   ]
  },
  {
   "cell_type": "code",
   "execution_count": 7,
   "metadata": {
    "scrolled": true
   },
   "outputs": [
    {
     "name": "stdout",
     "output_type": "stream",
     "text": [
      "{'favorite': 'True', 'title': 'Indiana Jones: The raiders of the lost Ark'}\n",
      "{'favorite': 'True', 'title': 'THE KARATE KID'}\n",
      "{'favorite': 'False', 'title': 'Back 2 the Future'}\n",
      "{'favorite': 'False', 'title': 'X-Men'}\n",
      "{'favorite': 'True', 'title': 'Batman Returns'}\n",
      "{'favorite': 'False', 'title': 'Reservoir Dogs'}\n",
      "{'favorite': 'False', 'title': 'ALIEN'}\n",
      "{'favorite': 'True', 'title': \"Ferris Bueller's Day Off\"}\n",
      "{'favorite': 'FALSE', 'title': 'American Psycho'}\n",
      "{'favorite': 'False', 'title': 'Batman: The Movie'}\n",
      "{'favorite': 'True', 'title': 'Easy A'}\n",
      "{'favorite': 'True', 'title': 'Dinner for SCHMUCKS'}\n",
      "{'favorite': 'False', 'title': 'Ghostbusters'}\n",
      "{'favorite': 'True', 'title': 'Robin Hood: Prince of Thieves'}\n"
     ]
    }
   ],
   "source": [
    "movies=[movie.attrib for movie in root.iter('movie')]\n",
    "for m in movies:\n",
    "    print(m)"
   ]
  },
  {
   "cell_type": "markdown",
   "metadata": {},
   "source": [
    "Можно заметить, что фильмы введены по-разному. Это связано с тем, что XML-файл в разное время наполнялся разными сотрудниками.\n",
    "\n",
    "## Выражения XPath\n",
    "\n",
    "Часто бывает так, что у элементов нет атрибутов, но есть только текстовое содержимое. Получить его можно с помощью `.text`. Распечатаем содержимое всех элементов `<description>`"
   ]
  },
  {
   "cell_type": "code",
   "execution_count": 8,
   "metadata": {},
   "outputs": [
    {
     "name": "stdout",
     "output_type": "stream",
     "text": [
      "\n",
      "                'Archaeologist and adventurer Indiana Jones \n",
      "                is hired by the U.S. government to find the Ark of the \n",
      "                Covenant before the Nazis.'\n",
      "                \n",
      "None provided.\n",
      "Marty McFly\n",
      "Two mutants come to a private academy for their kind whose resident superhero team must \n",
      "               oppose a terrorist organization with similar powers.\n",
      "NA.\n",
      "WhAtEvER I Want!!!?!\n",
      "\"\"\"\"\"\"\"\"\"\n",
      "Funny movie about a funny guy\n",
      "psychopathic Bateman\n",
      "What a joke!\n",
      "Emma Stone = Hester Prynne\n",
      "Tim (Rudd) is a rising executive\n",
      "                 who “succeeds” in finding the perfect guest, \n",
      "                 IRS employee Barry (Carell), for his boss’ monthly event, \n",
      "                 a so-called “dinner for idiots,” which offers certain \n",
      "                 advantages to the exec who shows up with the biggest buffoon.\n",
      "                 \n",
      "Who ya gonna call?\n",
      "Robin Hood slaying\n"
     ]
    }
   ],
   "source": [
    "for desc in root.iter('description'):\n",
    "    print(desc.text)"
   ]
  },
  {
   "cell_type": "markdown",
   "metadata": {},
   "source": [
    "XPath является языком запросов. XPath означает XML Path Language и, как следует из названия, использует \"path like\" syntax для идентификации узлов и навигации по узлам XML документа.\n",
    "\n",
    "В ElementTree есть функция `.findall()`, которая позволяет исследовать непосредственного потомка элемента. Язык XPath позволяет  детализировать поиск. Найдем фильмы, вышедшие в 1992 году."
   ]
  },
  {
   "cell_type": "code",
   "execution_count": 9,
   "metadata": {
    "scrolled": true
   },
   "outputs": [
    {
     "name": "stdout",
     "output_type": "stream",
     "text": [
      "{'favorite': 'True', 'title': 'Batman Returns'}\n",
      "{'favorite': 'False', 'title': 'Reservoir Dogs'}\n"
     ]
    }
   ],
   "source": [
    "for movie in root.findall(\"./genre/decade/movie/[year='1992']\"):\n",
    "    print(movie.attrib)"
   ]
  },
  {
   "cell_type": "markdown",
   "metadata": {},
   "source": [
    "Функция .findall () всегда начинается с указанного элемента. Этот тип функции чрезвычайно эффективен для «поиска и замены». Вы даже можете искать по атрибутам!\n",
    "\n",
    "Теперь распечатаем только те фильмы, которые доступны в нескольких форматах (атрибут)."
   ]
  },
  {
   "cell_type": "code",
   "execution_count": 10,
   "metadata": {},
   "outputs": [
    {
     "name": "stdout",
     "output_type": "stream",
     "text": [
      "{'multiple': 'Yes'}\n",
      "{'multiple': 'Yes'}\n",
      "{'multiple': 'Yes'}\n",
      "{'multiple': 'Yes'}\n",
      "{'multiple': 'Yes'}\n"
     ]
    }
   ],
   "source": [
    "for movie in root.findall(\"./genre/decade/movie/format/[@multiple='Yes']\"):\n",
    "    print(movie.attrib)"
   ]
  },
  {
   "cell_type": "markdown",
   "metadata": {},
   "source": [
    "Подумайте, почему в этом случае оператор печати возвращает «Да». Подумайте, как определяется цикл for. Перепишите этот цикл, чтобы вместо распечатать названия фильмов? Подсказка: используйте `...` внутри XPath, чтобы вернуть родительский элемент текущего элемента.\n",
    "```\n",
    "for movie in root.findall(\"./genre/decade/movie/format[@multiple='Yes']...\"):\n",
    "    print(movie.attrib)\n",
    "```"
   ]
  },
  {
   "cell_type": "code",
   "execution_count": 12,
   "metadata": {},
   "outputs": [],
   "source": [
    "# Ваш код здесь\n",
    "\n"
   ]
  },
  {
   "cell_type": "markdown",
   "metadata": {},
   "source": [
    "Ответьте на вопрос. Что является родительским элементом для элемента `<year>`?"
   ]
  },
  {
   "cell_type": "markdown",
   "metadata": {},
   "source": [
    "## Редактирование XML документа\n",
    "\n",
    "Названия XML-документа оформлены по-разному. Еще раз распечатаем атрибуты тегов *movie*."
   ]
  },
  {
   "cell_type": "code",
   "execution_count": null,
   "metadata": {},
   "outputs": [],
   "source": [
    "for movie in root.iter('movie'):\n",
    "    print(movie.attrib)"
   ]
  },
  {
   "cell_type": "markdown",
   "metadata": {},
   "source": [
    "Исправим цифру «2» в Back 2 the Future. Это проблема поиска и замены. Напишем код, чтобы найти заголовок \"Back 2 the Future\" и сохраним его как переменную:"
   ]
  },
  {
   "cell_type": "code",
   "execution_count": null,
   "metadata": {},
   "outputs": [],
   "source": [
    "b2tf = root.find(\"./genre/decade/movie[@title='Back 2 the Future']\")\n",
    "print(b2tf)"
   ]
  },
  {
   "cell_type": "markdown",
   "metadata": {},
   "source": [
    "Метод `.find()` вернул элемент дерева. Обратимся к атрибуту элемента."
   ]
  },
  {
   "cell_type": "code",
   "execution_count": null,
   "metadata": {},
   "outputs": [],
   "source": [
    "b2tf.attrib"
   ]
  },
  {
   "cell_type": "markdown",
   "metadata": {},
   "source": [
    "Присвоим атрибуту `title` новое значение."
   ]
  },
  {
   "cell_type": "code",
   "execution_count": null,
   "metadata": {},
   "outputs": [],
   "source": [
    "b2tf.attrib[\"title\"]=\"Back to the Future\"\n",
    "print(b2tf.attrib)"
   ]
  },
  {
   "cell_type": "markdown",
   "metadata": {},
   "source": [
    "Запишем изменения обратно в XML, чтобы они навсегда остались в документе."
   ]
  },
  {
   "cell_type": "code",
   "execution_count": null,
   "metadata": {},
   "outputs": [],
   "source": [
    "tree.write(\"../Data/movies_improved.xml\")"
   ]
  },
  {
   "cell_type": "markdown",
   "metadata": {},
   "source": [
    "Еще раз распечатаем атрибуты тегов movie"
   ]
  },
  {
   "cell_type": "code",
   "execution_count": null,
   "metadata": {},
   "outputs": [],
   "source": [
    "tree = ET.parse('../Data/movies_improved.xml')\n",
    "root = tree.getroot()\n",
    "\n",
    "for movie in root.iter('movie'):\n",
    "    print(movie.attrib)"
   ]
  }
 ],
 "metadata": {
  "kernelspec": {
   "display_name": "Python 3",
   "language": "python",
   "name": "python3"
  },
  "language_info": {
   "codemirror_mode": {
    "name": "ipython",
    "version": 3
   },
   "file_extension": ".py",
   "mimetype": "text/x-python",
   "name": "python",
   "nbconvert_exporter": "python",
   "pygments_lexer": "ipython3",
   "version": "3.7.6"
  }
 },
 "nbformat": 4,
 "nbformat_minor": 4
}
